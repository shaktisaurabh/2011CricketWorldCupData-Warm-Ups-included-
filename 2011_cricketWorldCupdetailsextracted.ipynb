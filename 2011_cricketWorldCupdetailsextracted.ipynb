{
 "cells": [
  {
   "cell_type": "code",
   "execution_count": 1,
   "id": "cc7831f0",
   "metadata": {},
   "outputs": [],
   "source": [
    "import requests \n",
    "import pandas as pd\n",
    "from bs4 import BeautifulSoup "
   ]
  },
  {
   "cell_type": "code",
   "execution_count": 2,
   "id": "ddaba901",
   "metadata": {},
   "outputs": [],
   "source": [
    "headers = {\n",
    "    \"User-Agent\": \"Mozilla/5.0 (Windows NT 10.0; Win64; x64) AppleWebKit/537.36 (KHTML, like Gecko) Chrome/58.0.3029.110 Safari/537.3\"\n",
    "}\n",
    "url=\"https://en.wikipedia.org/wiki/2011_Cricket_World_Cup\""
   ]
  },
  {
   "cell_type": "code",
   "execution_count": 4,
   "id": "51101b03",
   "metadata": {},
   "outputs": [],
   "source": [
    "res=requests.get(url,headers=headers).text\n",
    "soup=BeautifulSoup(res,'lxml')"
   ]
  },
  {
   "cell_type": "code",
   "execution_count": 5,
   "id": "e62d34e5",
   "metadata": {},
   "outputs": [
    {
     "name": "stdout",
     "output_type": "stream",
     "text": [
      "['12 February 2011 ', '12 February 2011 ', '12 February 2011 (D/N)', '12 February 2011 (D/N)', '12 February 2011 (D/N)', '13 February 2011 (D/N)', '15 February 2011 ', '15 February 2011 ', '15 February 2011 (D/N)', '15 February 2011 (D/N)', '15 February 2011 (D/N)', '16 February 2011 ', '16 February 2011 (D/N)', '18 February 2011 (D/N)', '20 February 2011 ', '20 February 2011 (D/N)', '21 February 2011 (D/N)', '23 February 2011 (D/N)', '25 February 2011 ', '26 February 2011 (D/N)', '28 February 2011 ', '1 March 2011 (D/N)', '3 March 2011 (D/N)', '4 March 2011 (D/N)', '5 March 2011 (D/N)', '7 March 2011 (D/N)', '8 March 2011 (D/N)', '10 March 2011 (D/N)', '13 March 2011 (D/N)', '13 March 2011 (D/N)', '14 March 2011 (D/N)', '16 March 2011 (D/N)', '18 March 2011 (D/N)', '19 March 2011 (D/N)', '20 March 2011 ', '19 February 2011 (D/N)', '22 February 2011 (D/N)', '24 February 2011 (D/N)', '25 February 2011 (D/N)', '27 February 2011 (D/N)', '28 February 2011 (D/N)', '2 March 2011 (D/N)', '3 March 2011 ', '4 March 2011 (D/N)', '6 March 2011 ', '6 March 2011 (D/N)', '9 March 2011 (D/N)', '11 March 2011 ', '11 March 2011 (D/N)', '12 March 2011 (D/N)', '14 March 2011 (D/N)', '15 March 2011 (D/N)', '17 March 2011 (D/N)', '18 March 2011 ', '19 March 2011 ', '20 March 2011 (D/N)', '23 March 2011 (D/N)', '24 March 2011 (D/N)', '25 March 2011 (D/N)', '26 March 2011 (D/N)', '29 March 2011 ', '30 March 2011 (D/N)', '2 April 2011 (D/N)']\n"
     ]
    }
   ],
   "source": [
    "target_div=soup.find_all('div',style='text-align:right')\n",
    "date_of_match=[]\n",
    "for ch in target_div:\n",
    "    date_of_match.append(ch.text)\n",
    "# print(date_of_match)\n",
    "def conda1(amb):\n",
    "    amb=amb.replace('Scorecard','')\n",
    "    amb=amb.replace('scorecard','')\n",
    "    return amb\n",
    "date_of_match=list(map(conda1,date_of_match))\n",
    "print(date_of_match)\n"
   ]
  },
  {
   "cell_type": "code",
   "execution_count": 7,
   "id": "3bd44365",
   "metadata": {},
   "outputs": [
    {
     "name": "stdout",
     "output_type": "stream",
     "text": [
      "[[<a class=\"mw-redirect\" href=\"/wiki/2011_Cricket_World_Cup_warm-up_matches#West_Indies_vs_Kenya\" title=\"2011 Cricket World Cup warm-up matches\">West Indies won by 61 runs</a>], [<a class=\"mw-redirect\" href=\"/wiki/2011_Cricket_World_Cup_warm-up_matches#Sri_Lanka_vs_Netherlands\" title=\"2011 Cricket World Cup warm-up matches\">Sri Lanka won by 156 runs</a>], [<a class=\"mw-redirect\" href=\"/wiki/2011_Cricket_World_Cup_warm-up_matches#Canada_vs_Bangladesh\" title=\"2011 Cricket World Cup warm-up matches\">Bangladesh won by 9 wickets</a>], [<a class=\"mw-redirect\" href=\"/wiki/2011_Cricket_World_Cup_warm-up_matches#New_Zealand_vs_Ireland\" title=\"2011 Cricket World Cup warm-up matches\">New Zealand won by 32 runs</a>], [<a class=\"mw-redirect\" href=\"/wiki/2011_Cricket_World_Cup_warm-up_matches#Zimbabwe_vs_South_Africa\" title=\"2011 Cricket World Cup warm-up matches\">South Africa won by 8 wickets</a>], [<a class=\"mw-redirect\" href=\"/wiki/2011_Cricket_World_Cup_warm-up_matches#India_vs_Australia\" title=\"2011 Cricket World Cup warm-up matches\">India won by 38 runs</a>], [<a class=\"mw-redirect\" href=\"/wiki/2011_Cricket_World_Cup_warm-up_matches#Zimbabwe_vs_Ireland\" title=\"2011 Cricket World Cup warm-up matches\">Ireland won by 4 wickets</a>], [<a class=\"mw-redirect\" href=\"/wiki/2011_Cricket_World_Cup_warm-up_matches#Kenya_vs_Netherlands\" title=\"2011 Cricket World Cup warm-up matches\">Netherlands won by 2 wickets</a>], [<a class=\"mw-redirect\" href=\"/wiki/2011_Cricket_World_Cup_warm-up_matches#Pakistan_vs_Bangladesh\" title=\"2011 Cricket World Cup warm-up matches\">Pakistan won by 89 runs</a>], [<a class=\"mw-redirect\" href=\"/wiki/2011_Cricket_World_Cup_warm-up_matches#Australia_vs_South_Africa\" title=\"2011 Cricket World Cup warm-up matches\">South Africa won by 9 wickets</a>], [<a class=\"mw-redirect\" href=\"/wiki/2011_Cricket_World_Cup_warm-up_matches#West_Indies_vs_Sri_Lanka\" title=\"2011 Cricket World Cup warm-up matches\">Sri Lanka won by 4 wickets</a>], [<a class=\"mw-redirect\" href=\"/wiki/2011_Cricket_World_Cup_warm-up_matches#England_vs_Canada\" title=\"2011 Cricket World Cup warm-up matches\">England won by 16 runs</a>], [<a class=\"mw-redirect\" href=\"/wiki/2011_Cricket_World_Cup_warm-up_matches#India_vs_New_Zealand\" title=\"2011 Cricket World Cup warm-up matches\">India won by 117 runs</a>], [<a class=\"mw-redirect\" href=\"/wiki/2011_Cricket_World_Cup_warm-up_matches#England_vs_Pakistan\" title=\"2011 Cricket World Cup warm-up matches\">England won by 67 runs</a>], [<a href=\"/wiki/2011_Cricket_World_Cup_Group_A#Kenya_vs_New_Zealand\" title=\"2011 Cricket World Cup Group A\">New Zealand won by 10 wickets</a>], [<a href=\"/wiki/2011_Cricket_World_Cup_Group_A#Sri_Lanka_vs_Canada\" title=\"2011 Cricket World Cup Group A\">Sri Lanka won by 210 runs</a>], [<a href=\"/wiki/2011_Cricket_World_Cup_Group_A#Australia_vs_Zimbabwe\" title=\"2011 Cricket World Cup Group A\">Australia won by 91 runs</a>], [<a href=\"/wiki/2011_Cricket_World_Cup_Group_A#Kenya_vs_Pakistan\" title=\"2011 Cricket World Cup Group A\">Pakistan won by 205 runs</a>], [<a href=\"/wiki/2011_Cricket_World_Cup_Group_A#Australia_vs_New_Zealand\" title=\"2011 Cricket World Cup Group A\">Australia won by 7 wickets</a>], [<a href=\"/wiki/2011_Cricket_World_Cup_Group_A#Pakistan_vs_Sri_Lanka\" title=\"2011 Cricket World Cup Group A\">Pakistan won by 11 runs</a>], [<a href=\"/wiki/2011_Cricket_World_Cup_Group_A#Zimbabwe_vs_Canada\" title=\"2011 Cricket World Cup Group A\">Zimbabwe won by 175 runs</a>], [<a href=\"/wiki/2011_Cricket_World_Cup_Group_A#Sri_Lanka_vs_Kenya\" title=\"2011 Cricket World Cup Group A\">Sri Lanka won by 9 wickets</a>], [<a href=\"/wiki/2011_Cricket_World_Cup_Group_A#Canada_vs_Pakistan\" title=\"2011 Cricket World Cup Group A\">Pakistan won by 46 runs</a>], [<a href=\"/wiki/2011_Cricket_World_Cup_Group_A#New_Zealand_vs_Zimbabwe\" title=\"2011 Cricket World Cup Group A\">New Zealand won by 10 wickets</a>], [<a href=\"/wiki/2011_Cricket_World_Cup_Group_A#Sri_Lanka_vs_Australia\" title=\"2011 Cricket World Cup Group A\">No result</a>], [<a href=\"/wiki/2011_Cricket_World_Cup_Group_A#Kenya_vs_Canada\" title=\"2011 Cricket World Cup Group A\">Canada won by 5 wickets</a>], [<a href=\"/wiki/2011_Cricket_World_Cup_Group_A#New_Zealand_vs_Canada\" title=\"2011 Cricket World Cup Group A\">New Zealand won by 110 runs</a>], [<a href=\"/wiki/2011_Cricket_World_Cup_Group_A#Sri_Lanka_vs_Zimbabwe\" title=\"2011 Cricket World Cup Group A\">Sri Lanka won by 139 runs</a>], [<a href=\"/wiki/2011_Cricket_World_Cup_Group_A#New_Zealand_vs_Canada\" title=\"2011 Cricket World Cup Group A\">New Zealand won by 97 runs</a>], [<a href=\"/wiki/2011_Cricket_World_Cup_Group_A#Australia_vs_Kenya\" title=\"2011 Cricket World Cup Group A\">Australia won by 60 runs</a>], [<a href=\"/wiki/2011_Cricket_World_Cup_Group_A#Pakistan_vs_Zimbabwe\" title=\"2011 Cricket World Cup Group A\">Pakistan won by 7 wickets</a>], [<a href=\"/wiki/2011_Cricket_World_Cup_Group_A#Australia_vs_Canada\" title=\"2011 Cricket World Cup Group A\">Australia won by 7 wickets</a>], [<a href=\"/wiki/2011_Cricket_World_Cup_Group_A#New_Zealand_vs_Canada\" title=\"2011 Cricket World Cup Group A\">Sri Lanka won by 112 runs</a>], [<a href=\"/wiki/2011_Cricket_World_Cup_Group_A#Pakistan_vs_Australia\" title=\"2011 Cricket World Cup Group A\">Pakistan won by 4 wickets</a>], [<a href=\"/wiki/2011_Cricket_World_Cup_Group_A#Kenya_vs_Zimbabwe\" title=\"2011 Cricket World Cup Group A\">Zimbabwe won by 161 runs</a>], [<a href=\"/wiki/2011_Cricket_World_Cup_Group_B#India_vs_Bangladesh\" title=\"2011 Cricket World Cup Group B\">India won by 87 runs</a>], [<a href=\"/wiki/2011_Cricket_World_Cup_Group_B#Netherlands_vs_England\" title=\"2011 Cricket World Cup Group B\">England won by 6 wickets</a>], [<a href=\"/wiki/2011_Cricket_World_Cup_Group_B#West_Indies_vs_South_Africa\" title=\"2011 Cricket World Cup Group B\">South Africa won by 7 wickets</a>], [<a href=\"/wiki/2011_Cricket_World_Cup_Group_B#Bangladesh_vs_Ireland\" title=\"2011 Cricket World Cup Group B\">Bangladesh won by 27 runs</a>], [<a href=\"/wiki/2011_Cricket_World_Cup_Group_B#India_vs_England\" title=\"2011 Cricket World Cup Group B\">Match Tied</a>], [<a href=\"/wiki/2011_Cricket_World_Cup_Group_B#West_Indies_vs_Netherlands\" title=\"2011 Cricket World Cup Group B\">West Indies won by 215 runs</a>], [<a href=\"/wiki/2011_Cricket_World_Cup_Group_B#England_vs_Ireland\" title=\"2011 Cricket World Cup Group B\">Ireland won by 3 wickets</a>], [<a href=\"/wiki/2011_Cricket_World_Cup_Group_B#South_Africa_vs_Netherlands\" title=\"2011 Cricket World Cup Group B\">South Africa won by 231 runs</a>], [<a href=\"/wiki/2011_Cricket_World_Cup_Group_B#Bangladesh_vs_West_Indies\" title=\"2011 Cricket World Cup Group B\">West Indies won by 9 wickets</a>], [<a href=\"/wiki/2011_Cricket_World_Cup_Group_B#England_vs_South_Africa\" title=\"2011 Cricket World Cup Group B\">England won by 6 runs</a>], [<a href=\"/wiki/2011_Cricket_World_Cup_Group_B#India_vs_Ireland\" title=\"2011 Cricket World Cup Group B\">India won by 5 wickets</a>], [<a href=\"/wiki/2011_Cricket_World_Cup_Group_B#India_vs_Netherlands\" title=\"2011 Cricket World Cup Group B\">India won by 5 wickets</a>], [<a href=\"/wiki/2011_Cricket_World_Cup_Group_B#Ireland_vs_West_Indies\" title=\"2011 Cricket World Cup Group B\">West Indies won by 44 runs</a>], [<a href=\"/wiki/2011_Cricket_World_Cup_Group_B#Bangladesh_vs_England\" title=\"2011 Cricket World Cup Group B\">Bangladesh won by 2 wickets</a>], [<a href=\"/wiki/2011_Cricket_World_Cup_Group_B#India_vs_South_Africa\" title=\"2011 Cricket World Cup Group B\">South Africa won by 3 wickets (2 balls left)</a>], [<a href=\"/wiki/2011_Cricket_World_Cup_Group_B#Bangladesh_vs_Netherlands\" title=\"2011 Cricket World Cup Group B\">Bangladesh won by 6 wickets</a>], [<a href=\"/wiki/2011_Cricket_World_Cup_Group_B#Ireland_vs_South_Africa\" title=\"2011 Cricket World Cup Group B\">South Africa won by 131 runs</a>], [<a href=\"/wiki/2011_Cricket_World_Cup_Group_B#England_vs_West_Indies\" title=\"2011 Cricket World Cup Group B\">England won by 18 runs</a>], [<a href=\"/wiki/2011_Cricket_World_Cup_Group_B#Ireland_vs_Netherlands\" title=\"2011 Cricket World Cup Group B\">Ireland won by 6 wickets</a>], [<a href=\"/wiki/2011_Cricket_World_Cup_Group_B#Bangladesh_vs_South_Africa\" title=\"2011 Cricket World Cup Group B\">South Africa won by 206 runs</a>], [<a href=\"/wiki/2011_Cricket_World_Cup_Group_B#India_vs_West_Indies\" title=\"2011 Cricket World Cup Group B\">India won by 80 runs</a>], [<a href=\"/wiki/2011_Cricket_World_Cup_knockout_stage#Quarter-finals\" title=\"2011 Cricket World Cup knockout stage\">Pakistan won by 10 wickets</a>], [<a href=\"/wiki/2011_Cricket_World_Cup_knockout_stage#Quarter-finals\" title=\"2011 Cricket World Cup knockout stage\">India won by 5 wickets</a>], [<a href=\"/wiki/2011_Cricket_World_Cup_knockout_stage#Quarter-finals\" title=\"2011 Cricket World Cup knockout stage\">New Zealand won by 49 runs</a>], [<a href=\"/wiki/2011_Cricket_World_Cup_knockout_stage#Quarter-finals\" title=\"2011 Cricket World Cup knockout stage\">Sri Lanka won by 10 wickets</a>], [<a href=\"/wiki/2011_Cricket_World_Cup_knockout_stage#Semi-finals\" title=\"2011 Cricket World Cup knockout stage\">Sri Lanka won by 5 wickets</a>], [<a href=\"/wiki/2011_Cricket_World_Cup_knockout_stage#Semi-finals\" title=\"2011 Cricket World Cup knockout stage\">India won by 29 runs</a>], [<a href=\"/wiki/2011_Cricket_World_Cup_knockout_stage#Final\" title=\"2011 Cricket World Cup knockout stage\">India won by 6 wickets</a>]]\n"
     ]
    }
   ],
   "source": [
    "import re \n",
    "import requests\n",
    "from bs4 import BeautifulSoup \n",
    "res=requests.get(url,headers=headers).text \n",
    "soup=BeautifulSoup(res,'lxml')\n",
    "teamo=soup.find_all('div',style=re.compile(r\"^width: 100%;[\\s\\w;:-]+\"))\n",
    "all_res=[]\n",
    "for k in teamo:\n",
    "    q=k.find_all('a',title=re.compile(r\"^2011 Cricket World Cup[a-zA-Z\\s]+\"))\n",
    "    all_res.append(q)\n",
    "print(all_res)"
   ]
  },
  {
   "cell_type": "code",
   "execution_count": 8,
   "id": "323d14d5",
   "metadata": {},
   "outputs": [
    {
     "data": {
      "text/plain": [
       "[<a class=\"mw-redirect\" href=\"/wiki/2011_Cricket_World_Cup_warm-up_matches#West_Indies_vs_Kenya\" title=\"2011 Cricket World Cup warm-up matches\">West Indies won by 61 runs</a>,\n",
       " <a class=\"mw-redirect\" href=\"/wiki/2011_Cricket_World_Cup_warm-up_matches#Sri_Lanka_vs_Netherlands\" title=\"2011 Cricket World Cup warm-up matches\">Sri Lanka won by 156 runs</a>,\n",
       " <a class=\"mw-redirect\" href=\"/wiki/2011_Cricket_World_Cup_warm-up_matches#Canada_vs_Bangladesh\" title=\"2011 Cricket World Cup warm-up matches\">Bangladesh won by 9 wickets</a>,\n",
       " <a class=\"mw-redirect\" href=\"/wiki/2011_Cricket_World_Cup_warm-up_matches#New_Zealand_vs_Ireland\" title=\"2011 Cricket World Cup warm-up matches\">New Zealand won by 32 runs</a>,\n",
       " <a class=\"mw-redirect\" href=\"/wiki/2011_Cricket_World_Cup_warm-up_matches#Zimbabwe_vs_South_Africa\" title=\"2011 Cricket World Cup warm-up matches\">South Africa won by 8 wickets</a>,\n",
       " <a class=\"mw-redirect\" href=\"/wiki/2011_Cricket_World_Cup_warm-up_matches#India_vs_Australia\" title=\"2011 Cricket World Cup warm-up matches\">India won by 38 runs</a>,\n",
       " <a class=\"mw-redirect\" href=\"/wiki/2011_Cricket_World_Cup_warm-up_matches#Zimbabwe_vs_Ireland\" title=\"2011 Cricket World Cup warm-up matches\">Ireland won by 4 wickets</a>,\n",
       " <a class=\"mw-redirect\" href=\"/wiki/2011_Cricket_World_Cup_warm-up_matches#Kenya_vs_Netherlands\" title=\"2011 Cricket World Cup warm-up matches\">Netherlands won by 2 wickets</a>,\n",
       " <a class=\"mw-redirect\" href=\"/wiki/2011_Cricket_World_Cup_warm-up_matches#Pakistan_vs_Bangladesh\" title=\"2011 Cricket World Cup warm-up matches\">Pakistan won by 89 runs</a>,\n",
       " <a class=\"mw-redirect\" href=\"/wiki/2011_Cricket_World_Cup_warm-up_matches#Australia_vs_South_Africa\" title=\"2011 Cricket World Cup warm-up matches\">South Africa won by 9 wickets</a>,\n",
       " <a class=\"mw-redirect\" href=\"/wiki/2011_Cricket_World_Cup_warm-up_matches#West_Indies_vs_Sri_Lanka\" title=\"2011 Cricket World Cup warm-up matches\">Sri Lanka won by 4 wickets</a>,\n",
       " <a class=\"mw-redirect\" href=\"/wiki/2011_Cricket_World_Cup_warm-up_matches#England_vs_Canada\" title=\"2011 Cricket World Cup warm-up matches\">England won by 16 runs</a>,\n",
       " <a class=\"mw-redirect\" href=\"/wiki/2011_Cricket_World_Cup_warm-up_matches#India_vs_New_Zealand\" title=\"2011 Cricket World Cup warm-up matches\">India won by 117 runs</a>,\n",
       " <a class=\"mw-redirect\" href=\"/wiki/2011_Cricket_World_Cup_warm-up_matches#England_vs_Pakistan\" title=\"2011 Cricket World Cup warm-up matches\">England won by 67 runs</a>,\n",
       " <a href=\"/wiki/2011_Cricket_World_Cup_Group_A#Kenya_vs_New_Zealand\" title=\"2011 Cricket World Cup Group A\">New Zealand won by 10 wickets</a>,\n",
       " <a href=\"/wiki/2011_Cricket_World_Cup_Group_A#Sri_Lanka_vs_Canada\" title=\"2011 Cricket World Cup Group A\">Sri Lanka won by 210 runs</a>,\n",
       " <a href=\"/wiki/2011_Cricket_World_Cup_Group_A#Australia_vs_Zimbabwe\" title=\"2011 Cricket World Cup Group A\">Australia won by 91 runs</a>,\n",
       " <a href=\"/wiki/2011_Cricket_World_Cup_Group_A#Kenya_vs_Pakistan\" title=\"2011 Cricket World Cup Group A\">Pakistan won by 205 runs</a>,\n",
       " <a href=\"/wiki/2011_Cricket_World_Cup_Group_A#Australia_vs_New_Zealand\" title=\"2011 Cricket World Cup Group A\">Australia won by 7 wickets</a>,\n",
       " <a href=\"/wiki/2011_Cricket_World_Cup_Group_A#Pakistan_vs_Sri_Lanka\" title=\"2011 Cricket World Cup Group A\">Pakistan won by 11 runs</a>,\n",
       " <a href=\"/wiki/2011_Cricket_World_Cup_Group_A#Zimbabwe_vs_Canada\" title=\"2011 Cricket World Cup Group A\">Zimbabwe won by 175 runs</a>,\n",
       " <a href=\"/wiki/2011_Cricket_World_Cup_Group_A#Sri_Lanka_vs_Kenya\" title=\"2011 Cricket World Cup Group A\">Sri Lanka won by 9 wickets</a>,\n",
       " <a href=\"/wiki/2011_Cricket_World_Cup_Group_A#Canada_vs_Pakistan\" title=\"2011 Cricket World Cup Group A\">Pakistan won by 46 runs</a>,\n",
       " <a href=\"/wiki/2011_Cricket_World_Cup_Group_A#New_Zealand_vs_Zimbabwe\" title=\"2011 Cricket World Cup Group A\">New Zealand won by 10 wickets</a>,\n",
       " <a href=\"/wiki/2011_Cricket_World_Cup_Group_A#Sri_Lanka_vs_Australia\" title=\"2011 Cricket World Cup Group A\">No result</a>,\n",
       " <a href=\"/wiki/2011_Cricket_World_Cup_Group_A#Kenya_vs_Canada\" title=\"2011 Cricket World Cup Group A\">Canada won by 5 wickets</a>,\n",
       " <a href=\"/wiki/2011_Cricket_World_Cup_Group_A#New_Zealand_vs_Canada\" title=\"2011 Cricket World Cup Group A\">New Zealand won by 110 runs</a>,\n",
       " <a href=\"/wiki/2011_Cricket_World_Cup_Group_A#Sri_Lanka_vs_Zimbabwe\" title=\"2011 Cricket World Cup Group A\">Sri Lanka won by 139 runs</a>,\n",
       " <a href=\"/wiki/2011_Cricket_World_Cup_Group_A#New_Zealand_vs_Canada\" title=\"2011 Cricket World Cup Group A\">New Zealand won by 97 runs</a>,\n",
       " <a href=\"/wiki/2011_Cricket_World_Cup_Group_A#Australia_vs_Kenya\" title=\"2011 Cricket World Cup Group A\">Australia won by 60 runs</a>,\n",
       " <a href=\"/wiki/2011_Cricket_World_Cup_Group_A#Pakistan_vs_Zimbabwe\" title=\"2011 Cricket World Cup Group A\">Pakistan won by 7 wickets</a>,\n",
       " <a href=\"/wiki/2011_Cricket_World_Cup_Group_A#Australia_vs_Canada\" title=\"2011 Cricket World Cup Group A\">Australia won by 7 wickets</a>,\n",
       " <a href=\"/wiki/2011_Cricket_World_Cup_Group_A#New_Zealand_vs_Canada\" title=\"2011 Cricket World Cup Group A\">Sri Lanka won by 112 runs</a>,\n",
       " <a href=\"/wiki/2011_Cricket_World_Cup_Group_A#Pakistan_vs_Australia\" title=\"2011 Cricket World Cup Group A\">Pakistan won by 4 wickets</a>,\n",
       " <a href=\"/wiki/2011_Cricket_World_Cup_Group_A#Kenya_vs_Zimbabwe\" title=\"2011 Cricket World Cup Group A\">Zimbabwe won by 161 runs</a>,\n",
       " <a href=\"/wiki/2011_Cricket_World_Cup_Group_B#India_vs_Bangladesh\" title=\"2011 Cricket World Cup Group B\">India won by 87 runs</a>,\n",
       " <a href=\"/wiki/2011_Cricket_World_Cup_Group_B#Netherlands_vs_England\" title=\"2011 Cricket World Cup Group B\">England won by 6 wickets</a>,\n",
       " <a href=\"/wiki/2011_Cricket_World_Cup_Group_B#West_Indies_vs_South_Africa\" title=\"2011 Cricket World Cup Group B\">South Africa won by 7 wickets</a>,\n",
       " <a href=\"/wiki/2011_Cricket_World_Cup_Group_B#Bangladesh_vs_Ireland\" title=\"2011 Cricket World Cup Group B\">Bangladesh won by 27 runs</a>,\n",
       " <a href=\"/wiki/2011_Cricket_World_Cup_Group_B#India_vs_England\" title=\"2011 Cricket World Cup Group B\">Match Tied</a>,\n",
       " <a href=\"/wiki/2011_Cricket_World_Cup_Group_B#West_Indies_vs_Netherlands\" title=\"2011 Cricket World Cup Group B\">West Indies won by 215 runs</a>,\n",
       " <a href=\"/wiki/2011_Cricket_World_Cup_Group_B#England_vs_Ireland\" title=\"2011 Cricket World Cup Group B\">Ireland won by 3 wickets</a>,\n",
       " <a href=\"/wiki/2011_Cricket_World_Cup_Group_B#South_Africa_vs_Netherlands\" title=\"2011 Cricket World Cup Group B\">South Africa won by 231 runs</a>,\n",
       " <a href=\"/wiki/2011_Cricket_World_Cup_Group_B#Bangladesh_vs_West_Indies\" title=\"2011 Cricket World Cup Group B\">West Indies won by 9 wickets</a>,\n",
       " <a href=\"/wiki/2011_Cricket_World_Cup_Group_B#England_vs_South_Africa\" title=\"2011 Cricket World Cup Group B\">England won by 6 runs</a>,\n",
       " <a href=\"/wiki/2011_Cricket_World_Cup_Group_B#India_vs_Ireland\" title=\"2011 Cricket World Cup Group B\">India won by 5 wickets</a>,\n",
       " <a href=\"/wiki/2011_Cricket_World_Cup_Group_B#India_vs_Netherlands\" title=\"2011 Cricket World Cup Group B\">India won by 5 wickets</a>,\n",
       " <a href=\"/wiki/2011_Cricket_World_Cup_Group_B#Ireland_vs_West_Indies\" title=\"2011 Cricket World Cup Group B\">West Indies won by 44 runs</a>,\n",
       " <a href=\"/wiki/2011_Cricket_World_Cup_Group_B#Bangladesh_vs_England\" title=\"2011 Cricket World Cup Group B\">Bangladesh won by 2 wickets</a>,\n",
       " <a href=\"/wiki/2011_Cricket_World_Cup_Group_B#India_vs_South_Africa\" title=\"2011 Cricket World Cup Group B\">South Africa won by 3 wickets (2 balls left)</a>,\n",
       " <a href=\"/wiki/2011_Cricket_World_Cup_Group_B#Bangladesh_vs_Netherlands\" title=\"2011 Cricket World Cup Group B\">Bangladesh won by 6 wickets</a>,\n",
       " <a href=\"/wiki/2011_Cricket_World_Cup_Group_B#Ireland_vs_South_Africa\" title=\"2011 Cricket World Cup Group B\">South Africa won by 131 runs</a>,\n",
       " <a href=\"/wiki/2011_Cricket_World_Cup_Group_B#England_vs_West_Indies\" title=\"2011 Cricket World Cup Group B\">England won by 18 runs</a>,\n",
       " <a href=\"/wiki/2011_Cricket_World_Cup_Group_B#Ireland_vs_Netherlands\" title=\"2011 Cricket World Cup Group B\">Ireland won by 6 wickets</a>,\n",
       " <a href=\"/wiki/2011_Cricket_World_Cup_Group_B#Bangladesh_vs_South_Africa\" title=\"2011 Cricket World Cup Group B\">South Africa won by 206 runs</a>,\n",
       " <a href=\"/wiki/2011_Cricket_World_Cup_Group_B#India_vs_West_Indies\" title=\"2011 Cricket World Cup Group B\">India won by 80 runs</a>,\n",
       " <a href=\"/wiki/2011_Cricket_World_Cup_knockout_stage#Quarter-finals\" title=\"2011 Cricket World Cup knockout stage\">Pakistan won by 10 wickets</a>,\n",
       " <a href=\"/wiki/2011_Cricket_World_Cup_knockout_stage#Quarter-finals\" title=\"2011 Cricket World Cup knockout stage\">India won by 5 wickets</a>,\n",
       " <a href=\"/wiki/2011_Cricket_World_Cup_knockout_stage#Quarter-finals\" title=\"2011 Cricket World Cup knockout stage\">New Zealand won by 49 runs</a>,\n",
       " <a href=\"/wiki/2011_Cricket_World_Cup_knockout_stage#Quarter-finals\" title=\"2011 Cricket World Cup knockout stage\">Sri Lanka won by 10 wickets</a>,\n",
       " <a href=\"/wiki/2011_Cricket_World_Cup_knockout_stage#Semi-finals\" title=\"2011 Cricket World Cup knockout stage\">Sri Lanka won by 5 wickets</a>,\n",
       " <a href=\"/wiki/2011_Cricket_World_Cup_knockout_stage#Semi-finals\" title=\"2011 Cricket World Cup knockout stage\">India won by 29 runs</a>,\n",
       " <a href=\"/wiki/2011_Cricket_World_Cup_knockout_stage#Final\" title=\"2011 Cricket World Cup knockout stage\">India won by 6 wickets</a>]"
      ]
     },
     "execution_count": 8,
     "metadata": {},
     "output_type": "execute_result"
    }
   ],
   "source": [
    "all_res_new=[a_tag for sublist in all_res for a_tag in sublist if a_tag] \n",
    "all_res_new"
   ]
  },
  {
   "cell_type": "code",
   "execution_count": 9,
   "id": "57b3408d",
   "metadata": {
    "scrolled": true
   },
   "outputs": [
    {
     "name": "stdout",
     "output_type": "stream",
     "text": [
      "['West Indies won by 61 runs', 'Sri Lanka won by 156 runs', 'Bangladesh won by 9 wickets', 'New Zealand won by 32 runs', 'South Africa won by 8 wickets', 'India won by 38 runs', 'Ireland won by 4 wickets', 'Netherlands won by 2 wickets', 'Pakistan won by 89 runs', 'South Africa won by 9 wickets', 'Sri Lanka won by 4 wickets', 'England won by 16 runs', 'India won by 117 runs', 'England won by 67 runs', 'New Zealand won by 10 wickets', 'Sri Lanka won by 210 runs', 'Australia won by 91 runs', 'Pakistan won by 205 runs', 'Australia won by 7 wickets', 'Pakistan won by 11 runs', 'Zimbabwe won by 175 runs', 'Sri Lanka won by 9 wickets', 'Pakistan won by 46 runs', 'New Zealand won by 10 wickets', 'No result', 'Canada won by 5 wickets', 'New Zealand won by 110 runs', 'Sri Lanka won by 139 runs', 'New Zealand won by 97 runs', 'Australia won by 60 runs', 'Pakistan won by 7 wickets', 'Australia won by 7 wickets', 'Sri Lanka won by 112 runs', 'Pakistan won by 4 wickets', 'Zimbabwe won by 161 runs', 'India won by 87 runs', 'England won by 6 wickets', 'South Africa won by 7 wickets', 'Bangladesh won by 27 runs', 'Match Tied', 'West Indies won by 215 runs', 'Ireland won by 3 wickets', 'South Africa won by 231 runs', 'West Indies won by 9 wickets', 'England won by 6 runs', 'India won by 5 wickets', 'India won by 5 wickets', 'West Indies won by 44 runs', 'Bangladesh won by 2 wickets', 'South Africa won by 3 wickets (2 balls left)', 'Bangladesh won by 6 wickets', 'South Africa won by 131 runs', 'England won by 18 runs', 'Ireland won by 6 wickets', 'South Africa won by 206 runs', 'India won by 80 runs', 'Pakistan won by 10 wickets', 'India won by 5 wickets', 'New Zealand won by 49 runs', 'Sri Lanka won by 10 wickets', 'Sri Lanka won by 5 wickets', 'India won by 29 runs', 'India won by 6 wickets']\n"
     ]
    }
   ],
   "source": [
    "results=[]\n",
    "for k in all_res_new:\n",
    "    results.append(k.text)\n",
    "print(results)"
   ]
  },
  {
   "cell_type": "code",
   "execution_count": 25,
   "id": "735ea8e1",
   "metadata": {},
   "outputs": [
    {
     "data": {
      "text/plain": [
       "63"
      ]
     },
     "execution_count": 25,
     "metadata": {},
     "output_type": "execute_result"
    }
   ],
   "source": [
    "len(results)"
   ]
  },
  {
   "cell_type": "code",
   "execution_count": 14,
   "id": "c62662f0",
   "metadata": {},
   "outputs": [
    {
     "data": {
      "text/plain": [
       "[<small><a class=\"external text\" href=\"http://www.espncricinfo.com/icc_cricket_worldcup2011/engine/match/473321.html\" rel=\"nofollow\">Scorecard</a></small>,\n",
       " <small><a href=\"/wiki/R._Premadasa_Stadium\" title=\"R. Premadasa Stadium\">R. Premadasa Stadium</a>, <a href=\"/wiki/Colombo\" title=\"Colombo\">Colombo</a></small>,\n",
       " <small><a class=\"external text\" href=\"http://www.espncricinfo.com/icc_cricket_worldcup2011/engine/match/473324.html\" rel=\"nofollow\">Scorecard</a></small>,\n",
       " <small><a href=\"/wiki/Singhalese_Sports_Club_Cricket_Ground\" title=\"Singhalese Sports Club Cricket Ground\">Singhalese Sports Club Cricket Ground</a>, <a href=\"/wiki/Colombo\" title=\"Colombo\">Colombo</a></small>,\n",
       " <small><a class=\"external text\" href=\"http://www.espncricinfo.com/icc_cricket_worldcup2011/engine/match/473325.html\" rel=\"nofollow\">Scorecard</a></small>,\n",
       " <small><a href=\"/wiki/Zohur_Ahmed_Chowdhury_Stadium\" title=\"Zohur Ahmed Chowdhury Stadium\">Zohur Ahmed Chowdhury Stadium</a>, <a href=\"/wiki/Chittagong\" title=\"Chittagong\">Chittagong</a></small>,\n",
       " <small><a class=\"external text\" href=\"http://www.espncricinfo.com/icc_cricket_worldcup2011/engine/match/473323.html\" rel=\"nofollow\">Scorecard</a></small>,\n",
       " <small><a href=\"/wiki/Vidarbha_Cricket_Association_Stadium\" title=\"Vidarbha Cricket Association Stadium\">Vidarbha Cricket Association Stadium</a>, <a href=\"/wiki/Nagpur\" title=\"Nagpur\">Nagpur</a></small>,\n",
       " <small><a class=\"external text\" href=\"http://www.espncricinfo.com/icc_cricket_worldcup2011/engine/match/473322.html\" rel=\"nofollow\">Scorecard</a></small>,\n",
       " <small><a href=\"/wiki/M._A._Chidambaram_Stadium\" title=\"M. A. Chidambaram Stadium\">M. A. Chidambaram Stadium</a>, <a href=\"/wiki/Chennai\" title=\"Chennai\">Chennai</a></small>,\n",
       " <small><a class=\"external text\" href=\"http://www.espncricinfo.com/icc_cricket_worldcup2011/engine/match/473326.html\" rel=\"nofollow\">Scorecard</a></small>,\n",
       " <small><a href=\"/wiki/M._Chinnaswamy_Stadium\" title=\"M. Chinnaswamy Stadium\">M. Chinnaswamy Stadium</a>, <a href=\"/wiki/Bangalore\" title=\"Bangalore\">Bangalore</a></small>,\n",
       " <small><a class=\"external text\" href=\"http://www.espncricinfo.com/icc_cricket_worldcup2011/engine/match/473328.html\" rel=\"nofollow\">Scorecard</a></small>,\n",
       " <small><a href=\"/wiki/Vidarbha_Cricket_Association_Stadium\" title=\"Vidarbha Cricket Association Stadium\">Vidarbha Cricket Association Stadium</a>, <a href=\"/wiki/Nagpur\" title=\"Nagpur\">Nagpur</a></small>,\n",
       " <small><a class=\"external text\" href=\"http://www.espncricinfo.com/icc_cricket_worldcup2011/engine/match/473329.html\" rel=\"nofollow\">Scorecard</a></small>,\n",
       " <small><a href=\"/wiki/Singhalese_Sports_Club_Cricket_Ground\" title=\"Singhalese Sports Club Cricket Ground\">Singhalese Sports Club Cricket Ground</a>, <a href=\"/wiki/Colombo\" title=\"Colombo\">Colombo</a></small>,\n",
       " <small><a class=\"external text\" href=\"http://www.espncricinfo.com/icc_cricket_worldcup2011/engine/match/473330.html\" rel=\"nofollow\">Scorecard</a></small>,\n",
       " <small><a href=\"/wiki/Sher-e-Bangla_National_Cricket_Stadium\" title=\"Sher-e-Bangla National Cricket Stadium\">Sher-e-Bangla National Cricket Stadium</a>, <a href=\"/wiki/Dhaka\" title=\"Dhaka\">Dhaka</a></small>,\n",
       " <small><a class=\"external text\" href=\"http://www.espncricinfo.com/icc_cricket_worldcup2011/engine/match/473327.html\" rel=\"nofollow\">Scorecard</a></small>,\n",
       " <small><a href=\"/wiki/M._Chinnaswamy_Stadium\" title=\"M. Chinnaswamy Stadium\">M. Chinnaswamy Stadium</a>, <a href=\"/wiki/Bangalore\" title=\"Bangalore\">Bangalore</a></small>,\n",
       " <small><a class=\"external text\" href=\"http://www.espncricinfo.com/icc_cricket_worldcup2011/engine/match/473331.html\" rel=\"nofollow\">Scorecard</a></small>,\n",
       " <small><a href=\"/wiki/R._Premadasa_Stadium\" title=\"R. Premadasa Stadium\">R. Premadasa Stadium</a>, <a href=\"/wiki/Colombo\" title=\"Colombo\">Colombo</a></small>,\n",
       " <small><a class=\"external text\" href=\"http://www.espncricinfo.com/icc_cricket_worldcup2011/engine/match/473332.html\" rel=\"nofollow\">Scorecard</a></small>,\n",
       " <small><a class=\"mw-redirect\" href=\"/wiki/Fatullah_Osmani_Stadium\" title=\"Fatullah Osmani Stadium\">Fatullah Osmani Stadium</a>, <a href=\"/wiki/Fatullah\" title=\"Fatullah\">Fatullah</a></small>,\n",
       " <small><a class=\"external text\" href=\"http://www.espncricinfo.com/icc_cricket_worldcup2011/engine/match/473333.html\" rel=\"nofollow\">Scorecard</a></small>,\n",
       " <small><a href=\"/wiki/M._A._Chidambaram_Stadium\" title=\"M. A. Chidambaram Stadium\">M. A. Chidambaram Stadium</a>, <a href=\"/wiki/Chennai\" title=\"Chennai\">Chennai</a></small>,\n",
       " <small><a class=\"external text\" href=\"http://www.espncricinfo.com/icc_cricket_worldcup2011/engine/match/473334.html\" rel=\"nofollow\">Scorecard</a></small>,\n",
       " <small><a class=\"mw-redirect\" href=\"/wiki/Fatullah_Osmani_Stadium\" title=\"Fatullah Osmani Stadium\">Fatullah Osmani Stadium</a>, <a href=\"/wiki/Fatullah\" title=\"Fatullah\">Fatullah</a></small>,\n",
       " <small>The top four teams from each group qualified for the quarter-finals (indicated in green).</small>,\n",
       " <small><a class=\"external text\" href=\"http://www.espncricinfo.com/icc_cricket_worldcup2011/engine/match/433559.html\" rel=\"nofollow\">Scorecard</a></small>,\n",
       " <small><a href=\"/wiki/M._A._Chidambaram_Stadium\" title=\"M. A. Chidambaram Stadium\">M. A. Chidambaram Stadium</a>, <a href=\"/wiki/Chennai\" title=\"Chennai\">Chennai</a></small>,\n",
       " <small><a class=\"external text\" href=\"http://www.espncricinfo.com/icc_cricket_worldcup2011/engine/match/433560.html\" rel=\"nofollow\">Scorecard</a></small>,\n",
       " <small><a href=\"/wiki/Mahinda_Rajapaksa_International_Cricket_Stadium\" title=\"Mahinda Rajapaksa International Cricket Stadium\">Mahinda Rajapaksa International Cricket Stadium</a>, <a href=\"/wiki/Sooriyawewa\" title=\"Sooriyawewa\">Sooriyawewa</a></small>,\n",
       " <small><a class=\"external text\" href=\"http://www.espncricinfo.com/icc_cricket_worldcup2011/engine/match/433561.html\" rel=\"nofollow\">Scorecard</a></small>,\n",
       " <small><a href=\"/wiki/Narendra_Modi_Stadium\" title=\"Narendra Modi Stadium\">Sardar Patel Stadium</a>, <a href=\"/wiki/Ahmedabad\" title=\"Ahmedabad\">Ahmedabad</a></small>,\n",
       " <small><a class=\"external text\" href=\"http://www.espncricinfo.com/icc_cricket_worldcup2011/engine/match/433563.html\" rel=\"nofollow\">Scorecard</a></small>,\n",
       " <small><a href=\"/wiki/Mahinda_Rajapaksa_International_Cricket_Stadium\" title=\"Mahinda Rajapaksa International Cricket Stadium\">Mahinda Rajapaksa International Cricket Stadium</a>, <a href=\"/wiki/Sooriyawewa\" title=\"Sooriyawewa\">Sooriyawewa</a></small>,\n",
       " <small><a class=\"external text\" href=\"http://www.espncricinfo.com/icc_cricket_worldcup2011/engine/match/433565.html\" rel=\"nofollow\">Scorecard</a></small>,\n",
       " <small><a href=\"/wiki/Vidarbha_Cricket_Association_Stadium\" title=\"Vidarbha Cricket Association Stadium\">Vidarbha Cricket Association Stadium</a>, <a href=\"/wiki/Nagpur\" title=\"Nagpur\">Nagpur</a></small>,\n",
       " <small><a class=\"external text\" href=\"http://www.espncricinfo.com/icc_cricket_worldcup2011/engine/match/433567.html\" rel=\"nofollow\">Scorecard</a></small>,\n",
       " <small><a href=\"/wiki/R._Premadasa_Stadium\" title=\"R. Premadasa Stadium\">R. Premadasa Stadium</a>, <a href=\"/wiki/Colombo\" title=\"Colombo\">Colombo</a></small>,\n",
       " <small><a class=\"external text\" href=\"http://www.espncricinfo.com/icc_cricket_worldcup2011/engine/match/433570.html\" rel=\"nofollow\">Scorecard</a></small>,\n",
       " <small><a href=\"/wiki/Vidarbha_Cricket_Association_Stadium\" title=\"Vidarbha Cricket Association Stadium\">Vidarbha Cricket Association Stadium</a>, <a href=\"/wiki/Nagpur\" title=\"Nagpur\">Nagpur</a></small>,\n",
       " <small><a class=\"external text\" href=\"http://www.espncricinfo.com/icc_cricket_worldcup2011/engine/match/433571.html\" rel=\"nofollow\">Scorecard</a></small>,\n",
       " <small><a href=\"/wiki/R._Premadasa_Stadium\" title=\"R. Premadasa Stadium\">R. Premadasa Stadium</a>, <a href=\"/wiki/Colombo\" title=\"Colombo\">Colombo</a></small>,\n",
       " <small><a class=\"external text\" href=\"http://www.espncricinfo.com/icc_cricket_worldcup2011/engine/match/433574.html\" rel=\"nofollow\">Scorecard</a></small>,\n",
       " <small><a href=\"/wiki/R._Premadasa_Stadium\" title=\"R. Premadasa Stadium\">R. Premadasa Stadium</a>, <a href=\"/wiki/Colombo\" title=\"Colombo\">Colombo</a></small>,\n",
       " <small><a class=\"external text\" href=\"http://www.espncricinfo.com/icc_cricket_worldcup2011/engine/match/433575.html\" rel=\"nofollow\">Scorecard</a></small>,\n",
       " <small><a href=\"/wiki/Narendra_Modi_Stadium\" title=\"Narendra Modi Stadium\">Sardar Patel Stadium</a>, <a href=\"/wiki/Ahmedabad\" title=\"Ahmedabad\">Ahmedabad</a></small>,\n",
       " <small><a class=\"external text\" href=\"http://www.espncricinfo.com/icc_cricket_worldcup2011/engine/match/433577.html\" rel=\"nofollow\">Scorecard</a></small>,\n",
       " <small><a href=\"/wiki/R._Premadasa_Stadium\" title=\"R. Premadasa Stadium\">R. Premadasa Stadium</a>, <a href=\"/wiki/Colombo\" title=\"Colombo\">Colombo</a></small>,\n",
       " <small><a class=\"external text\" href=\"http://www.espncricinfo.com/icc_cricket_worldcup2011/engine/current/match/433580.html\" rel=\"nofollow\">Scorecard</a></small>,\n",
       " <small><a href=\"/wiki/Arun_Jaitley_Cricket_Stadium\" title=\"Arun Jaitley Cricket Stadium\">Feroz Shah Kotla Stadium</a>, Delhi</small>,\n",
       " <small><a class=\"external text\" href=\"http://www.espncricinfo.com/icc_cricket_worldcup2011/engine/current/match/433581.html\" rel=\"nofollow\">Scorecard</a></small>,\n",
       " <small><a href=\"/wiki/Pallekele_International_Cricket_Stadium\" title=\"Pallekele International Cricket Stadium\">Pallekele International Cricket Stadium</a>, <a href=\"/wiki/Kandy\" title=\"Kandy\">Kandy</a></small>,\n",
       " <small><a class=\"external text\" href=\"http://www.espncricinfo.com/icc_cricket_worldcup2011/engine/current/match/433583.html\" rel=\"nofollow\">Scorecard</a></small>,\n",
       " <small><a href=\"/wiki/Pallekele_International_Cricket_Stadium\" title=\"Pallekele International Cricket Stadium\">Pallekele International Cricket Stadium</a>, <a href=\"/wiki/Kandy\" title=\"Kandy\">Kandy</a></small>,\n",
       " <small><a class=\"external text\" href=\"http://www.espncricinfo.com/icc_cricket_worldcup2011/engine/current/match/433587.html\" rel=\"nofollow\">Scorecard</a></small>,\n",
       " <small><a href=\"/wiki/Wankhede_Stadium\" title=\"Wankhede Stadium\">Wankhede Stadium</a>, <a href=\"/wiki/Mumbai\" title=\"Mumbai\">Mumbai</a></small>,\n",
       " <small><a class=\"external text\" href=\"http://www.espncricinfo.com/icc_cricket_worldcup2011/engine/current/match/433588.html\" rel=\"nofollow\">Scorecard</a></small>,\n",
       " <small><a href=\"/wiki/M._Chinnaswamy_Stadium\" title=\"M. Chinnaswamy Stadium\">M. Chinnaswamy Stadium</a>, <a href=\"/wiki/Bangalore\" title=\"Bangalore\">Bangalore</a></small>,\n",
       " <small><a class=\"external text\" href=\"http://www.espncricinfo.com/icc_cricket_worldcup2011/engine/current/match/433589.html\" rel=\"nofollow\">Scorecard</a></small>,\n",
       " <small><a href=\"/wiki/Pallekele_International_Cricket_Stadium\" title=\"Pallekele International Cricket Stadium\">Pallekele International Cricket Stadium</a>, <a href=\"/wiki/Kandy\" title=\"Kandy\">Kandy</a></small>,\n",
       " <small><a class=\"external text\" href=\"http://www.espncricinfo.com/icc_cricket_worldcup2011/engine/current/match/433592.html\" rel=\"nofollow\">Scorecard</a></small>,\n",
       " <small><a href=\"/wiki/M._Chinnaswamy_Stadium\" title=\"M. Chinnaswamy Stadium\">M. Chinnaswamy Stadium</a>, <a href=\"/wiki/Bangalore\" title=\"Bangalore\">Bangalore</a></small>,\n",
       " <small><a class=\"external text\" href=\"http://www.espncricinfo.com/icc_cricket_worldcup2011/engine/current/match/433594.html\" rel=\"nofollow\">Scorecard</a></small>,\n",
       " <small><a href=\"/wiki/Wankhede_Stadium\" title=\"Wankhede Stadium\">Wankhede Stadium</a>, <a href=\"/wiki/Mumbai\" title=\"Mumbai\">Mumbai</a></small>,\n",
       " <small><a class=\"external text\" href=\"http://www.espncricinfo.com/icc_cricket_worldcup2011/engine/current/match/433596.html\" rel=\"nofollow\">Scorecard</a></small>,\n",
       " <small><a href=\"/wiki/R._Premadasa_Stadium\" title=\"R. Premadasa Stadium\">R. Premadasa Stadium</a>, <a href=\"/wiki/Colombo\" title=\"Colombo\">Colombo</a></small>,\n",
       " <small><a class=\"external text\" href=\"http://www.espncricinfo.com/icc_cricket_worldcup2011/engine/current/match/433598.html\" rel=\"nofollow\">Scorecard</a></small>,\n",
       " <small><a href=\"/wiki/Eden_Gardens\" title=\"Eden Gardens\">Eden Gardens</a>, <a href=\"/wiki/Kolkata\" title=\"Kolkata\">Kolkata</a></small>,\n",
       " <small>The top four teams from each group qualified for the Quarter finals (indicated in green).</small>,\n",
       " <small><a class=\"external text\" href=\"http://www.espncricinfo.com/icc_cricket_worldcup2011/engine/match/433558.html\" rel=\"nofollow\">Scorecard</a></small>,\n",
       " <small><a href=\"/wiki/Sher-e-Bangla_National_Cricket_Stadium\" title=\"Sher-e-Bangla National Cricket Stadium\">Sher-e-Bangla National Cricket Stadium</a>, <a href=\"/wiki/Dhaka\" title=\"Dhaka\">Dhaka</a></small>,\n",
       " <small><a class=\"external text\" href=\"http://www.espncricinfo.com/icc_cricket_worldcup2011/engine/match/433562.html\" rel=\"nofollow\">Scorecard</a></small>,\n",
       " <small><a href=\"/wiki/Vidarbha_Cricket_Association_Stadium\" title=\"Vidarbha Cricket Association Stadium\">Vidarbha Cricket Association Stadium</a>, <a href=\"/wiki/Nagpur\" title=\"Nagpur\">Nagpur</a></small>,\n",
       " <small><a class=\"external text\" href=\"http://www.espncricinfo.com/icc_cricket_worldcup2011/engine/match/433564.html\" rel=\"nofollow\">Scorecard</a></small>,\n",
       " <small><a href=\"/wiki/Arun_Jaitley_Cricket_Stadium\" title=\"Arun Jaitley Cricket Stadium\">Feroz Shah Kotla Stadium</a>, Delhi</small>,\n",
       " <small><a class=\"external text\" href=\"http://www.espncricinfo.com/icc_cricket_worldcup2011/engine/match/433566.html\" rel=\"nofollow\">Scorecard</a></small>,\n",
       " <small><a href=\"/wiki/Sher-e-Bangla_National_Cricket_Stadium\" title=\"Sher-e-Bangla National Cricket Stadium\">Sher-e-Bangla National Cricket Stadium</a>, <a href=\"/wiki/Dhaka\" title=\"Dhaka\">Dhaka</a></small>,\n",
       " <small><a class=\"external text\" href=\"http://www.espncricinfo.com/icc_cricket_worldcup2011/engine/match/433568.html\" rel=\"nofollow\">Scorecard</a></small>,\n",
       " <small><a href=\"/wiki/M._Chinnaswamy_Stadium\" title=\"M. Chinnaswamy Stadium\">M. Chinnaswamy Stadium</a>, <a href=\"/wiki/Bangalore\" title=\"Bangalore\">Bangalore</a></small>,\n",
       " <small><a class=\"external text\" href=\"http://www.espncricinfo.com/icc_cricket_worldcup2011/engine/match/433569.html\" rel=\"nofollow\">Scorecard</a></small>,\n",
       " <small><a href=\"/wiki/Arun_Jaitley_Cricket_Stadium\" title=\"Arun Jaitley Cricket Stadium\">Feroz Shah Kotla Stadium</a>, Delhi</small>,\n",
       " <small><a class=\"external text\" href=\"http://www.espncricinfo.com/icc_cricket_worldcup2011/engine/match/433572.html\" rel=\"nofollow\">Scorecard</a></small>,\n",
       " <small><a href=\"/wiki/M._Chinnaswamy_Stadium\" title=\"M. Chinnaswamy Stadium\">M. Chinnaswamy Stadium</a>, <a href=\"/wiki/Bangalore\" title=\"Bangalore\">Bangalore</a></small>,\n",
       " <small><a class=\"external text\" href=\"http://www.espncricinfo.com/icc_cricket_worldcup2011/engine/match/433573.html\" rel=\"nofollow\">Scorecard</a></small>,\n",
       " <small><a href=\"/wiki/Inderjit_Singh_Bindra_Stadium\" title=\"Inderjit Singh Bindra Stadium\">Punjab Cricket Association Stadium</a>, <a href=\"/wiki/Mohali\" title=\"Mohali\">Mohali</a></small>,\n",
       " <small><a class=\"external text\" href=\"http://www.espncricinfo.com/icc_cricket_worldcup2011/engine/match/433576.html\" rel=\"nofollow\">Scorecard</a></small>,\n",
       " <small><a href=\"/wiki/Sher-e-Bangla_National_Cricket_Stadium\" title=\"Sher-e-Bangla National Cricket Stadium\">Sher-e-Bangla National Cricket Stadium</a>, <a href=\"/wiki/Dhaka\" title=\"Dhaka\">Dhaka</a></small>,\n",
       " <small><a class=\"external text\" href=\"http://www.espncricinfo.com/icc_cricket_worldcup2011/engine/match/433579.html\" rel=\"nofollow\">Scorecard</a></small>,\n",
       " <small><a href=\"/wiki/M._A._Chidambaram_Stadium\" title=\"M. A. Chidambaram Stadium\">M. A. Chidambaram Stadium</a>, <a href=\"/wiki/Chennai\" title=\"Chennai\">Chennai</a></small>,\n",
       " <small><a class=\"external text\" href=\"http://www.espncricinfo.com/icc_cricket_worldcup2011/engine/match/433578.html\" rel=\"nofollow\">Scorecard</a></small>,\n",
       " <small><a href=\"/wiki/M._Chinnaswamy_Stadium\" title=\"M. Chinnaswamy Stadium\">M. Chinnaswamy Stadium</a>, <a href=\"/wiki/Bangalore\" title=\"Bangalore\">Bangalore</a></small>,\n",
       " <small><a class=\"external text\" href=\"http://www.espncricinfo.com/icc_cricket_worldcup2011/engine/match/433582.html\" rel=\"nofollow\">Scorecard</a></small>,\n",
       " <small><a href=\"/wiki/Arun_Jaitley_Cricket_Stadium\" title=\"Arun Jaitley Cricket Stadium\">Feroz Shah Kotla Stadium</a>, Delhi</small>,\n",
       " <small><a class=\"external text\" href=\"http://www.espncricinfo.com/icc_cricket_worldcup2011/engine/match/433584.html\" rel=\"nofollow\">Scorecard</a></small>,\n",
       " <small><a href=\"/wiki/Inderjit_Singh_Bindra_Stadium\" title=\"Inderjit Singh Bindra Stadium\">Punjab Cricket Association Stadium</a>, <a href=\"/wiki/Mohali\" title=\"Mohali\">Mohali</a></small>,\n",
       " <small><a class=\"external text\" href=\"http://www.espncricinfo.com/icc_cricket_worldcup2011/engine/match/433585.html\" rel=\"nofollow\">Scorecard</a></small>,\n",
       " <small><a href=\"/wiki/Zohur_Ahmed_Chowdhury_Stadium\" title=\"Zohur Ahmed Chowdhury Stadium\">Zohur Ahmed Chowdhury Stadium</a>, <a href=\"/wiki/Chittagong\" title=\"Chittagong\">Chittagong</a></small>,\n",
       " <small><a class=\"external text\" href=\"http://www.espncricinfo.com/icc_cricket_worldcup2011/engine/match/433586.html\" rel=\"nofollow\">Scorecard</a></small>,\n",
       " <small><a href=\"/wiki/Vidarbha_Cricket_Association_Stadium\" title=\"Vidarbha Cricket Association Stadium\">Vidarbha Cricket Association Stadium</a>, <a href=\"/wiki/Nagpur\" title=\"Nagpur\">Nagpur</a></small>,\n",
       " <small><a class=\"external text\" href=\"http://www.espncricinfo.com/icc_cricket_worldcup2011/engine/match/433590.html\" rel=\"nofollow\">Scorecard</a></small>,\n",
       " <small><a href=\"/wiki/Zohur_Ahmed_Chowdhury_Stadium\" title=\"Zohur Ahmed Chowdhury Stadium\">Zohur Ahmed Chowdhury Stadium</a>, <a href=\"/wiki/Chittagong\" title=\"Chittagong\">Chittagong</a></small>,\n",
       " <small><a class=\"external text\" href=\"http://www.espncricinfo.com/icc_cricket_worldcup201/engine/match/433591.html\" rel=\"nofollow\">Scorecard</a></small>,\n",
       " <small><a href=\"/wiki/Eden_Gardens\" title=\"Eden Gardens\">Eden Gardens</a>, <a href=\"/wiki/Kolkata\" title=\"Kolkata\">Kolkata</a></small>,\n",
       " <small><a class=\"external text\" href=\"http://www.espncricinfo.com/icc_cricket_worldcup201/engine/match/433593.html\" rel=\"nofollow\">Scorecard</a></small>,\n",
       " <small><a href=\"/wiki/M._A._Chidambaram_Stadium\" title=\"M. A. Chidambaram Stadium\">M. A. Chidambaram Stadium</a>, <a href=\"/wiki/Chennai\" title=\"Chennai\">Chennai</a></small>,\n",
       " <small><a class=\"external text\" href=\"http://www.espncricinfo.com/icc_cricket_worldcup201/engine/match/433595.html\" rel=\"nofollow\">Scorecard</a></small>,\n",
       " <small><a href=\"/wiki/Eden_Gardens\" title=\"Eden Gardens\">Eden Gardens</a>, <a href=\"/wiki/Kolkata\" title=\"Kolkata\">Kolkata</a></small>,\n",
       " <small><a class=\"external text\" href=\"http://www.espncricinfo.com/icc_cricket_worldcup201/engine/match/433597.html\" rel=\"nofollow\">Scorecard</a></small>,\n",
       " <small><a href=\"/wiki/Sher-e-Bangla_National_Cricket_Stadium\" title=\"Sher-e-Bangla National Cricket Stadium\">Sher-e-Bangla National Cricket Stadium</a>, <a href=\"/wiki/Dhaka\" title=\"Dhaka\">Dhaka</a></small>,\n",
       " <small><a class=\"external text\" href=\"http://www.espncricinfo.com/icc_cricket_worldcup201/engine/match/433599.html\" rel=\"nofollow\">Scorecard</a></small>,\n",
       " <small><a href=\"/wiki/M._A._Chidambaram_Stadium\" title=\"M. A. Chidambaram Stadium\">M. A. Chidambaram Stadium</a>, <a href=\"/wiki/Chennai\" title=\"Chennai\">Chennai</a></small>,\n",
       " <small><a class=\"external text\" href=\"http://www.espncricinfo.com/icc_cricket_worldcup2011/engine/match/433600.html\" rel=\"nofollow\">Scorecard</a></small>,\n",
       " <small><a href=\"/wiki/Sher-e-Bangla_National_Cricket_Stadium\" title=\"Sher-e-Bangla National Cricket Stadium\">Sher-e-Bangla National Cricket Stadium</a>, <a href=\"/wiki/Dhaka\" title=\"Dhaka\">Dhaka</a></small>,\n",
       " <small><a class=\"external text\" href=\"http://www.espncricinfo.com/icc_cricket_worldcup2011/engine/match/433601.html\" rel=\"nofollow\">Scorecard</a></small>,\n",
       " <small><a href=\"/wiki/Narendra_Modi_Stadium\" title=\"Narendra Modi Stadium\">Sardar Patel Stadium</a>, <a href=\"/wiki/Ahmedabad\" title=\"Ahmedabad\">Ahmedabad</a></small>,\n",
       " <small><a class=\"external text\" href=\"http://www.espncricinfo.com/icc_cricket_worldcup2011/engine/match/433602.html\" rel=\"nofollow\">Scorecard</a></small>,\n",
       " <small><a href=\"/wiki/Sher-e-Bangla_National_Cricket_Stadium\" title=\"Sher-e-Bangla National Cricket Stadium\">Sher-e-Bangla National Cricket Stadium</a>, <a href=\"/wiki/Dhaka\" title=\"Dhaka\">Dhaka</a></small>,\n",
       " <small><a class=\"external text\" href=\"http://www.espncricinfo.com/icc_cricket_worldcup2011/engine/match/433603.html\" rel=\"nofollow\">Scorecard</a></small>,\n",
       " <small><a href=\"/wiki/R._Premadasa_Stadium\" title=\"R. Premadasa Stadium\">R. Premadasa Stadium</a>, <a href=\"/wiki/Colombo\" title=\"Colombo\">Colombo</a></small>,\n",
       " <small><a class=\"external text\" href=\"http://www.espncricinfo.com/icc_cricket_worldcup2011/engine/current/match/433604.html\" rel=\"nofollow\">Scorecard</a></small>,\n",
       " <small><a href=\"/wiki/R._Premadasa_Stadium\" title=\"R. Premadasa Stadium\">R. Premadasa Stadium</a>, <a href=\"/wiki/Colombo\" title=\"Colombo\">Colombo</a></small>,\n",
       " <small><a class=\"external text\" href=\"http://www.espncricinfo.com/icc_cricket_worldcup2011/engine/current/match/433605.html\" rel=\"nofollow\">Scorecard</a></small>,\n",
       " <small><a href=\"/wiki/Inderjit_Singh_Bindra_Stadium\" title=\"Inderjit Singh Bindra Stadium\">Punjab Cricket Association Stadium</a>, <a href=\"/wiki/Mohali\" title=\"Mohali\">Mohali</a></small>,\n",
       " <small><a class=\"external text\" href=\"http://www.espncricinfo.com/icc_cricket_worldcup2011/engine/current/match/433606.html\" rel=\"nofollow\">Scorecard</a></small>,\n",
       " <small><a href=\"/wiki/Wankhede_Stadium\" title=\"Wankhede Stadium\">Wankhede Stadium</a>, <a href=\"/wiki/Mumbai\" title=\"Mumbai\">Mumbai</a></small>]"
      ]
     },
     "execution_count": 14,
     "metadata": {},
     "output_type": "execute_result"
    }
   ],
   "source": [
    "import re \n",
    "import requests\n",
    "from bs4 import BeautifulSoup \n",
    "res=requests.get(url,headers=headers).text \n",
    "soup=BeautifulSoup(res,'lxml')\n",
    "an=soup.find_all('small')\n",
    "an"
   ]
  },
  {
   "cell_type": "code",
   "execution_count": 15,
   "id": "550382eb",
   "metadata": {},
   "outputs": [
    {
     "name": "stdout",
     "output_type": "stream",
     "text": [
      "['Scorecard', 'R. Premadasa Stadium, Colombo', 'Scorecard', 'Singhalese Sports Club Cricket Ground, Colombo', 'Scorecard', 'Zohur Ahmed Chowdhury Stadium, Chittagong', 'Scorecard', 'Vidarbha Cricket Association Stadium, Nagpur', 'Scorecard', 'M. A. Chidambaram Stadium, Chennai', 'Scorecard', 'M. Chinnaswamy Stadium, Bangalore', 'Scorecard', 'Vidarbha Cricket Association Stadium, Nagpur', 'Scorecard', 'Singhalese Sports Club Cricket Ground, Colombo', 'Scorecard', 'Sher-e-Bangla National Cricket Stadium, Dhaka', 'Scorecard', 'M. Chinnaswamy Stadium, Bangalore', 'Scorecard', 'R. Premadasa Stadium, Colombo', 'Scorecard', 'Fatullah Osmani Stadium, Fatullah', 'Scorecard', 'M. A. Chidambaram Stadium, Chennai', 'Scorecard', 'Fatullah Osmani Stadium, Fatullah', 'The top four teams from each group qualified for the quarter-finals (indicated in green).', 'Scorecard', 'M. A. Chidambaram Stadium, Chennai', 'Scorecard', 'Mahinda Rajapaksa International Cricket Stadium, Sooriyawewa', 'Scorecard', 'Sardar Patel Stadium, Ahmedabad', 'Scorecard', 'Mahinda Rajapaksa International Cricket Stadium, Sooriyawewa', 'Scorecard', 'Vidarbha Cricket Association Stadium, Nagpur', 'Scorecard', 'R. Premadasa Stadium, Colombo', 'Scorecard', 'Vidarbha Cricket Association Stadium, Nagpur', 'Scorecard', 'R. Premadasa Stadium, Colombo', 'Scorecard', 'R. Premadasa Stadium, Colombo', 'Scorecard', 'Sardar Patel Stadium, Ahmedabad', 'Scorecard', 'R. Premadasa Stadium, Colombo', 'Scorecard', 'Feroz Shah Kotla Stadium, Delhi', 'Scorecard', 'Pallekele International Cricket Stadium, Kandy', 'Scorecard', 'Pallekele International Cricket Stadium, Kandy', 'Scorecard', 'Wankhede Stadium, Mumbai', 'Scorecard', 'M. Chinnaswamy Stadium, Bangalore', 'Scorecard', 'Pallekele International Cricket Stadium, Kandy', 'Scorecard', 'M. Chinnaswamy Stadium, Bangalore', 'Scorecard', 'Wankhede Stadium, Mumbai', 'Scorecard', 'R. Premadasa Stadium, Colombo', 'Scorecard', 'Eden Gardens, Kolkata', 'The top four teams from each group qualified for the Quarter finals (indicated in green).', 'Scorecard', 'Sher-e-Bangla National Cricket Stadium, Dhaka', 'Scorecard', 'Vidarbha Cricket Association Stadium, Nagpur', 'Scorecard', 'Feroz Shah Kotla Stadium, Delhi', 'Scorecard', 'Sher-e-Bangla National Cricket Stadium, Dhaka', 'Scorecard', 'M. Chinnaswamy Stadium, Bangalore', 'Scorecard', 'Feroz Shah Kotla Stadium, Delhi', 'Scorecard', 'M. Chinnaswamy Stadium, Bangalore', 'Scorecard', 'Punjab Cricket Association Stadium, Mohali', 'Scorecard', 'Sher-e-Bangla National Cricket Stadium, Dhaka', 'Scorecard', 'M. A. Chidambaram Stadium, Chennai', 'Scorecard', 'M. Chinnaswamy Stadium, Bangalore', 'Scorecard', 'Feroz Shah Kotla Stadium, Delhi', 'Scorecard', 'Punjab Cricket Association Stadium, Mohali', 'Scorecard', 'Zohur Ahmed Chowdhury Stadium, Chittagong', 'Scorecard', 'Vidarbha Cricket Association Stadium, Nagpur', 'Scorecard', 'Zohur Ahmed Chowdhury Stadium, Chittagong', 'Scorecard', 'Eden Gardens, Kolkata', 'Scorecard', 'M. A. Chidambaram Stadium, Chennai', 'Scorecard', 'Eden Gardens, Kolkata', 'Scorecard', 'Sher-e-Bangla National Cricket Stadium, Dhaka', 'Scorecard', 'M. A. Chidambaram Stadium, Chennai', 'Scorecard', 'Sher-e-Bangla National Cricket Stadium, Dhaka', 'Scorecard', 'Sardar Patel Stadium, Ahmedabad', 'Scorecard', 'Sher-e-Bangla National Cricket Stadium, Dhaka', 'Scorecard', 'R. Premadasa Stadium, Colombo', 'Scorecard', 'R. Premadasa Stadium, Colombo', 'Scorecard', 'Punjab Cricket Association Stadium, Mohali', 'Scorecard', 'Wankhede Stadium, Mumbai']\n"
     ]
    }
   ],
   "source": [
    "an1=[]\n",
    "for k in an:\n",
    "    an1.append(k.text)\n",
    "print(an1)"
   ]
  },
  {
   "cell_type": "code",
   "execution_count": 17,
   "id": "7ccef362",
   "metadata": {
    "scrolled": true
   },
   "outputs": [
    {
     "name": "stdout",
     "output_type": "stream",
     "text": [
      "['R. Premadasa Stadium, Colombo', 'Singhalese Sports Club Cricket Ground, Colombo', 'Zohur Ahmed Chowdhury Stadium, Chittagong', 'Vidarbha Cricket Association Stadium, Nagpur', 'M. A. Chidambaram Stadium, Chennai', 'M. Chinnaswamy Stadium, Bangalore', 'Vidarbha Cricket Association Stadium, Nagpur', 'Singhalese Sports Club Cricket Ground, Colombo', 'Sher-e-Bangla National Cricket Stadium, Dhaka', 'M. Chinnaswamy Stadium, Bangalore', 'R. Premadasa Stadium, Colombo', 'Fatullah Osmani Stadium, Fatullah', 'M. A. Chidambaram Stadium, Chennai', 'Fatullah Osmani Stadium, Fatullah', 'The top four teams from each group qualified for the quarter-finals (indicated in green).', 'M. A. Chidambaram Stadium, Chennai', 'Mahinda Rajapaksa International Cricket Stadium, Sooriyawewa', 'Sardar Patel Stadium, Ahmedabad', 'Mahinda Rajapaksa International Cricket Stadium, Sooriyawewa', 'Vidarbha Cricket Association Stadium, Nagpur', 'R. Premadasa Stadium, Colombo', 'Vidarbha Cricket Association Stadium, Nagpur', 'R. Premadasa Stadium, Colombo', 'R. Premadasa Stadium, Colombo', 'Sardar Patel Stadium, Ahmedabad', 'R. Premadasa Stadium, Colombo', 'Feroz Shah Kotla Stadium, Delhi', 'Pallekele International Cricket Stadium, Kandy', 'Pallekele International Cricket Stadium, Kandy', 'Wankhede Stadium, Mumbai', 'M. Chinnaswamy Stadium, Bangalore', 'Pallekele International Cricket Stadium, Kandy', 'M. Chinnaswamy Stadium, Bangalore', 'Wankhede Stadium, Mumbai', 'R. Premadasa Stadium, Colombo', 'Eden Gardens, Kolkata', 'The top four teams from each group qualified for the Quarter finals (indicated in green).', 'Sher-e-Bangla National Cricket Stadium, Dhaka', 'Vidarbha Cricket Association Stadium, Nagpur', 'Feroz Shah Kotla Stadium, Delhi', 'Sher-e-Bangla National Cricket Stadium, Dhaka', 'M. Chinnaswamy Stadium, Bangalore', 'Feroz Shah Kotla Stadium, Delhi', 'M. Chinnaswamy Stadium, Bangalore', 'Punjab Cricket Association Stadium, Mohali', 'Sher-e-Bangla National Cricket Stadium, Dhaka', 'M. A. Chidambaram Stadium, Chennai', 'M. Chinnaswamy Stadium, Bangalore', 'Feroz Shah Kotla Stadium, Delhi', 'Punjab Cricket Association Stadium, Mohali', 'Zohur Ahmed Chowdhury Stadium, Chittagong', 'Vidarbha Cricket Association Stadium, Nagpur', 'Zohur Ahmed Chowdhury Stadium, Chittagong', 'Eden Gardens, Kolkata', 'M. A. Chidambaram Stadium, Chennai', 'Eden Gardens, Kolkata', 'Sher-e-Bangla National Cricket Stadium, Dhaka', 'M. A. Chidambaram Stadium, Chennai', 'Sher-e-Bangla National Cricket Stadium, Dhaka', 'Sardar Patel Stadium, Ahmedabad', 'Sher-e-Bangla National Cricket Stadium, Dhaka', 'R. Premadasa Stadium, Colombo', 'R. Premadasa Stadium, Colombo', 'Punjab Cricket Association Stadium, Mohali', 'Wankhede Stadium, Mumbai']\n"
     ]
    }
   ],
   "source": [
    "an2=[]\n",
    "for a in an1:\n",
    "    if a not in 'Scorecard':\n",
    "        an2.append(a)\n",
    "print(an2)"
   ]
  },
  {
   "cell_type": "code",
   "execution_count": 20,
   "id": "02741c2d",
   "metadata": {
    "scrolled": true
   },
   "outputs": [
    {
     "name": "stdout",
     "output_type": "stream",
     "text": [
      "['R. Premadasa Stadium, Colombo', 'Singhalese Sports Club Cricket Ground, Colombo', 'Zohur Ahmed Chowdhury Stadium, Chittagong', 'Vidarbha Cricket Association Stadium, Nagpur', 'M. A. Chidambaram Stadium, Chennai', 'M. Chinnaswamy Stadium, Bangalore', 'Vidarbha Cricket Association Stadium, Nagpur', 'Singhalese Sports Club Cricket Ground, Colombo', 'Sher-e-Bangla National Cricket Stadium, Dhaka', 'M. Chinnaswamy Stadium, Bangalore', 'R. Premadasa Stadium, Colombo', 'Fatullah Osmani Stadium, Fatullah', 'M. A. Chidambaram Stadium, Chennai', 'Fatullah Osmani Stadium, Fatullah', 'M. A. Chidambaram Stadium, Chennai', 'Mahinda Rajapaksa International Cricket Stadium, Sooriyawewa', 'Sardar Patel Stadium, Ahmedabad', 'Mahinda Rajapaksa International Cricket Stadium, Sooriyawewa', 'Vidarbha Cricket Association Stadium, Nagpur', 'R. Premadasa Stadium, Colombo', 'Vidarbha Cricket Association Stadium, Nagpur', 'R. Premadasa Stadium, Colombo', 'R. Premadasa Stadium, Colombo', 'Sardar Patel Stadium, Ahmedabad', 'R. Premadasa Stadium, Colombo', 'Feroz Shah Kotla Stadium, Delhi', 'Pallekele International Cricket Stadium, Kandy', 'Pallekele International Cricket Stadium, Kandy', 'Wankhede Stadium, Mumbai', 'M. Chinnaswamy Stadium, Bangalore', 'Pallekele International Cricket Stadium, Kandy', 'M. Chinnaswamy Stadium, Bangalore', 'Wankhede Stadium, Mumbai', 'R. Premadasa Stadium, Colombo', 'Eden Gardens, Kolkata', 'The top four teams from each group qualified for the Quarter finals (indicated in green).', 'Sher-e-Bangla National Cricket Stadium, Dhaka', 'Vidarbha Cricket Association Stadium, Nagpur', 'Feroz Shah Kotla Stadium, Delhi', 'Sher-e-Bangla National Cricket Stadium, Dhaka', 'M. Chinnaswamy Stadium, Bangalore', 'Feroz Shah Kotla Stadium, Delhi', 'M. Chinnaswamy Stadium, Bangalore', 'Punjab Cricket Association Stadium, Mohali', 'Sher-e-Bangla National Cricket Stadium, Dhaka', 'M. A. Chidambaram Stadium, Chennai', 'M. Chinnaswamy Stadium, Bangalore', 'Feroz Shah Kotla Stadium, Delhi', 'Punjab Cricket Association Stadium, Mohali', 'Zohur Ahmed Chowdhury Stadium, Chittagong', 'Vidarbha Cricket Association Stadium, Nagpur', 'Zohur Ahmed Chowdhury Stadium, Chittagong', 'Eden Gardens, Kolkata', 'M. A. Chidambaram Stadium, Chennai', 'Eden Gardens, Kolkata', 'Sher-e-Bangla National Cricket Stadium, Dhaka', 'M. A. Chidambaram Stadium, Chennai', 'Sher-e-Bangla National Cricket Stadium, Dhaka', 'Sardar Patel Stadium, Ahmedabad', 'Sher-e-Bangla National Cricket Stadium, Dhaka', 'R. Premadasa Stadium, Colombo', 'R. Premadasa Stadium, Colombo', 'Punjab Cricket Association Stadium, Mohali', 'Wankhede Stadium, Mumbai']\n"
     ]
    }
   ],
   "source": [
    "an2.remove('The top four teams from each group qualified for the quarter-finals (indicated in green).')\n",
    "print(an2)"
   ]
  },
  {
   "cell_type": "code",
   "execution_count": 23,
   "id": "b8c1fc86",
   "metadata": {},
   "outputs": [],
   "source": [
    "#last result of venues an2 above"
   ]
  },
  {
   "cell_type": "code",
   "execution_count": 22,
   "id": "d1638e6a",
   "metadata": {},
   "outputs": [
    {
     "data": {
      "text/plain": [
       "63"
      ]
     },
     "execution_count": 22,
     "metadata": {},
     "output_type": "execute_result"
    }
   ],
   "source": [
    "len(an2)"
   ]
  },
  {
   "cell_type": "code",
   "execution_count": 21,
   "id": "e92c8b2c",
   "metadata": {},
   "outputs": [
    {
     "name": "stdout",
     "output_type": "stream",
     "text": [
      "['R. Premadasa Stadium, Colombo', 'Singhalese Sports Club Cricket Ground, Colombo', 'Zohur Ahmed Chowdhury Stadium, Chittagong', 'Vidarbha Cricket Association Stadium, Nagpur', 'M. A. Chidambaram Stadium, Chennai', 'M. Chinnaswamy Stadium, Bangalore', 'Vidarbha Cricket Association Stadium, Nagpur', 'Singhalese Sports Club Cricket Ground, Colombo', 'Sher-e-Bangla National Cricket Stadium, Dhaka', 'M. Chinnaswamy Stadium, Bangalore', 'R. Premadasa Stadium, Colombo', 'Fatullah Osmani Stadium, Fatullah', 'M. A. Chidambaram Stadium, Chennai', 'Fatullah Osmani Stadium, Fatullah', 'M. A. Chidambaram Stadium, Chennai', 'Mahinda Rajapaksa International Cricket Stadium, Sooriyawewa', 'Sardar Patel Stadium, Ahmedabad', 'Mahinda Rajapaksa International Cricket Stadium, Sooriyawewa', 'Vidarbha Cricket Association Stadium, Nagpur', 'R. Premadasa Stadium, Colombo', 'Vidarbha Cricket Association Stadium, Nagpur', 'R. Premadasa Stadium, Colombo', 'R. Premadasa Stadium, Colombo', 'Sardar Patel Stadium, Ahmedabad', 'R. Premadasa Stadium, Colombo', 'Feroz Shah Kotla Stadium, Delhi', 'Pallekele International Cricket Stadium, Kandy', 'Pallekele International Cricket Stadium, Kandy', 'Wankhede Stadium, Mumbai', 'M. Chinnaswamy Stadium, Bangalore', 'Pallekele International Cricket Stadium, Kandy', 'M. Chinnaswamy Stadium, Bangalore', 'Wankhede Stadium, Mumbai', 'R. Premadasa Stadium, Colombo', 'Eden Gardens, Kolkata', 'Sher-e-Bangla National Cricket Stadium, Dhaka', 'Vidarbha Cricket Association Stadium, Nagpur', 'Feroz Shah Kotla Stadium, Delhi', 'Sher-e-Bangla National Cricket Stadium, Dhaka', 'M. Chinnaswamy Stadium, Bangalore', 'Feroz Shah Kotla Stadium, Delhi', 'M. Chinnaswamy Stadium, Bangalore', 'Punjab Cricket Association Stadium, Mohali', 'Sher-e-Bangla National Cricket Stadium, Dhaka', 'M. A. Chidambaram Stadium, Chennai', 'M. Chinnaswamy Stadium, Bangalore', 'Feroz Shah Kotla Stadium, Delhi', 'Punjab Cricket Association Stadium, Mohali', 'Zohur Ahmed Chowdhury Stadium, Chittagong', 'Vidarbha Cricket Association Stadium, Nagpur', 'Zohur Ahmed Chowdhury Stadium, Chittagong', 'Eden Gardens, Kolkata', 'M. A. Chidambaram Stadium, Chennai', 'Eden Gardens, Kolkata', 'Sher-e-Bangla National Cricket Stadium, Dhaka', 'M. A. Chidambaram Stadium, Chennai', 'Sher-e-Bangla National Cricket Stadium, Dhaka', 'Sardar Patel Stadium, Ahmedabad', 'Sher-e-Bangla National Cricket Stadium, Dhaka', 'R. Premadasa Stadium, Colombo', 'R. Premadasa Stadium, Colombo', 'Punjab Cricket Association Stadium, Mohali', 'Wankhede Stadium, Mumbai']\n"
     ]
    }
   ],
   "source": [
    "an2.remove('The top four teams from each group qualified for the Quarter finals (indicated in green).')\n",
    "print(an2)\n"
   ]
  },
  {
   "cell_type": "code",
   "execution_count": 24,
   "id": "b00abf01",
   "metadata": {},
   "outputs": [
    {
     "data": {
      "text/plain": [
       "63"
      ]
     },
     "execution_count": 24,
     "metadata": {},
     "output_type": "execute_result"
    }
   ],
   "source": [
    "len(an2)"
   ]
  },
  {
   "cell_type": "code",
   "execution_count": 26,
   "id": "6f4edac4",
   "metadata": {},
   "outputs": [
    {
     "name": "stdout",
     "output_type": "stream",
     "text": [
      "[<a href=\"/wiki/West_Indies_cricket_team\" title=\"West Indies cricket team\">West Indies</a>, <a href=\"/wiki/Kenya_national_cricket_team\" title=\"Kenya national cricket team\">Kenya</a>, <a href=\"/wiki/Sri_Lanka_national_cricket_team\" title=\"Sri Lanka national cricket team\">Sri Lanka</a>, <a href=\"/wiki/Netherlands_national_cricket_team\" title=\"Netherlands national cricket team\">Netherlands</a>, <a href=\"/wiki/Canada_national_cricket_team\" title=\"Canada national cricket team\">Canada</a>, <a href=\"/wiki/Bangladesh_national_cricket_team\" title=\"Bangladesh national cricket team\">Bangladesh</a>, <a href=\"/wiki/New_Zealand_national_cricket_team\" title=\"New Zealand national cricket team\">New Zealand</a>, <a href=\"/wiki/Ireland_cricket_team\" title=\"Ireland cricket team\">Ireland</a>, <a href=\"/wiki/Zimbabwe_national_cricket_team\" title=\"Zimbabwe national cricket team\">Zimbabwe</a>, <a href=\"/wiki/South_Africa_national_cricket_team\" title=\"South Africa national cricket team\">South Africa</a>, <a href=\"/wiki/India_national_cricket_team\" title=\"India national cricket team\">India</a>, <a href=\"/wiki/Australia_national_cricket_team\" title=\"Australia national cricket team\">Australia</a>, <a href=\"/wiki/Zimbabwe_national_cricket_team\" title=\"Zimbabwe national cricket team\">Zimbabwe</a>, <a href=\"/wiki/Ireland_cricket_team\" title=\"Ireland cricket team\">Ireland</a>, <a href=\"/wiki/Kenya_national_cricket_team\" title=\"Kenya national cricket team\">Kenya</a>, <a href=\"/wiki/Netherlands_national_cricket_team\" title=\"Netherlands national cricket team\">Netherlands</a>, <a href=\"/wiki/Pakistan_national_cricket_team\" title=\"Pakistan national cricket team\">Pakistan</a>, <a href=\"/wiki/Bangladesh_national_cricket_team\" title=\"Bangladesh national cricket team\">Bangladesh</a>, <a href=\"/wiki/Australia_national_cricket_team\" title=\"Australia national cricket team\">Australia</a>, <a href=\"/wiki/South_Africa_national_cricket_team\" title=\"South Africa national cricket team\">South Africa</a>, <a href=\"/wiki/West_Indies_cricket_team\" title=\"West Indies cricket team\">West Indies</a>, <a href=\"/wiki/Sri_Lanka_national_cricket_team\" title=\"Sri Lanka national cricket team\">Sri Lanka</a>, <a href=\"/wiki/England_cricket_team\" title=\"England cricket team\">England</a>, <a href=\"/wiki/Canada_national_cricket_team\" title=\"Canada national cricket team\">Canada</a>, <a href=\"/wiki/India_national_cricket_team\" title=\"India national cricket team\">India</a>, <a href=\"/wiki/New_Zealand_national_cricket_team\" title=\"New Zealand national cricket team\">New Zealand</a>, <a href=\"/wiki/England_cricket_team\" title=\"England cricket team\">England</a>, <a href=\"/wiki/Pakistan_national_cricket_team\" title=\"Pakistan national cricket team\">Pakistan</a>, <a href=\"/wiki/Kenya_national_cricket_team\" title=\"Kenya national cricket team\">Kenya</a>, <a href=\"/wiki/New_Zealand_national_cricket_team\" title=\"New Zealand national cricket team\">New Zealand</a>, <a href=\"/wiki/Sri_Lanka_national_cricket_team\" title=\"Sri Lanka national cricket team\">Sri Lanka</a>, <a href=\"/wiki/Canada_national_cricket_team\" title=\"Canada national cricket team\">Canada</a>, <a href=\"/wiki/Australia_national_cricket_team\" title=\"Australia national cricket team\">Australia</a>, <a href=\"/wiki/Zimbabwe_national_cricket_team\" title=\"Zimbabwe national cricket team\">Zimbabwe</a>, <a href=\"/wiki/Pakistan_national_cricket_team\" title=\"Pakistan national cricket team\">Pakistan</a>, <a href=\"/wiki/Kenya_national_cricket_team\" title=\"Kenya national cricket team\">Kenya</a>, <a href=\"/wiki/New_Zealand_national_cricket_team\" title=\"New Zealand national cricket team\">New Zealand</a>, <a href=\"/wiki/Australia_national_cricket_team\" title=\"Australia national cricket team\">Australia</a>, <a href=\"/wiki/Pakistan_national_cricket_team\" title=\"Pakistan national cricket team\">Pakistan</a>, <a href=\"/wiki/Sri_Lanka_national_cricket_team\" title=\"Sri Lanka national cricket team\">Sri Lanka</a>, <a href=\"/wiki/Zimbabwe_national_cricket_team\" title=\"Zimbabwe national cricket team\">Zimbabwe</a>, <a href=\"/wiki/Canada_national_cricket_team\" title=\"Canada national cricket team\">Canada</a>, <a href=\"/wiki/Kenya_national_cricket_team\" title=\"Kenya national cricket team\">Kenya</a>, <a href=\"/wiki/Sri_Lanka_national_cricket_team\" title=\"Sri Lanka national cricket team\">Sri Lanka</a>, <a href=\"/wiki/Pakistan_national_cricket_team\" title=\"Pakistan national cricket team\">Pakistan</a>, <a href=\"/wiki/Canada_national_cricket_team\" title=\"Canada national cricket team\">Canada</a>, <a href=\"/wiki/Zimbabwe_national_cricket_team\" title=\"Zimbabwe national cricket team\">Zimbabwe</a>, <a href=\"/wiki/New_Zealand_national_cricket_team\" title=\"New Zealand national cricket team\">New Zealand</a>, <a href=\"/wiki/Sri_Lanka_national_cricket_team\" title=\"Sri Lanka national cricket team\">Sri Lanka</a>, <a href=\"/wiki/Australia_national_cricket_team\" title=\"Australia national cricket team\">Australia</a>, <a href=\"/wiki/Kenya_national_cricket_team\" title=\"Kenya national cricket team\">Kenya</a>, <a href=\"/wiki/Canada_national_cricket_team\" title=\"Canada national cricket team\">Canada</a>, <a href=\"/wiki/New_Zealand_national_cricket_team\" title=\"New Zealand national cricket team\">New Zealand</a>, <a href=\"/wiki/Pakistan_national_cricket_team\" title=\"Pakistan national cricket team\">Pakistan</a>, <a href=\"/wiki/Sri_Lanka_national_cricket_team\" title=\"Sri Lanka national cricket team\">Sri Lanka</a>, <a href=\"/wiki/Zimbabwe_national_cricket_team\" title=\"Zimbabwe national cricket team\">Zimbabwe</a>, <a href=\"/wiki/New_Zealand_national_cricket_team\" title=\"New Zealand national cricket team\">New Zealand</a>, <a href=\"/wiki/Canada_national_cricket_team\" title=\"Canada national cricket team\">Canada</a>, <a href=\"/wiki/Australia_national_cricket_team\" title=\"Australia national cricket team\">Australia</a>, <a href=\"/wiki/Kenya_national_cricket_team\" title=\"Kenya national cricket team\">Kenya</a>, <a href=\"/wiki/Zimbabwe_national_cricket_team\" title=\"Zimbabwe national cricket team\">Zimbabwe</a>, <a href=\"/wiki/Pakistan_national_cricket_team\" title=\"Pakistan national cricket team\">Pakistan</a>, <a href=\"/wiki/Canada_national_cricket_team\" title=\"Canada national cricket team\">Canada</a>, <a href=\"/wiki/Australia_national_cricket_team\" title=\"Australia national cricket team\">Australia</a>, <a href=\"/wiki/Sri_Lanka_national_cricket_team\" title=\"Sri Lanka national cricket team\">Sri Lanka</a>, <a href=\"/wiki/New_Zealand_national_cricket_team\" title=\"New Zealand national cricket team\">New Zealand</a>, <a href=\"/wiki/Australia_national_cricket_team\" title=\"Australia national cricket team\">Australia</a>, <a href=\"/wiki/Pakistan_national_cricket_team\" title=\"Pakistan national cricket team\">Pakistan</a>, <a href=\"/wiki/Zimbabwe_national_cricket_team\" title=\"Zimbabwe national cricket team\">Zimbabwe</a>, <a href=\"/wiki/Kenya_national_cricket_team\" title=\"Kenya national cricket team\">Kenya</a>, <a href=\"/wiki/India_national_cricket_team\" title=\"India national cricket team\">India</a>, <a href=\"/wiki/Bangladesh_national_cricket_team\" title=\"Bangladesh national cricket team\">Bangladesh</a>, <a href=\"/wiki/Netherlands_national_cricket_team\" title=\"Netherlands national cricket team\">Netherlands</a>, <a href=\"/wiki/England_cricket_team\" title=\"England cricket team\">England</a>, <a href=\"/wiki/West_Indies_cricket_team\" title=\"West Indies cricket team\">West Indies</a>, <a href=\"/wiki/South_Africa_national_cricket_team\" title=\"South Africa national cricket team\">South Africa</a>, <a href=\"/wiki/Bangladesh_national_cricket_team\" title=\"Bangladesh national cricket team\">Bangladesh</a>, <a href=\"/wiki/Ireland_cricket_team\" title=\"Ireland cricket team\">Ireland</a>, <a href=\"/wiki/India_national_cricket_team\" title=\"India national cricket team\">India</a>, <a href=\"/wiki/England_cricket_team\" title=\"England cricket team\">England</a>, <a href=\"/wiki/West_Indies_cricket_team\" title=\"West Indies cricket team\">West Indies</a>, <a href=\"/wiki/Netherlands_national_cricket_team\" title=\"Netherlands national cricket team\">Netherlands</a>, <a href=\"/wiki/England_cricket_team\" title=\"England cricket team\">England</a>, <a href=\"/wiki/Ireland_cricket_team\" title=\"Ireland cricket team\">Ireland</a>, <a href=\"/wiki/South_Africa_national_cricket_team\" title=\"South Africa national cricket team\">South Africa</a>, <a href=\"/wiki/Netherlands_national_cricket_team\" title=\"Netherlands national cricket team\">Netherlands</a>, <a href=\"/wiki/Bangladesh_national_cricket_team\" title=\"Bangladesh national cricket team\">Bangladesh</a>, <a href=\"/wiki/West_Indies_cricket_team\" title=\"West Indies cricket team\">West Indies</a>, <a href=\"/wiki/England_cricket_team\" title=\"England cricket team\">England</a>, <a href=\"/wiki/South_Africa_national_cricket_team\" title=\"South Africa national cricket team\">South Africa</a>, <a href=\"/wiki/Ireland_cricket_team\" title=\"Ireland cricket team\">Ireland</a>, <a href=\"/wiki/India_national_cricket_team\" title=\"India national cricket team\">India</a>, <a href=\"/wiki/Netherlands_national_cricket_team\" title=\"Netherlands national cricket team\">Netherlands</a>, <a href=\"/wiki/India_national_cricket_team\" title=\"India national cricket team\">India</a>, <a href=\"/wiki/West_Indies_cricket_team\" title=\"West Indies cricket team\">West Indies</a>, <a href=\"/wiki/Ireland_cricket_team\" title=\"Ireland cricket team\">Ireland</a>, <a href=\"/wiki/England_cricket_team\" title=\"England cricket team\">England</a>, <a href=\"/wiki/Bangladesh_national_cricket_team\" title=\"Bangladesh national cricket team\">Bangladesh</a>, <a href=\"/wiki/India_national_cricket_team\" title=\"India national cricket team\">India</a>, <a href=\"/wiki/South_Africa_national_cricket_team\" title=\"South Africa national cricket team\">South Africa</a>, <a href=\"/wiki/Netherlands_national_cricket_team\" title=\"Netherlands national cricket team\">Netherlands</a>, <a href=\"/wiki/Bangladesh_national_cricket_team\" title=\"Bangladesh national cricket team\">Bangladesh</a>, <a href=\"/wiki/South_Africa_national_cricket_team\" title=\"South Africa national cricket team\">South Africa</a>, <a href=\"/wiki/Ireland_cricket_team\" title=\"Ireland cricket team\">Ireland</a>, <a href=\"/wiki/England_cricket_team\" title=\"England cricket team\">England</a>, <a href=\"/wiki/West_Indies_cricket_team\" title=\"West Indies cricket team\">West Indies</a>, <a href=\"/wiki/Netherlands_national_cricket_team\" title=\"Netherlands national cricket team\">Netherlands</a>, <a href=\"/wiki/Ireland_cricket_team\" title=\"Ireland cricket team\">Ireland</a>, <a href=\"/wiki/South_Africa_national_cricket_team\" title=\"South Africa national cricket team\">South Africa</a>, <a href=\"/wiki/Bangladesh_national_cricket_team\" title=\"Bangladesh national cricket team\">Bangladesh</a>, <a href=\"/wiki/India_national_cricket_team\" title=\"India national cricket team\">India</a>, <a href=\"/wiki/West_Indies_cricket_team\" title=\"West Indies cricket team\">West Indies</a>, <a href=\"/wiki/West_Indies_cricket_team\" title=\"West Indies cricket team\">West Indies</a>, <a href=\"/wiki/Pakistan_national_cricket_team\" title=\"Pakistan national cricket team\">Pakistan</a>, <a href=\"/wiki/Australia_national_cricket_team\" title=\"Australia national cricket team\">Australia</a>, <a href=\"/wiki/India_national_cricket_team\" title=\"India national cricket team\">India</a>, <a href=\"/wiki/New_Zealand_national_cricket_team\" title=\"New Zealand national cricket team\">New Zealand</a>, <a href=\"/wiki/South_Africa_national_cricket_team\" title=\"South Africa national cricket team\">South Africa</a>, <a href=\"/wiki/England_cricket_team\" title=\"England cricket team\">England</a>, <a href=\"/wiki/Sri_Lanka_national_cricket_team\" title=\"Sri Lanka national cricket team\">Sri Lanka</a>, <a href=\"/wiki/New_Zealand_national_cricket_team\" title=\"New Zealand national cricket team\">New Zealand</a>, <a href=\"/wiki/Sri_Lanka_national_cricket_team\" title=\"Sri Lanka national cricket team\">Sri Lanka</a>, <a href=\"/wiki/India_national_cricket_team\" title=\"India national cricket team\">India</a>, <a href=\"/wiki/Pakistan_national_cricket_team\" title=\"Pakistan national cricket team\">Pakistan</a>, <a href=\"/wiki/Sri_Lanka_national_cricket_team\" title=\"Sri Lanka national cricket team\">Sri Lanka</a>, <a href=\"/wiki/India_national_cricket_team\" title=\"India national cricket team\">India</a>]\n"
     ]
    }
   ],
   "source": [
    "import re \n",
    "import requests\n",
    "from bs4 import BeautifulSoup \n",
    "res=requests.get(url,headers=headers).text\n",
    "soup=BeautifulSoup(res,'lxml')\n",
    "teamo=soup.find_all('div',style=re.compile(r\"^width: 100%;[\\s\\w;:-]+\"))\n",
    "all_teams=[]\n",
    "for tag in teamo:\n",
    "    an=tag.find_all('a',title=re.compile(r\"^[a-zA-Z\\s]+cricket team\\b\"))\n",
    "    all_teams.extend(an)\n",
    "print(all_teams)"
   ]
  },
  {
   "cell_type": "code",
   "execution_count": 27,
   "id": "df977619",
   "metadata": {},
   "outputs": [
    {
     "name": "stdout",
     "output_type": "stream",
     "text": [
      "['West Indies', 'Kenya', 'Sri Lanka', 'Netherlands', 'Canada', 'Bangladesh', 'New Zealand', 'Ireland', 'Zimbabwe', 'South Africa', 'India', 'Australia', 'Zimbabwe', 'Ireland', 'Kenya', 'Netherlands', 'Pakistan', 'Bangladesh', 'Australia', 'South Africa', 'West Indies', 'Sri Lanka', 'England', 'Canada', 'India', 'New Zealand', 'England', 'Pakistan', 'Kenya', 'New Zealand', 'Sri Lanka', 'Canada', 'Australia', 'Zimbabwe', 'Pakistan', 'Kenya', 'New Zealand', 'Australia', 'Pakistan', 'Sri Lanka', 'Zimbabwe', 'Canada', 'Kenya', 'Sri Lanka', 'Pakistan', 'Canada', 'Zimbabwe', 'New Zealand', 'Sri Lanka', 'Australia', 'Kenya', 'Canada', 'New Zealand', 'Pakistan', 'Sri Lanka', 'Zimbabwe', 'New Zealand', 'Canada', 'Australia', 'Kenya', 'Zimbabwe', 'Pakistan', 'Canada', 'Australia', 'Sri Lanka', 'New Zealand', 'Australia', 'Pakistan', 'Zimbabwe', 'Kenya', 'India', 'Bangladesh', 'Netherlands', 'England', 'West Indies', 'South Africa', 'Bangladesh', 'Ireland', 'India', 'England', 'West Indies', 'Netherlands', 'England', 'Ireland', 'South Africa', 'Netherlands', 'Bangladesh', 'West Indies', 'England', 'South Africa', 'Ireland', 'India', 'Netherlands', 'India', 'West Indies', 'Ireland', 'England', 'Bangladesh', 'India', 'South Africa', 'Netherlands', 'Bangladesh', 'South Africa', 'Ireland', 'England', 'West Indies', 'Netherlands', 'Ireland', 'South Africa', 'Bangladesh', 'India', 'West Indies', 'West Indies', 'Pakistan', 'Australia', 'India', 'New Zealand', 'South Africa', 'England', 'Sri Lanka', 'New Zealand', 'Sri Lanka', 'India', 'Pakistan', 'Sri Lanka', 'India']\n"
     ]
    }
   ],
   "source": [
    "all_team1=[]\n",
    "for t in all_teams:\n",
    "    aq=t.text\n",
    "    all_team1.append(aq)\n",
    "print(all_team1)"
   ]
  },
  {
   "cell_type": "code",
   "execution_count": 28,
   "id": "e424c260",
   "metadata": {},
   "outputs": [
    {
     "data": {
      "text/plain": [
       "['West Indies',\n",
       " 'Sri Lanka',\n",
       " 'Canada',\n",
       " 'New Zealand',\n",
       " 'Zimbabwe',\n",
       " 'India',\n",
       " 'Zimbabwe',\n",
       " 'Kenya',\n",
       " 'Pakistan',\n",
       " 'Australia',\n",
       " 'West Indies',\n",
       " 'England',\n",
       " 'India',\n",
       " 'England',\n",
       " 'Kenya',\n",
       " 'Sri Lanka',\n",
       " 'Australia',\n",
       " 'Pakistan',\n",
       " 'New Zealand',\n",
       " 'Pakistan',\n",
       " 'Zimbabwe',\n",
       " 'Kenya',\n",
       " 'Pakistan',\n",
       " 'Zimbabwe',\n",
       " 'Sri Lanka',\n",
       " 'Kenya',\n",
       " 'New Zealand',\n",
       " 'Sri Lanka',\n",
       " 'New Zealand',\n",
       " 'Australia',\n",
       " 'Zimbabwe',\n",
       " 'Canada',\n",
       " 'Sri Lanka',\n",
       " 'Australia',\n",
       " 'Zimbabwe',\n",
       " 'India',\n",
       " 'Netherlands',\n",
       " 'West Indies',\n",
       " 'Bangladesh',\n",
       " 'India',\n",
       " 'West Indies',\n",
       " 'England',\n",
       " 'South Africa',\n",
       " 'Bangladesh',\n",
       " 'England',\n",
       " 'Ireland',\n",
       " 'Netherlands',\n",
       " 'West Indies',\n",
       " 'England',\n",
       " 'India',\n",
       " 'Netherlands',\n",
       " 'South Africa',\n",
       " 'England',\n",
       " 'Netherlands',\n",
       " 'South Africa',\n",
       " 'India',\n",
       " 'West Indies',\n",
       " 'Australia',\n",
       " 'New Zealand',\n",
       " 'England',\n",
       " 'New Zealand',\n",
       " 'India',\n",
       " 'Sri Lanka']"
      ]
     },
     "execution_count": 28,
     "metadata": {},
     "output_type": "execute_result"
    }
   ],
   "source": [
    "teambat_first=all_team1[0::2]\n",
    "teambat_first"
   ]
  },
  {
   "cell_type": "code",
   "execution_count": 29,
   "id": "62638a04",
   "metadata": {},
   "outputs": [
    {
     "data": {
      "text/plain": [
       "['Kenya',\n",
       " 'Netherlands',\n",
       " 'Bangladesh',\n",
       " 'Ireland',\n",
       " 'South Africa',\n",
       " 'Australia',\n",
       " 'Ireland',\n",
       " 'Netherlands',\n",
       " 'Bangladesh',\n",
       " 'South Africa',\n",
       " 'Sri Lanka',\n",
       " 'Canada',\n",
       " 'New Zealand',\n",
       " 'Pakistan',\n",
       " 'New Zealand',\n",
       " 'Canada',\n",
       " 'Zimbabwe',\n",
       " 'Kenya',\n",
       " 'Australia',\n",
       " 'Sri Lanka',\n",
       " 'Canada',\n",
       " 'Sri Lanka',\n",
       " 'Canada',\n",
       " 'New Zealand',\n",
       " 'Australia',\n",
       " 'Canada',\n",
       " 'Pakistan',\n",
       " 'Zimbabwe',\n",
       " 'Canada',\n",
       " 'Kenya',\n",
       " 'Pakistan',\n",
       " 'Australia',\n",
       " 'New Zealand',\n",
       " 'Pakistan',\n",
       " 'Kenya',\n",
       " 'Bangladesh',\n",
       " 'England',\n",
       " 'South Africa',\n",
       " 'Ireland',\n",
       " 'England',\n",
       " 'Netherlands',\n",
       " 'Ireland',\n",
       " 'Netherlands',\n",
       " 'West Indies',\n",
       " 'South Africa',\n",
       " 'India',\n",
       " 'India',\n",
       " 'Ireland',\n",
       " 'Bangladesh',\n",
       " 'South Africa',\n",
       " 'Bangladesh',\n",
       " 'Ireland',\n",
       " 'West Indies',\n",
       " 'Ireland',\n",
       " 'Bangladesh',\n",
       " 'West Indies',\n",
       " 'Pakistan',\n",
       " 'India',\n",
       " 'South Africa',\n",
       " 'Sri Lanka',\n",
       " 'Sri Lanka',\n",
       " 'Pakistan',\n",
       " 'India']"
      ]
     },
     "execution_count": 29,
     "metadata": {},
     "output_type": "execute_result"
    }
   ],
   "source": [
    "teambat_second=all_team1[1::2]\n",
    "teambat_second"
   ]
  },
  {
   "cell_type": "code",
   "execution_count": 33,
   "id": "c10136ec",
   "metadata": {},
   "outputs": [
    {
     "data": {
      "text/plain": [
       "63"
      ]
     },
     "execution_count": 33,
     "metadata": {},
     "output_type": "execute_result"
    }
   ],
   "source": [
    "len(teambat_second)"
   ]
  },
  {
   "cell_type": "code",
   "execution_count": 30,
   "id": "733d08c9",
   "metadata": {},
   "outputs": [
    {
     "data": {
      "text/plain": [
       "['http://www.espncricinfo.com/icc_cricket_worldcup2011/engine/match/473321.html',\n",
       " 'http://www.espncricinfo.com/icc_cricket_worldcup2011/engine/match/473324.html',\n",
       " 'http://www.espncricinfo.com/icc_cricket_worldcup2011/engine/match/473325.html',\n",
       " 'http://www.espncricinfo.com/icc_cricket_worldcup2011/engine/match/473323.html',\n",
       " 'http://www.espncricinfo.com/icc_cricket_worldcup2011/engine/match/473322.html',\n",
       " 'http://www.espncricinfo.com/icc_cricket_worldcup2011/engine/match/473326.html',\n",
       " 'http://www.espncricinfo.com/icc_cricket_worldcup2011/engine/match/473328.html',\n",
       " 'http://www.espncricinfo.com/icc_cricket_worldcup2011/engine/match/473329.html',\n",
       " 'http://www.espncricinfo.com/icc_cricket_worldcup2011/engine/match/473330.html',\n",
       " 'http://www.espncricinfo.com/icc_cricket_worldcup2011/engine/match/473327.html',\n",
       " 'http://www.espncricinfo.com/icc_cricket_worldcup2011/engine/match/473331.html',\n",
       " 'http://www.espncricinfo.com/icc_cricket_worldcup2011/engine/match/473332.html',\n",
       " 'http://www.espncricinfo.com/icc_cricket_worldcup2011/engine/match/473333.html',\n",
       " 'http://www.espncricinfo.com/icc_cricket_worldcup2011/engine/match/473334.html',\n",
       " 'http://www.espncricinfo.com/icc_cricket_worldcup2011/engine/match/433559.html',\n",
       " 'http://www.espncricinfo.com/icc_cricket_worldcup2011/engine/match/433560.html',\n",
       " 'http://www.espncricinfo.com/icc_cricket_worldcup2011/engine/match/433561.html',\n",
       " 'http://www.espncricinfo.com/icc_cricket_worldcup2011/engine/match/433563.html',\n",
       " 'http://www.espncricinfo.com/icc_cricket_worldcup2011/engine/match/433565.html',\n",
       " 'http://www.espncricinfo.com/icc_cricket_worldcup2011/engine/match/433567.html',\n",
       " 'http://www.espncricinfo.com/icc_cricket_worldcup2011/engine/match/433570.html',\n",
       " 'http://www.espncricinfo.com/icc_cricket_worldcup2011/engine/match/433571.html',\n",
       " 'http://www.espncricinfo.com/icc_cricket_worldcup2011/engine/match/433574.html',\n",
       " 'http://www.espncricinfo.com/icc_cricket_worldcup2011/engine/match/433575.html',\n",
       " 'http://www.espncricinfo.com/icc_cricket_worldcup2011/engine/match/433577.html',\n",
       " 'http://www.espncricinfo.com/icc_cricket_worldcup2011/engine/current/match/433580.html',\n",
       " 'http://www.espncricinfo.com/icc_cricket_worldcup2011/engine/current/match/433581.html',\n",
       " 'http://www.espncricinfo.com/icc_cricket_worldcup2011/engine/current/match/433583.html',\n",
       " 'http://www.espncricinfo.com/icc_cricket_worldcup2011/engine/current/match/433587.html',\n",
       " 'http://www.espncricinfo.com/icc_cricket_worldcup2011/engine/current/match/433588.html',\n",
       " 'http://www.espncricinfo.com/icc_cricket_worldcup2011/engine/current/match/433589.html',\n",
       " 'http://www.espncricinfo.com/icc_cricket_worldcup2011/engine/current/match/433592.html',\n",
       " 'http://www.espncricinfo.com/icc_cricket_worldcup2011/engine/current/match/433594.html',\n",
       " 'http://www.espncricinfo.com/icc_cricket_worldcup2011/engine/current/match/433596.html',\n",
       " 'http://www.espncricinfo.com/icc_cricket_worldcup2011/engine/current/match/433598.html',\n",
       " 'http://www.espncricinfo.com/icc_cricket_worldcup2011/engine/match/433558.html',\n",
       " 'http://www.espncricinfo.com/icc_cricket_worldcup2011/engine/match/433562.html',\n",
       " 'http://www.espncricinfo.com/icc_cricket_worldcup2011/engine/match/433564.html',\n",
       " 'http://www.espncricinfo.com/icc_cricket_worldcup2011/engine/match/433566.html',\n",
       " 'http://www.espncricinfo.com/icc_cricket_worldcup2011/engine/match/433568.html',\n",
       " 'http://www.espncricinfo.com/icc_cricket_worldcup2011/engine/match/433569.html',\n",
       " 'http://www.espncricinfo.com/icc_cricket_worldcup2011/engine/match/433572.html',\n",
       " 'http://www.espncricinfo.com/icc_cricket_worldcup2011/engine/match/433573.html',\n",
       " 'http://www.espncricinfo.com/icc_cricket_worldcup2011/engine/match/433576.html',\n",
       " 'http://www.espncricinfo.com/icc_cricket_worldcup2011/engine/match/433579.html',\n",
       " 'http://www.espncricinfo.com/icc_cricket_worldcup2011/engine/match/433578.html',\n",
       " 'http://www.espncricinfo.com/icc_cricket_worldcup2011/engine/match/433582.html',\n",
       " 'http://www.espncricinfo.com/icc_cricket_worldcup2011/engine/match/433584.html',\n",
       " 'http://www.espncricinfo.com/icc_cricket_worldcup2011/engine/match/433585.html',\n",
       " 'http://www.espncricinfo.com/icc_cricket_worldcup2011/engine/match/433586.html',\n",
       " 'http://www.espncricinfo.com/icc_cricket_worldcup2011/engine/match/433590.html',\n",
       " 'http://www.espncricinfo.com/icc_cricket_worldcup201/engine/match/433591.html',\n",
       " 'http://www.espncricinfo.com/icc_cricket_worldcup201/engine/match/433593.html',\n",
       " 'http://www.espncricinfo.com/icc_cricket_worldcup201/engine/match/433595.html',\n",
       " 'http://www.espncricinfo.com/icc_cricket_worldcup201/engine/match/433597.html',\n",
       " 'http://www.espncricinfo.com/icc_cricket_worldcup201/engine/match/433599.html',\n",
       " 'http://www.espncricinfo.com/icc_cricket_worldcup2011/engine/match/433600.html',\n",
       " 'http://www.espncricinfo.com/icc_cricket_worldcup2011/engine/match/433601.html',\n",
       " 'http://www.espncricinfo.com/icc_cricket_worldcup2011/engine/match/433602.html',\n",
       " 'http://www.espncricinfo.com/icc_cricket_worldcup2011/engine/match/433603.html',\n",
       " 'http://www.espncricinfo.com/icc_cricket_worldcup2011/engine/current/match/433604.html',\n",
       " 'http://www.espncricinfo.com/icc_cricket_worldcup2011/engine/current/match/433605.html',\n",
       " 'http://www.espncricinfo.com/icc_cricket_worldcup2011/engine/current/match/433606.html']"
      ]
     },
     "execution_count": 30,
     "metadata": {},
     "output_type": "execute_result"
    }
   ],
   "source": [
    "res=requests.get(url,headers=headers)\n",
    "soup=BeautifulSoup(res.text,'lxml')\n",
    "scorecard_link=[a['href'] for a in soup.find_all('a',string='Scorecard') if 'href' in a.attrs]\n",
    "scorecard_link"
   ]
  },
  {
   "cell_type": "code",
   "execution_count": 31,
   "id": "71691e3e",
   "metadata": {},
   "outputs": [
    {
     "data": {
      "text/plain": [
       "[]"
      ]
     },
     "execution_count": 31,
     "metadata": {},
     "output_type": "execute_result"
    }
   ],
   "source": [
    "res=requests.get(url,headers=headers) \n",
    "soup=BeautifulSoup(res.text,'lxml')\n",
    "scoreboard_link1=[a['href'] for a in soup.find_all('a',string='scorecard') if 'href' in a.attrs] \n",
    "scoreboard_link1"
   ]
  },
  {
   "cell_type": "code",
   "execution_count": 34,
   "id": "f916f951",
   "metadata": {},
   "outputs": [
    {
     "data": {
      "text/plain": [
       "63"
      ]
     },
     "execution_count": 34,
     "metadata": {},
     "output_type": "execute_result"
    }
   ],
   "source": [
    "len(scorecard_link)"
   ]
  },
  {
   "cell_type": "code",
   "execution_count": 35,
   "id": "84b90c9a",
   "metadata": {},
   "outputs": [
    {
     "name": "stdout",
     "output_type": "stream",
     "text": [
      "[[<div class=\"ds-text-compact-m ds-text-typo ds-text-right ds-whitespace-nowrap\"><span class=\"ds-text-compact-s ds-mr-0.5\"></span><strong class=\"\">253/8</strong></div>, <div class=\"ds-text-compact-m ds-text-typo ds-text-right ds-whitespace-nowrap\"><span class=\"ds-text-compact-s ds-mr-0.5\">(45.3/50 ov, T:254) </span><strong class=\"\">192</strong></div>], [<div class=\"ds-text-compact-m ds-text-typo ds-text-right ds-whitespace-nowrap\"><span class=\"ds-text-compact-s ds-mr-0.5\"></span><strong class=\"\">351/5</strong></div>, <div class=\"ds-text-compact-m ds-text-typo ds-text-right ds-whitespace-nowrap\"><span class=\"ds-text-compact-s ds-mr-0.5\">(47.3/50 ov, T:352) </span><strong class=\"\">195</strong></div>], [<div class=\"ds-text-compact-m ds-text-typo ds-text-right ds-whitespace-nowrap\"><span class=\"ds-text-compact-s ds-mr-0.5\"></span><strong class=\"\">112</strong></div>, <div class=\"ds-text-compact-m ds-text-typo ds-text-right ds-whitespace-nowrap\"><span class=\"ds-text-compact-s ds-mr-0.5\">(19.2/50 ov, T:113) </span><strong class=\"\">113/1</strong></div>], [<div class=\"ds-text-compact-m ds-text-typo ds-text-right ds-whitespace-nowrap\"><span class=\"ds-text-compact-s ds-mr-0.5\"></span><strong class=\"\">311/6</strong></div>, <div class=\"ds-text-compact-m ds-text-typo ds-text-right ds-whitespace-nowrap\"><span class=\"ds-text-compact-s ds-mr-0.5\">(48.2/50 ov, T:312) </span><strong class=\"\">279</strong></div>], [<div class=\"ds-text-compact-m ds-text-typo ds-text-right ds-whitespace-nowrap\"><span class=\"ds-text-compact-s ds-mr-0.5\"></span><strong class=\"\">152</strong></div>, <div class=\"ds-text-compact-m ds-text-typo ds-text-right ds-whitespace-nowrap\"><span class=\"ds-text-compact-s ds-mr-0.5\">(23.3/50 ov, T:153) </span><strong class=\"\">153/2</strong></div>], [<div class=\"ds-text-compact-m ds-text-typo ds-text-right ds-whitespace-nowrap\"><span class=\"ds-text-compact-s ds-mr-0.5\"></span><strong class=\"\">214</strong></div>, <div class=\"ds-text-compact-m ds-text-typo ds-text-right ds-whitespace-nowrap\"><span class=\"ds-text-compact-s ds-mr-0.5\">(37.5/50 ov, T:215) </span><strong class=\"\">176</strong></div>], [<div class=\"ds-text-compact-m ds-text-typo ds-text-right ds-whitespace-nowrap\"><span class=\"ds-text-compact-s ds-mr-0.5\"></span><strong class=\"\">244/8</strong></div>, <div class=\"ds-text-compact-m ds-text-typo ds-text-right ds-whitespace-nowrap\"><span class=\"ds-text-compact-s ds-mr-0.5\">(49.3/50 ov, T:245) </span><strong class=\"\">245/6</strong></div>], [<div class=\"ds-text-compact-m ds-text-typo ds-text-right ds-whitespace-nowrap\"><span class=\"ds-text-compact-s ds-mr-0.5\"></span><strong class=\"\">263/5</strong></div>, <div class=\"ds-text-compact-m ds-text-typo ds-text-right ds-whitespace-nowrap\"><span class=\"ds-text-compact-s ds-mr-0.5\">(49.1/50 ov, T:264) </span><strong class=\"\">264/8</strong></div>], [<div class=\"ds-text-compact-m ds-text-typo ds-text-right ds-whitespace-nowrap\"><span class=\"ds-text-compact-s ds-mr-0.5\"></span><strong class=\"\">285/9</strong></div>, <div class=\"ds-text-compact-m ds-text-typo ds-text-right ds-whitespace-nowrap\"><span class=\"ds-text-compact-s ds-mr-0.5\">(41.4/50 ov, T:286) </span><strong class=\"\">196</strong></div>], [<div class=\"ds-text-compact-m ds-text-typo ds-text-right ds-whitespace-nowrap\"><span class=\"ds-text-compact-s ds-mr-0.5\"></span><strong class=\"\">217</strong></div>, <div class=\"ds-text-compact-m ds-text-typo ds-text-right ds-whitespace-nowrap\"><span class=\"ds-text-compact-s ds-mr-0.5\">(44.2/50 ov, T:218) </span><strong class=\"\">218/3</strong></div>], [<div class=\"ds-text-compact-m ds-text-typo ds-text-right ds-whitespace-nowrap\"><span class=\"ds-text-compact-s ds-mr-0.5\"></span><strong class=\"\">281</strong></div>, <div class=\"ds-text-compact-m ds-text-typo ds-text-right ds-whitespace-nowrap\"><span class=\"ds-text-compact-s ds-mr-0.5\">(47.3/50 ov, T:282) </span><strong class=\"\">282/6</strong></div>], [<div class=\"ds-text-compact-m ds-text-typo ds-text-right ds-whitespace-nowrap\"><span class=\"ds-text-compact-s ds-mr-0.5\"></span><strong class=\"\">243</strong></div>, <div class=\"ds-text-compact-m ds-text-typo ds-text-right ds-whitespace-nowrap\"><span class=\"ds-text-compact-s ds-mr-0.5\">(46.1/50 ov, T:244) </span><strong class=\"\">227</strong></div>], [<div class=\"ds-text-compact-m ds-text-typo ds-text-right ds-whitespace-nowrap\"><span class=\"ds-text-compact-s ds-mr-0.5\"></span><strong class=\"\">360/5</strong></div>, <div class=\"ds-text-compact-m ds-text-typo ds-text-right ds-whitespace-nowrap\"><span class=\"ds-text-compact-s ds-mr-0.5\">(43.1/50 ov, T:361) </span><strong class=\"\">243</strong></div>], [<div class=\"ds-text-compact-m ds-text-typo ds-text-right ds-whitespace-nowrap\"><span class=\"ds-text-compact-s ds-mr-0.5\"></span><strong class=\"\">273</strong></div>, <div class=\"ds-text-compact-m ds-text-typo ds-text-right ds-whitespace-nowrap\"><span class=\"ds-text-compact-s ds-mr-0.5\">(46.1/50 ov, T:274) </span><strong class=\"\">206</strong></div>], [<div class=\"ds-text-compact-m ds-text-typo ds-text-right ds-whitespace-nowrap\"><span class=\"ds-text-compact-s ds-mr-0.5\"></span><strong class=\"\">69</strong></div>, <div class=\"ds-text-compact-m ds-text-typo ds-text-right ds-whitespace-nowrap\"><span class=\"ds-text-compact-s ds-mr-0.5\">(8/50 ov, T:70) </span><strong class=\"\">72/0</strong></div>], [<div class=\"ds-text-compact-m ds-text-typo ds-text-right ds-whitespace-nowrap\"><span class=\"ds-text-compact-s ds-mr-0.5\"></span><strong class=\"\">332/7</strong></div>, <div class=\"ds-text-compact-m ds-text-typo ds-text-right ds-whitespace-nowrap\"><span class=\"ds-text-compact-s ds-mr-0.5\">(36.5/50 ov, T:333) </span><strong class=\"\">122</strong></div>], [<div class=\"ds-text-compact-m ds-text-typo ds-text-right ds-whitespace-nowrap\"><span class=\"ds-text-compact-s ds-mr-0.5\"></span><strong class=\"\">262/6</strong></div>, <div class=\"ds-text-compact-m ds-text-typo ds-text-right ds-whitespace-nowrap\"><span class=\"ds-text-compact-s ds-mr-0.5\">(46.2/50 ov, T:263) </span><strong class=\"\">171</strong></div>], [<div class=\"ds-text-compact-m ds-text-typo ds-text-right ds-whitespace-nowrap\"><span class=\"ds-text-compact-s ds-mr-0.5\"></span><strong class=\"\">317/7</strong></div>, <div class=\"ds-text-compact-m ds-text-typo ds-text-right ds-whitespace-nowrap\"><span class=\"ds-text-compact-s ds-mr-0.5\">(33.1/50 ov, T:318) </span><strong class=\"\">112</strong></div>], [<div class=\"ds-text-compact-m ds-text-typo ds-text-right ds-whitespace-nowrap\"><span class=\"ds-text-compact-s ds-mr-0.5\"></span><strong class=\"\">206</strong></div>, <div class=\"ds-text-compact-m ds-text-typo ds-text-right ds-whitespace-nowrap\"><span class=\"ds-text-compact-s ds-mr-0.5\">(34/50 ov, T:207) </span><strong class=\"\">207/3</strong></div>], [<div class=\"ds-text-compact-m ds-text-typo ds-text-right ds-whitespace-nowrap\"><span class=\"ds-text-compact-s ds-mr-0.5\"></span><strong class=\"\">277/7</strong></div>, <div class=\"ds-text-compact-m ds-text-typo ds-text-right ds-whitespace-nowrap\"><span class=\"ds-text-compact-s ds-mr-0.5\">(50 ov, T:278) </span><strong class=\"\">266/9</strong></div>], [<div class=\"ds-text-compact-m ds-text-typo ds-text-right ds-whitespace-nowrap\"><span class=\"ds-text-compact-s ds-mr-0.5\"></span><strong class=\"\">298/9</strong></div>, <div class=\"ds-text-compact-m ds-text-typo ds-text-right ds-whitespace-nowrap\"><span class=\"ds-text-compact-s ds-mr-0.5\">(42.1/50 ov, T:299) </span><strong class=\"\">123</strong></div>], [<div class=\"ds-text-compact-m ds-text-typo ds-text-right ds-whitespace-nowrap\"><span class=\"ds-text-compact-s ds-mr-0.5\"></span><strong class=\"\">142</strong></div>, <div class=\"ds-text-compact-m ds-text-typo ds-text-right ds-whitespace-nowrap\"><span class=\"ds-text-compact-s ds-mr-0.5\">(18.4/50 ov, T:143) </span><strong class=\"\">146/1</strong></div>], [<div class=\"ds-text-compact-m ds-text-typo ds-text-right ds-whitespace-nowrap\"><span class=\"ds-text-compact-s ds-mr-0.5\"></span><strong class=\"\">184</strong></div>, <div class=\"ds-text-compact-m ds-text-typo ds-text-right ds-whitespace-nowrap\"><span class=\"ds-text-compact-s ds-mr-0.5\">(42.5/50 ov, T:185) </span><strong class=\"\">138</strong></div>], [<div class=\"ds-text-compact-m ds-text-typo ds-text-right ds-whitespace-nowrap\"><span class=\"ds-text-compact-s ds-mr-0.5\"></span><strong class=\"\">162</strong></div>, <div class=\"ds-text-compact-m ds-text-typo ds-text-right ds-whitespace-nowrap\"><span class=\"ds-text-compact-s ds-mr-0.5\">(33.3/50 ov, T:163) </span><strong class=\"\">166/0</strong></div>], [<div class=\"ds-text-compact-m ds-text-typo ds-text-right ds-whitespace-nowrap\"><span class=\"ds-text-compact-s ds-mr-0.5\">(32.5/50 ov) </span><strong class=\"\">146/3</strong></div>], [<div class=\"ds-text-compact-m ds-text-typo ds-text-right ds-whitespace-nowrap\"><span class=\"ds-text-compact-s ds-mr-0.5\"></span><strong class=\"\">198</strong></div>, <div class=\"ds-text-compact-m ds-text-typo ds-text-right ds-whitespace-nowrap\"><span class=\"ds-text-compact-s ds-mr-0.5\">(45.3/50 ov, T:199) </span><strong class=\"\">199/5</strong></div>], [<div class=\"ds-text-compact-m ds-text-typo ds-text-right ds-whitespace-nowrap\"><span class=\"ds-text-compact-s ds-mr-0.5\"></span><strong class=\"\">302/7</strong></div>, <div class=\"ds-text-compact-m ds-text-typo ds-text-right ds-whitespace-nowrap\"><span class=\"ds-text-compact-s ds-mr-0.5\">(41.4/50 ov, T:303) </span><strong class=\"\">192</strong></div>], [<div class=\"ds-text-compact-m ds-text-typo ds-text-right ds-whitespace-nowrap\"><span class=\"ds-text-compact-s ds-mr-0.5\"></span><strong class=\"\">327/6</strong></div>, <div class=\"ds-text-compact-m ds-text-typo ds-text-right ds-whitespace-nowrap\"><span class=\"ds-text-compact-s ds-mr-0.5\">(39/50 ov, T:328) </span><strong class=\"\">188</strong></div>], [<div class=\"ds-text-compact-m ds-text-typo ds-text-right ds-whitespace-nowrap\"><span class=\"ds-text-compact-s ds-mr-0.5\"></span><strong class=\"\">358/6</strong></div>, <div class=\"ds-text-compact-m ds-text-typo ds-text-right ds-whitespace-nowrap\"><span class=\"ds-text-compact-s ds-mr-0.5\">(50 ov, T:359) </span><strong class=\"\">261/9</strong></div>], [<div class=\"ds-text-compact-m ds-text-typo ds-text-right ds-whitespace-nowrap\"><span class=\"ds-text-compact-s ds-mr-0.5\"></span><strong class=\"\">324/6</strong></div>, <div class=\"ds-text-compact-m ds-text-typo ds-text-right ds-whitespace-nowrap\"><span class=\"ds-text-compact-s ds-mr-0.5\">(50 ov, T:325) </span><strong class=\"\">264/6</strong></div>], [<div class=\"ds-text-compact-m ds-text-typo ds-text-right ds-whitespace-nowrap\"><span class=\"ds-text-compact-s ds-mr-0.5\">(39.4/39.4 ov) </span><strong class=\"\">151/7</strong></div>, <div class=\"ds-text-compact-m ds-text-typo ds-text-right ds-whitespace-nowrap\"><span class=\"ds-text-compact-s ds-mr-0.5\">(34.1/38 ov, T:162) </span><strong class=\"\">164/3</strong></div>], [<div class=\"ds-text-compact-m ds-text-typo ds-text-right ds-whitespace-nowrap\"><span class=\"ds-text-compact-s ds-mr-0.5\"></span><strong class=\"\">211</strong></div>, <div class=\"ds-text-compact-m ds-text-typo ds-text-right ds-whitespace-nowrap\"><span class=\"ds-text-compact-s ds-mr-0.5\">(34.5/50 ov, T:212) </span><strong class=\"\">212/3</strong></div>], [<div class=\"ds-text-compact-m ds-text-typo ds-text-right ds-whitespace-nowrap\"><span class=\"ds-text-compact-s ds-mr-0.5\"></span><strong class=\"\">265/9</strong></div>, <div class=\"ds-text-compact-m ds-text-typo ds-text-right ds-whitespace-nowrap\"><span class=\"ds-text-compact-s ds-mr-0.5\">(35/50 ov, T:266) </span><strong class=\"\">153</strong></div>], [<div class=\"ds-text-compact-m ds-text-typo ds-text-right ds-whitespace-nowrap\"><span class=\"ds-text-compact-s ds-mr-0.5\"></span><strong class=\"\">176</strong></div>, <div class=\"ds-text-compact-m ds-text-typo ds-text-right ds-whitespace-nowrap\"><span class=\"ds-text-compact-s ds-mr-0.5\">(41/50 ov, T:177) </span><strong class=\"\">178/6</strong></div>], [<div class=\"ds-text-compact-m ds-text-typo ds-text-right ds-whitespace-nowrap\"><span class=\"ds-text-compact-s ds-mr-0.5\"></span><strong class=\"\">308/6</strong></div>, <div class=\"ds-text-compact-m ds-text-typo ds-text-right ds-whitespace-nowrap\"><span class=\"ds-text-compact-s ds-mr-0.5\">(36/50 ov, T:309) </span><strong class=\"\">147</strong></div>], [<div class=\"ds-text-compact-m ds-text-typo ds-text-right ds-whitespace-nowrap\"><span class=\"ds-text-compact-s ds-mr-0.5\"></span><strong class=\"\">370/4</strong></div>, <div class=\"ds-text-compact-m ds-text-typo ds-text-right ds-whitespace-nowrap\"><span class=\"ds-text-compact-s ds-mr-0.5\">(50 ov, T:371) </span><strong class=\"\">283/9</strong></div>], [<div class=\"ds-text-compact-m ds-text-typo ds-text-right ds-whitespace-nowrap\"><span class=\"ds-text-compact-s ds-mr-0.5\"></span><strong class=\"\">292/6</strong></div>, <div class=\"ds-text-compact-m ds-text-typo ds-text-right ds-whitespace-nowrap\"><span class=\"ds-text-compact-s ds-mr-0.5\">(48.4/50 ov, T:293) </span><strong class=\"\">296/4</strong></div>], [<div class=\"ds-text-compact-m ds-text-typo ds-text-right ds-whitespace-nowrap\"><span class=\"ds-text-compact-s ds-mr-0.5\"></span><strong class=\"\">222</strong></div>, <div class=\"ds-text-compact-m ds-text-typo ds-text-right ds-whitespace-nowrap\"><span class=\"ds-text-compact-s ds-mr-0.5\">(42.5/50 ov, T:223) </span><strong class=\"\">223/3</strong></div>], [<div class=\"ds-text-compact-m ds-text-typo ds-text-right ds-whitespace-nowrap\"><span class=\"ds-text-compact-s ds-mr-0.5\"></span><strong class=\"\">205</strong></div>, <div class=\"ds-text-compact-m ds-text-typo ds-text-right ds-whitespace-nowrap\"><span class=\"ds-text-compact-s ds-mr-0.5\">(45/50 ov, T:206) </span><strong class=\"\">178</strong></div>], [<div class=\"ds-text-compact-m ds-text-typo ds-text-right ds-whitespace-nowrap\"><span class=\"ds-text-compact-s ds-mr-0.5\">(49.5/50 ov) </span><strong class=\"\">338</strong></div>, <div class=\"ds-text-compact-m ds-text-typo ds-text-right ds-whitespace-nowrap\"><span class=\"ds-text-compact-s ds-mr-0.5\">(50 ov, T:339) </span><strong class=\"\">338/8</strong></div>], [<div class=\"ds-text-compact-m ds-text-typo ds-text-right ds-whitespace-nowrap\"><span class=\"ds-text-compact-s ds-mr-0.5\"></span><strong class=\"\">330/8</strong></div>, <div class=\"ds-text-compact-m ds-text-typo ds-text-right ds-whitespace-nowrap\"><span class=\"ds-text-compact-s ds-mr-0.5\">(31.3/50 ov, T:331) </span><strong class=\"\">115</strong></div>], [<div class=\"ds-text-compact-m ds-text-typo ds-text-right ds-whitespace-nowrap\"><span class=\"ds-text-compact-s ds-mr-0.5\"></span><strong class=\"\">327/8</strong></div>, <div class=\"ds-text-compact-m ds-text-typo ds-text-right ds-whitespace-nowrap\"><span class=\"ds-text-compact-s ds-mr-0.5\">(49.1/50 ov, T:328) </span><strong class=\"\">329/7</strong></div>], [<div class=\"ds-text-compact-m ds-text-typo ds-text-right ds-whitespace-nowrap\"><span class=\"ds-text-compact-s ds-mr-0.5\"></span><strong class=\"\">351/5</strong></div>, <div class=\"ds-text-compact-m ds-text-typo ds-text-right ds-whitespace-nowrap\"><span class=\"ds-text-compact-s ds-mr-0.5\">(34.5/50 ov, T:352) </span><strong class=\"\">120</strong></div>], [<div class=\"ds-text-compact-m ds-text-typo ds-text-right ds-whitespace-nowrap\"><span class=\"ds-text-compact-s ds-mr-0.5\"></span><strong class=\"\">58</strong></div>, <div class=\"ds-text-compact-m ds-text-typo ds-text-right ds-whitespace-nowrap\"><span class=\"ds-text-compact-s ds-mr-0.5\">(12.2/50 ov, T:59) </span><strong class=\"\">59/1</strong></div>], [<div class=\"ds-text-compact-m ds-text-typo ds-text-right ds-whitespace-nowrap\"><span class=\"ds-text-compact-s ds-mr-0.5\"></span><strong class=\"\">171</strong></div>, <div class=\"ds-text-compact-m ds-text-typo ds-text-right ds-whitespace-nowrap\"><span class=\"ds-text-compact-s ds-mr-0.5\">(47.4/50 ov, T:172) </span><strong class=\"\">165</strong></div>], [<div class=\"ds-text-compact-m ds-text-typo ds-text-right ds-whitespace-nowrap\"><span class=\"ds-text-compact-s ds-mr-0.5\"></span><strong class=\"\">207</strong></div>, <div class=\"ds-text-compact-m ds-text-typo ds-text-right ds-whitespace-nowrap\"><span class=\"ds-text-compact-s ds-mr-0.5\">(46/50 ov, T:208) </span><strong class=\"\">210/5</strong></div>], [<div class=\"ds-text-compact-m ds-text-typo ds-text-right ds-whitespace-nowrap\"><span class=\"ds-text-compact-s ds-mr-0.5\"></span><strong class=\"\">189</strong></div>, <div class=\"ds-text-compact-m ds-text-typo ds-text-right ds-whitespace-nowrap\"><span class=\"ds-text-compact-s ds-mr-0.5\">(36.3/50 ov, T:190) </span><strong class=\"\">191/5</strong></div>], [<div class=\"ds-text-compact-m ds-text-typo ds-text-right ds-whitespace-nowrap\"><span class=\"ds-text-compact-s ds-mr-0.5\"></span><strong class=\"\">275</strong></div>, <div class=\"ds-text-compact-m ds-text-typo ds-text-right ds-whitespace-nowrap\"><span class=\"ds-text-compact-s ds-mr-0.5\">(49/50 ov, T:276) </span><strong class=\"\">231</strong></div>], [<div class=\"ds-text-compact-m ds-text-typo ds-text-right ds-whitespace-nowrap\"><span class=\"ds-text-compact-s ds-mr-0.5\"></span><strong class=\"\">225</strong></div>, <div class=\"ds-text-compact-m ds-text-typo ds-text-right ds-whitespace-nowrap\"><span class=\"ds-text-compact-s ds-mr-0.5\">(49/50 ov, T:226) </span><strong class=\"\">227/8</strong></div>], [<div class=\"ds-text-compact-m ds-text-typo ds-text-right ds-whitespace-nowrap\"><span class=\"ds-text-compact-s ds-mr-0.5\"></span><strong class=\"\">296</strong></div>, <div class=\"ds-text-compact-m ds-text-typo ds-text-right ds-whitespace-nowrap\"><span class=\"ds-text-compact-s ds-mr-0.5\">(49.4/50 ov, T:297) </span><strong class=\"\">300/7</strong></div>], [<div class=\"ds-text-compact-m ds-text-typo ds-text-right ds-whitespace-nowrap\"><span class=\"ds-text-compact-s ds-mr-0.5\"></span><strong class=\"\">160</strong></div>, <div class=\"ds-text-compact-m ds-text-typo ds-text-right ds-whitespace-nowrap\"><span class=\"ds-text-compact-s ds-mr-0.5\">(41.2/50 ov, T:161) </span><strong class=\"\">166/4</strong></div>], [<div class=\"ds-text-compact-m ds-text-typo ds-text-right ds-whitespace-nowrap\"><span class=\"ds-text-compact-s ds-mr-0.5\"></span><strong class=\"\">272/7</strong></div>, <div class=\"ds-text-compact-m ds-text-typo ds-text-right ds-whitespace-nowrap\"><span class=\"ds-text-compact-s ds-mr-0.5\">(33.2/50 ov, T:273) </span><strong class=\"\">141</strong></div>], [<div class=\"ds-text-compact-m ds-text-typo ds-text-right ds-whitespace-nowrap\"><span class=\"ds-text-compact-s ds-mr-0.5\"></span><strong class=\"\">243</strong></div>, <div class=\"ds-text-compact-m ds-text-typo ds-text-right ds-whitespace-nowrap\"><span class=\"ds-text-compact-s ds-mr-0.5\">(44.4/50 ov, T:244) </span><strong class=\"\">225</strong></div>], [<div class=\"ds-text-compact-m ds-text-typo ds-text-right ds-whitespace-nowrap\"><span class=\"ds-text-compact-s ds-mr-0.5\"></span><strong class=\"\">306</strong></div>, <div class=\"ds-text-compact-m ds-text-typo ds-text-right ds-whitespace-nowrap\"><span class=\"ds-text-compact-s ds-mr-0.5\">(47.4/50 ov, T:307) </span><strong class=\"\">307/4</strong></div>], [<div class=\"ds-text-compact-m ds-text-typo ds-text-right ds-whitespace-nowrap\"><span class=\"ds-text-compact-s ds-mr-0.5\"></span><strong class=\"\">284/8</strong></div>, <div class=\"ds-text-compact-m ds-text-typo ds-text-right ds-whitespace-nowrap\"><span class=\"ds-text-compact-s ds-mr-0.5\">(28/50 ov, T:285) </span><strong class=\"\">78</strong></div>], [<div class=\"ds-text-compact-m ds-text-typo ds-text-right ds-whitespace-nowrap\"><span class=\"ds-text-compact-s ds-mr-0.5\"></span><strong class=\"\">268</strong></div>, <div class=\"ds-text-compact-m ds-text-typo ds-text-right ds-whitespace-nowrap\"><span class=\"ds-text-compact-s ds-mr-0.5\">(43/50 ov, T:269) </span><strong class=\"\">188</strong></div>], [<div class=\"ds-text-compact-m ds-text-typo ds-text-right ds-whitespace-nowrap\"><span class=\"ds-text-compact-s ds-mr-0.5\"></span><strong class=\"\">112</strong></div>, <div class=\"ds-text-compact-m ds-text-typo ds-text-right ds-whitespace-nowrap\"><span class=\"ds-text-compact-s ds-mr-0.5\">(20.5/50 ov, T:113) </span><strong class=\"\">113/0</strong></div>], [<div class=\"ds-text-compact-m ds-text-typo ds-text-right ds-whitespace-nowrap\"><span class=\"ds-text-compact-s ds-mr-0.5\"></span><strong class=\"\">260/6</strong></div>, <div class=\"ds-text-compact-m ds-text-typo ds-text-right ds-whitespace-nowrap\"><span class=\"ds-text-compact-s ds-mr-0.5\">(47.4/50 ov, T:261) </span><strong class=\"\">261/5</strong></div>], [<div class=\"ds-text-compact-m ds-text-typo ds-text-right ds-whitespace-nowrap\"><span class=\"ds-text-compact-s ds-mr-0.5\"></span><strong class=\"\">221/8</strong></div>, <div class=\"ds-text-compact-m ds-text-typo ds-text-right ds-whitespace-nowrap\"><span class=\"ds-text-compact-s ds-mr-0.5\">(43.2/50 ov, T:222) </span><strong class=\"\">172</strong></div>], [<div class=\"ds-text-compact-m ds-text-typo ds-text-right ds-whitespace-nowrap\"><span class=\"ds-text-compact-s ds-mr-0.5\"></span><strong class=\"\">229/6</strong></div>, <div class=\"ds-text-compact-m ds-text-typo ds-text-right ds-whitespace-nowrap\"><span class=\"ds-text-compact-s ds-mr-0.5\">(39.3/50 ov, T:230) </span><strong class=\"\">231/0</strong></div>], [<div class=\"ds-text-compact-m ds-text-typo ds-text-right ds-whitespace-nowrap\"><span class=\"ds-text-compact-s ds-mr-0.5\"></span><strong class=\"\">217</strong></div>, <div class=\"ds-text-compact-m ds-text-typo ds-text-right ds-whitespace-nowrap\"><span class=\"ds-text-compact-s ds-mr-0.5\">(47.5/50 ov, T:218) </span><strong class=\"\">220/5</strong></div>], [<div class=\"ds-text-compact-m ds-text-typo ds-text-right ds-whitespace-nowrap\"><span class=\"ds-text-compact-s ds-mr-0.5\"></span><strong class=\"\">260/9</strong></div>, <div class=\"ds-text-compact-m ds-text-typo ds-text-right ds-whitespace-nowrap\"><span class=\"ds-text-compact-s ds-mr-0.5\">(49.5/50 ov, T:261) </span><strong class=\"\">231</strong></div>], [<div class=\"ds-text-compact-m ds-text-typo ds-text-right ds-whitespace-nowrap\"><span class=\"ds-text-compact-s ds-mr-0.5\"></span><strong class=\"\">274/6</strong></div>, <div class=\"ds-text-compact-m ds-text-typo ds-text-right ds-whitespace-nowrap\"><span class=\"ds-text-compact-s ds-mr-0.5\">(48.2/50 ov, T:275) </span><strong class=\"\">277/4</strong></div>]]\n"
     ]
    }
   ],
   "source": [
    "scores=[]\n",
    "for s in scorecard_link:\n",
    "    res=requests.get(s,headers=headers)\n",
    "    soup=BeautifulSoup(res.text,'lxml')\n",
    "    score=soup.find_all('div',class_=\"ds-text-compact-m ds-text-typo ds-text-right ds-whitespace-nowrap\")\n",
    "    scores.append(score)\n",
    "print(scores)"
   ]
  },
  {
   "cell_type": "code",
   "execution_count": 36,
   "id": "257c6446",
   "metadata": {},
   "outputs": [
    {
     "name": "stdout",
     "output_type": "stream",
     "text": [
      "[<strong class=\"\">253/8</strong>, <strong class=\"\">192</strong>, <strong class=\"\">351/5</strong>, <strong class=\"\">195</strong>, <strong class=\"\">112</strong>, <strong class=\"\">113/1</strong>, <strong class=\"\">311/6</strong>, <strong class=\"\">279</strong>, <strong class=\"\">152</strong>, <strong class=\"\">153/2</strong>, <strong class=\"\">214</strong>, <strong class=\"\">176</strong>, <strong class=\"\">244/8</strong>, <strong class=\"\">245/6</strong>, <strong class=\"\">263/5</strong>, <strong class=\"\">264/8</strong>, <strong class=\"\">285/9</strong>, <strong class=\"\">196</strong>, <strong class=\"\">217</strong>, <strong class=\"\">218/3</strong>, <strong class=\"\">281</strong>, <strong class=\"\">282/6</strong>, <strong class=\"\">243</strong>, <strong class=\"\">227</strong>, <strong class=\"\">360/5</strong>, <strong class=\"\">243</strong>, <strong class=\"\">273</strong>, <strong class=\"\">206</strong>, <strong class=\"\">69</strong>, <strong class=\"\">72/0</strong>, <strong class=\"\">332/7</strong>, <strong class=\"\">122</strong>, <strong class=\"\">262/6</strong>, <strong class=\"\">171</strong>, <strong class=\"\">317/7</strong>, <strong class=\"\">112</strong>, <strong class=\"\">206</strong>, <strong class=\"\">207/3</strong>, <strong class=\"\">277/7</strong>, <strong class=\"\">266/9</strong>, <strong class=\"\">298/9</strong>, <strong class=\"\">123</strong>, <strong class=\"\">142</strong>, <strong class=\"\">146/1</strong>, <strong class=\"\">184</strong>, <strong class=\"\">138</strong>, <strong class=\"\">162</strong>, <strong class=\"\">166/0</strong>, <strong class=\"\">146/3</strong>, <strong class=\"\">198</strong>, <strong class=\"\">199/5</strong>, <strong class=\"\">302/7</strong>, <strong class=\"\">192</strong>, <strong class=\"\">327/6</strong>, <strong class=\"\">188</strong>, <strong class=\"\">358/6</strong>, <strong class=\"\">261/9</strong>, <strong class=\"\">324/6</strong>, <strong class=\"\">264/6</strong>, <strong class=\"\">151/7</strong>, <strong class=\"\">164/3</strong>, <strong class=\"\">211</strong>, <strong class=\"\">212/3</strong>, <strong class=\"\">265/9</strong>, <strong class=\"\">153</strong>, <strong class=\"\">176</strong>, <strong class=\"\">178/6</strong>, <strong class=\"\">308/6</strong>, <strong class=\"\">147</strong>, <strong class=\"\">370/4</strong>, <strong class=\"\">283/9</strong>, <strong class=\"\">292/6</strong>, <strong class=\"\">296/4</strong>, <strong class=\"\">222</strong>, <strong class=\"\">223/3</strong>, <strong class=\"\">205</strong>, <strong class=\"\">178</strong>, <strong class=\"\">338</strong>, <strong class=\"\">338/8</strong>, <strong class=\"\">330/8</strong>, <strong class=\"\">115</strong>, <strong class=\"\">327/8</strong>, <strong class=\"\">329/7</strong>, <strong class=\"\">351/5</strong>, <strong class=\"\">120</strong>, <strong class=\"\">58</strong>, <strong class=\"\">59/1</strong>, <strong class=\"\">171</strong>, <strong class=\"\">165</strong>, <strong class=\"\">207</strong>, <strong class=\"\">210/5</strong>, <strong class=\"\">189</strong>, <strong class=\"\">191/5</strong>, <strong class=\"\">275</strong>, <strong class=\"\">231</strong>, <strong class=\"\">225</strong>, <strong class=\"\">227/8</strong>, <strong class=\"\">296</strong>, <strong class=\"\">300/7</strong>, <strong class=\"\">160</strong>, <strong class=\"\">166/4</strong>, <strong class=\"\">272/7</strong>, <strong class=\"\">141</strong>, <strong class=\"\">243</strong>, <strong class=\"\">225</strong>, <strong class=\"\">306</strong>, <strong class=\"\">307/4</strong>, <strong class=\"\">284/8</strong>, <strong class=\"\">78</strong>, <strong class=\"\">268</strong>, <strong class=\"\">188</strong>, <strong class=\"\">112</strong>, <strong class=\"\">113/0</strong>, <strong class=\"\">260/6</strong>, <strong class=\"\">261/5</strong>, <strong class=\"\">221/8</strong>, <strong class=\"\">172</strong>, <strong class=\"\">229/6</strong>, <strong class=\"\">231/0</strong>, <strong class=\"\">217</strong>, <strong class=\"\">220/5</strong>, <strong class=\"\">260/9</strong>, <strong class=\"\">231</strong>, <strong class=\"\">274/6</strong>, <strong class=\"\">277/4</strong>]\n"
     ]
    }
   ],
   "source": [
    " scores_new=[a for sublist in scores for a in sublist if a]\n",
    "scores1=[]\n",
    "for i in scores_new:\n",
    "    n=i.find_all('strong',class_=\"\")\n",
    "    scores1.extend(n)\n",
    "print(scores1)"
   ]
  },
  {
   "cell_type": "code",
   "execution_count": 37,
   "id": "71a97e63",
   "metadata": {},
   "outputs": [
    {
     "name": "stdout",
     "output_type": "stream",
     "text": [
      "['253/8', '192', '351/5', '195', '112', '113/1', '311/6', '279', '152', '153/2', '214', '176', '244/8', '245/6', '263/5', '264/8', '285/9', '196', '217', '218/3', '281', '282/6', '243', '227', '360/5', '243', '273', '206', '69', '72/0', '332/7', '122', '262/6', '171', '317/7', '112', '206', '207/3', '277/7', '266/9', '298/9', '123', '142', '146/1', '184', '138', '162', '166/0', '146/3', '198', '199/5', '302/7', '192', '327/6', '188', '358/6', '261/9', '324/6', '264/6', '151/7', '164/3', '211', '212/3', '265/9', '153', '176', '178/6', '308/6', '147', '370/4', '283/9', '292/6', '296/4', '222', '223/3', '205', '178', '338', '338/8', '330/8', '115', '327/8', '329/7', '351/5', '120', '58', '59/1', '171', '165', '207', '210/5', '189', '191/5', '275', '231', '225', '227/8', '296', '300/7', '160', '166/4', '272/7', '141', '243', '225', '306', '307/4', '284/8', '78', '268', '188', '112', '113/0', '260/6', '261/5', '221/8', '172', '229/6', '231/0', '217', '220/5', '260/9', '231', '274/6', '277/4']\n"
     ]
    }
   ],
   "source": [
    "scores_end=[]\n",
    "for i in scores1:\n",
    "    scores_end.append(i.text)\n",
    "print(scores_end)"
   ]
  },
  {
   "cell_type": "code",
   "execution_count": 42,
   "id": "ecdac78c",
   "metadata": {},
   "outputs": [
    {
     "data": {
      "text/plain": [
       "['253/8',\n",
       " '192',\n",
       " '351/5',\n",
       " '195',\n",
       " '112',\n",
       " '113/1',\n",
       " '311/6',\n",
       " '279',\n",
       " '152',\n",
       " '153/2',\n",
       " '214',\n",
       " '176',\n",
       " '244/8',\n",
       " '245/6',\n",
       " '263/5',\n",
       " '264/8',\n",
       " '285/9',\n",
       " '196',\n",
       " '217',\n",
       " '218/3',\n",
       " '281',\n",
       " '282/6',\n",
       " '243',\n",
       " '227',\n",
       " '360/5',\n",
       " '243',\n",
       " '273',\n",
       " '206',\n",
       " '69',\n",
       " '72/0',\n",
       " '332/7',\n",
       " '122',\n",
       " '262/6',\n",
       " '171',\n",
       " '317/7',\n",
       " '112',\n",
       " '206',\n",
       " '207/3',\n",
       " '277/7',\n",
       " '266/9',\n",
       " '298/9',\n",
       " '123',\n",
       " '142',\n",
       " '146/1',\n",
       " '184',\n",
       " '138',\n",
       " '162',\n",
       " '166/0',\n",
       " '146/3',\n",
       " 'Did not bat',\n",
       " '198',\n",
       " '199/5',\n",
       " '302/7',\n",
       " '192',\n",
       " '327/6',\n",
       " '188',\n",
       " '358/6',\n",
       " '261/9',\n",
       " '324/6',\n",
       " '264/6',\n",
       " '151/7',\n",
       " '164/3',\n",
       " '211',\n",
       " '212/3',\n",
       " '265/9',\n",
       " '153',\n",
       " '176',\n",
       " '178/6',\n",
       " '308/6',\n",
       " '147',\n",
       " '370/4',\n",
       " '283/9',\n",
       " '292/6',\n",
       " '296/4',\n",
       " '222',\n",
       " '223/3',\n",
       " '205',\n",
       " '178',\n",
       " '338',\n",
       " '338/8',\n",
       " '330/8',\n",
       " '115',\n",
       " '327/8',\n",
       " '329/7',\n",
       " '351/5',\n",
       " '120',\n",
       " '58',\n",
       " '59/1',\n",
       " '171',\n",
       " '165',\n",
       " '207',\n",
       " '210/5',\n",
       " '189',\n",
       " '191/5',\n",
       " '275',\n",
       " '231',\n",
       " '225',\n",
       " '227/8',\n",
       " '296',\n",
       " '300/7',\n",
       " '160',\n",
       " '166/4',\n",
       " '272/7',\n",
       " '141',\n",
       " '243',\n",
       " '225',\n",
       " '306',\n",
       " '307/4',\n",
       " '284/8',\n",
       " '78',\n",
       " '268',\n",
       " '188',\n",
       " '112',\n",
       " '113/0',\n",
       " '260/6',\n",
       " '261/5',\n",
       " '221/8',\n",
       " '172',\n",
       " '229/6',\n",
       " '231/0',\n",
       " '217',\n",
       " '220/5',\n",
       " '260/9',\n",
       " '231',\n",
       " '274/6',\n",
       " '277/4']"
      ]
     },
     "execution_count": 42,
     "metadata": {},
     "output_type": "execute_result"
    }
   ],
   "source": [
    "i9=scores_end.index('146/3') \n",
    "scores_end.insert(i9+1,'Did not bat')\n",
    "scores_end"
   ]
  },
  {
   "cell_type": "code",
   "execution_count": 43,
   "id": "55b58128",
   "metadata": {},
   "outputs": [
    {
     "data": {
      "text/plain": [
       "['253/8',\n",
       " '351/5',\n",
       " '112',\n",
       " '311/6',\n",
       " '152',\n",
       " '214',\n",
       " '244/8',\n",
       " '263/5',\n",
       " '285/9',\n",
       " '217',\n",
       " '281',\n",
       " '243',\n",
       " '360/5',\n",
       " '273',\n",
       " '69',\n",
       " '332/7',\n",
       " '262/6',\n",
       " '317/7',\n",
       " '206',\n",
       " '277/7',\n",
       " '298/9',\n",
       " '142',\n",
       " '184',\n",
       " '162',\n",
       " '146/3',\n",
       " '198',\n",
       " '302/7',\n",
       " '327/6',\n",
       " '358/6',\n",
       " '324/6',\n",
       " '151/7',\n",
       " '211',\n",
       " '265/9',\n",
       " '176',\n",
       " '308/6',\n",
       " '370/4',\n",
       " '292/6',\n",
       " '222',\n",
       " '205',\n",
       " '338',\n",
       " '330/8',\n",
       " '327/8',\n",
       " '351/5',\n",
       " '58',\n",
       " '171',\n",
       " '207',\n",
       " '189',\n",
       " '275',\n",
       " '225',\n",
       " '296',\n",
       " '160',\n",
       " '272/7',\n",
       " '243',\n",
       " '306',\n",
       " '284/8',\n",
       " '268',\n",
       " '112',\n",
       " '260/6',\n",
       " '221/8',\n",
       " '229/6',\n",
       " '217',\n",
       " '260/9',\n",
       " '274/6']"
      ]
     },
     "execution_count": 43,
     "metadata": {},
     "output_type": "execute_result"
    }
   ],
   "source": [
    "scorebat_first=scores_end[::2]\n",
    "scorebat_first\n",
    "# "
   ]
  },
  {
   "cell_type": "code",
   "execution_count": 44,
   "id": "581f9228",
   "metadata": {},
   "outputs": [
    {
     "data": {
      "text/plain": [
       "['192',\n",
       " '195',\n",
       " '113/1',\n",
       " '279',\n",
       " '153/2',\n",
       " '176',\n",
       " '245/6',\n",
       " '264/8',\n",
       " '196',\n",
       " '218/3',\n",
       " '282/6',\n",
       " '227',\n",
       " '243',\n",
       " '206',\n",
       " '72/0',\n",
       " '122',\n",
       " '171',\n",
       " '112',\n",
       " '207/3',\n",
       " '266/9',\n",
       " '123',\n",
       " '146/1',\n",
       " '138',\n",
       " '166/0',\n",
       " 'Did not bat',\n",
       " '199/5',\n",
       " '192',\n",
       " '188',\n",
       " '261/9',\n",
       " '264/6',\n",
       " '164/3',\n",
       " '212/3',\n",
       " '153',\n",
       " '178/6',\n",
       " '147',\n",
       " '283/9',\n",
       " '296/4',\n",
       " '223/3',\n",
       " '178',\n",
       " '338/8',\n",
       " '115',\n",
       " '329/7',\n",
       " '120',\n",
       " '59/1',\n",
       " '165',\n",
       " '210/5',\n",
       " '191/5',\n",
       " '231',\n",
       " '227/8',\n",
       " '300/7',\n",
       " '166/4',\n",
       " '141',\n",
       " '225',\n",
       " '307/4',\n",
       " '78',\n",
       " '188',\n",
       " '113/0',\n",
       " '261/5',\n",
       " '172',\n",
       " '231/0',\n",
       " '220/5',\n",
       " '231',\n",
       " '277/4']"
      ]
     },
     "execution_count": 44,
     "metadata": {},
     "output_type": "execute_result"
    }
   ],
   "source": [
    "scorebat_second=scores_end[1::2]\n",
    "scorebat_second \n",
    "#"
   ]
  },
  {
   "cell_type": "code",
   "execution_count": 45,
   "id": "251fed9f",
   "metadata": {},
   "outputs": [
    {
     "name": "stdout",
     "output_type": "stream",
     "text": [
      "[[], [], [], [], [], [], [], [], [], [], [], [], [], [], [<span class=\"ds-text-tight-m ds-font-medium ds-text-typo ds-underline ds-decoration-ui-stroke hover:ds-text-typo-primary hover:ds-decoration-ui-stroke-primary ds-block ds-cursor-pointer\">Hamish Bennett</span>], [<span class=\"ds-text-tight-m ds-font-medium ds-text-typo ds-underline ds-decoration-ui-stroke hover:ds-text-typo-primary hover:ds-decoration-ui-stroke-primary ds-block ds-cursor-pointer\">Mahela Jayawardene</span>], [<span class=\"ds-text-tight-m ds-font-medium ds-text-typo ds-underline ds-decoration-ui-stroke hover:ds-text-typo-primary hover:ds-decoration-ui-stroke-primary ds-block ds-cursor-pointer\">Shane Watson</span>], [<span class=\"ds-text-tight-m ds-font-medium ds-text-typo ds-underline ds-decoration-ui-stroke hover:ds-text-typo-primary hover:ds-decoration-ui-stroke-primary ds-block ds-cursor-pointer\">Umar Akmal</span>], [<span class=\"ds-text-tight-m ds-font-medium ds-text-typo ds-underline ds-decoration-ui-stroke hover:ds-text-typo-primary hover:ds-decoration-ui-stroke-primary ds-block ds-cursor-pointer\">Mitchell Johnson</span>], [<span class=\"ds-text-tight-m ds-font-medium ds-text-typo ds-underline ds-decoration-ui-stroke hover:ds-text-typo-primary hover:ds-decoration-ui-stroke-primary ds-block ds-cursor-pointer\">Shahid Afridi</span>], [<span class=\"ds-text-tight-m ds-font-medium ds-text-typo ds-underline ds-decoration-ui-stroke hover:ds-text-typo-primary hover:ds-decoration-ui-stroke-primary ds-block ds-cursor-pointer\">Tatenda Taibu</span>], [<span class=\"ds-text-tight-m ds-font-medium ds-text-typo ds-underline ds-decoration-ui-stroke hover:ds-text-typo-primary hover:ds-decoration-ui-stroke-primary ds-block ds-cursor-pointer\">Lasith Malinga</span>], [<span class=\"ds-text-tight-m ds-font-medium ds-text-typo ds-underline ds-decoration-ui-stroke hover:ds-text-typo-primary hover:ds-decoration-ui-stroke-primary ds-block ds-cursor-pointer\">Shahid Afridi</span>], [<span class=\"ds-text-tight-m ds-font-medium ds-text-typo ds-underline ds-decoration-ui-stroke hover:ds-text-typo-primary hover:ds-decoration-ui-stroke-primary ds-block ds-cursor-pointer\">Martin Guptill</span>], [], [<span class=\"ds-text-tight-m ds-font-medium ds-text-typo ds-underline ds-decoration-ui-stroke hover:ds-text-typo-primary hover:ds-decoration-ui-stroke-primary ds-block ds-cursor-pointer\">Henry Osinde</span>], [<span class=\"ds-text-tight-m ds-font-medium ds-text-typo ds-underline ds-decoration-ui-stroke hover:ds-text-typo-primary hover:ds-decoration-ui-stroke-primary ds-block ds-cursor-pointer\">Ross Taylor</span>], [<span class=\"ds-text-tight-m ds-font-medium ds-text-typo ds-underline ds-decoration-ui-stroke hover:ds-text-typo-primary hover:ds-decoration-ui-stroke-primary ds-block ds-cursor-pointer\">Tillakaratne Dilshan</span>], [<span class=\"ds-text-tight-m ds-font-medium ds-text-typo ds-underline ds-decoration-ui-stroke hover:ds-text-typo-primary hover:ds-decoration-ui-stroke-primary ds-block ds-cursor-pointer\">Brendon McCullum</span>], [<span class=\"ds-text-tight-m ds-font-medium ds-text-typo ds-underline ds-decoration-ui-stroke hover:ds-text-typo-primary hover:ds-decoration-ui-stroke-primary ds-block ds-cursor-pointer\">Collins Obuya</span>], [<span class=\"ds-text-tight-m ds-font-medium ds-text-typo ds-underline ds-decoration-ui-stroke hover:ds-text-typo-primary hover:ds-decoration-ui-stroke-primary ds-block ds-cursor-pointer\">Umar Gul</span>], [<span class=\"ds-text-tight-m ds-font-medium ds-text-typo ds-underline ds-decoration-ui-stroke hover:ds-text-typo-primary hover:ds-decoration-ui-stroke-primary ds-block ds-cursor-pointer\">Shane Watson</span>], [<span class=\"ds-text-tight-m ds-font-medium ds-text-typo ds-underline ds-decoration-ui-stroke hover:ds-text-typo-primary hover:ds-decoration-ui-stroke-primary ds-block ds-cursor-pointer\">Kumar Sangakkara</span>], [<span class=\"ds-text-tight-m ds-font-medium ds-text-typo ds-underline ds-decoration-ui-stroke hover:ds-text-typo-primary hover:ds-decoration-ui-stroke-primary ds-block ds-cursor-pointer\">Umar Akmal</span>], [<span class=\"ds-text-tight-m ds-font-medium ds-text-typo ds-underline ds-decoration-ui-stroke hover:ds-text-typo-primary hover:ds-decoration-ui-stroke-primary ds-block ds-cursor-pointer\">Craig Ervine</span>], [<span class=\"ds-text-tight-m ds-font-medium ds-text-typo ds-underline ds-decoration-ui-stroke hover:ds-text-typo-primary hover:ds-decoration-ui-stroke-primary ds-block ds-cursor-pointer\">Virender Sehwag</span>], [<span class=\"ds-text-tight-m ds-font-medium ds-text-typo ds-underline ds-decoration-ui-stroke hover:ds-text-typo-primary hover:ds-decoration-ui-stroke-primary ds-block ds-cursor-pointer\">Ryan ten Doeschate</span>], [<span class=\"ds-text-tight-m ds-font-medium ds-text-typo ds-underline ds-decoration-ui-stroke hover:ds-text-typo-primary hover:ds-decoration-ui-stroke-primary ds-block ds-cursor-pointer\">AB de Villiers</span>], [<span class=\"ds-text-tight-m ds-font-medium ds-text-typo ds-underline ds-decoration-ui-stroke hover:ds-text-typo-primary hover:ds-decoration-ui-stroke-primary ds-block ds-cursor-pointer\">Tamim Iqbal</span>], [<span class=\"ds-text-tight-m ds-font-medium ds-text-typo ds-underline ds-decoration-ui-stroke hover:ds-text-typo-primary hover:ds-decoration-ui-stroke-primary ds-block ds-cursor-pointer\">Andrew Strauss</span>], [<span class=\"ds-text-tight-m ds-font-medium ds-text-typo ds-underline ds-decoration-ui-stroke hover:ds-text-typo-primary hover:ds-decoration-ui-stroke-primary ds-block ds-cursor-pointer\">Kemar Roach</span>], [<span class=\"ds-text-tight-m ds-font-medium ds-text-typo ds-underline ds-decoration-ui-stroke hover:ds-text-typo-primary hover:ds-decoration-ui-stroke-primary ds-block ds-cursor-pointer\">Kevin O'Brien</span>], [<span class=\"ds-text-tight-m ds-font-medium ds-text-typo ds-underline ds-decoration-ui-stroke hover:ds-text-typo-primary hover:ds-decoration-ui-stroke-primary ds-block ds-cursor-pointer\">AB de Villiers</span>], [<span class=\"ds-text-tight-m ds-font-medium ds-text-typo ds-underline ds-decoration-ui-stroke hover:ds-text-typo-primary hover:ds-decoration-ui-stroke-primary ds-block ds-cursor-pointer\">Kemar Roach</span>], [<span class=\"ds-text-tight-m ds-font-medium ds-text-typo ds-underline ds-decoration-ui-stroke hover:ds-text-typo-primary hover:ds-decoration-ui-stroke-primary ds-block ds-cursor-pointer\">Ravi Bopara</span>], [<span class=\"ds-text-tight-m ds-font-medium ds-text-typo ds-underline ds-decoration-ui-stroke hover:ds-text-typo-primary hover:ds-decoration-ui-stroke-primary ds-block ds-cursor-pointer\">Yuvraj Singh</span>], [<span class=\"ds-text-tight-m ds-font-medium ds-text-typo ds-underline ds-decoration-ui-stroke hover:ds-text-typo-primary hover:ds-decoration-ui-stroke-primary ds-block ds-cursor-pointer\">Yuvraj Singh</span>], [<span class=\"ds-text-tight-m ds-font-medium ds-text-typo ds-underline ds-decoration-ui-stroke hover:ds-text-typo-primary hover:ds-decoration-ui-stroke-primary ds-block ds-cursor-pointer\">Kieron Pollard</span>], [<span class=\"ds-text-tight-m ds-font-medium ds-text-typo ds-underline ds-decoration-ui-stroke hover:ds-text-typo-primary hover:ds-decoration-ui-stroke-primary ds-block ds-cursor-pointer\">Imrul Kayes</span>], [<span class=\"ds-text-tight-m ds-font-medium ds-text-typo ds-underline ds-decoration-ui-stroke hover:ds-text-typo-primary hover:ds-decoration-ui-stroke-primary ds-block ds-cursor-pointer\">Dale Steyn</span>], [<span class=\"ds-text-tight-m ds-font-medium ds-text-typo ds-underline ds-decoration-ui-stroke hover:ds-text-typo-primary hover:ds-decoration-ui-stroke-primary ds-block ds-cursor-pointer\">Imrul Kayes</span>], [<span class=\"ds-text-tight-m ds-font-medium ds-text-typo ds-underline ds-decoration-ui-stroke hover:ds-text-typo-primary hover:ds-decoration-ui-stroke-primary ds-block ds-cursor-pointer\">Jean-Paul Duminy</span>], [<span class=\"ds-text-tight-m ds-font-medium ds-text-typo ds-underline ds-decoration-ui-stroke hover:ds-text-typo-primary hover:ds-decoration-ui-stroke-primary ds-block ds-cursor-pointer\">James Tredwell</span>], [<span class=\"ds-text-tight-m ds-font-medium ds-text-typo ds-underline ds-decoration-ui-stroke hover:ds-text-typo-primary hover:ds-decoration-ui-stroke-primary ds-block ds-cursor-pointer\">Paul Stirling</span>], [<span class=\"ds-text-tight-m ds-font-medium ds-text-typo ds-underline ds-decoration-ui-stroke hover:ds-text-typo-primary hover:ds-decoration-ui-stroke-primary ds-block ds-cursor-pointer\">Lonwabo Tsotsobe</span>], [<span class=\"ds-text-tight-m ds-font-medium ds-text-typo ds-underline ds-decoration-ui-stroke hover:ds-text-typo-primary hover:ds-decoration-ui-stroke-primary ds-block ds-cursor-pointer\">Yuvraj Singh</span>], [<span class=\"ds-text-tight-m ds-font-medium ds-text-typo ds-underline ds-decoration-ui-stroke hover:ds-text-typo-primary hover:ds-decoration-ui-stroke-primary ds-block ds-cursor-pointer\">Mohammad Hafeez</span>], [<span class=\"ds-text-tight-m ds-font-medium ds-text-typo ds-underline ds-decoration-ui-stroke hover:ds-text-typo-primary hover:ds-decoration-ui-stroke-primary ds-block ds-cursor-pointer\">Yuvraj Singh</span>], [<span class=\"ds-text-tight-m ds-font-medium ds-text-typo ds-underline ds-decoration-ui-stroke hover:ds-text-typo-primary hover:ds-decoration-ui-stroke-primary ds-block ds-cursor-pointer\">Jacob Oram</span>], [<span class=\"ds-text-tight-m ds-font-medium ds-text-typo ds-underline ds-decoration-ui-stroke hover:ds-text-typo-primary hover:ds-decoration-ui-stroke-primary ds-block ds-cursor-pointer\">Tillakaratne Dilshan</span>], [<span class=\"ds-text-tight-m ds-font-medium ds-text-typo ds-underline ds-decoration-ui-stroke hover:ds-text-typo-primary hover:ds-decoration-ui-stroke-primary ds-block ds-cursor-pointer\">Kumar Sangakkara</span>], [<span class=\"ds-text-tight-m ds-font-medium ds-text-typo ds-underline ds-decoration-ui-stroke hover:ds-text-typo-primary hover:ds-decoration-ui-stroke-primary ds-block ds-cursor-pointer\">Sachin Tendulkar</span>], [<span class=\"ds-text-tight-m ds-font-medium ds-text-typo ds-underline ds-decoration-ui-stroke hover:ds-text-typo-primary hover:ds-decoration-ui-stroke-primary ds-block ds-cursor-pointer\">MS Dhoni</span>, <span class=\"ds-text-tight-m ds-font-medium ds-text-typo ds-underline ds-decoration-ui-stroke hover:ds-text-typo-primary hover:ds-decoration-ui-stroke-primary ds-block ds-cursor-pointer\">Yuvraj Singh</span>]]\n"
     ]
    }
   ],
   "source": [
    "mom=[]\n",
    "for s in scorecard_link:\n",
    "    res=requests.get(s,headers=headers)\n",
    "    soup=BeautifulSoup(res.text,'lxml')\n",
    "    mom1=soup.find_all('span',class_=\"ds-text-tight-m ds-font-medium ds-text-typo ds-underline ds-decoration-ui-stroke hover:ds-text-typo-primary hover:ds-decoration-ui-stroke-primary ds-block ds-cursor-pointer\")\n",
    "    mom.append(mom1)\n",
    "print(mom)"
   ]
  },
  {
   "cell_type": "code",
   "execution_count": 46,
   "id": "a90aa1b3",
   "metadata": {},
   "outputs": [
    {
     "name": "stdout",
     "output_type": "stream",
     "text": [
      "[<span class=\"ds-text-tight-m ds-font-medium ds-text-typo ds-underline ds-decoration-ui-stroke hover:ds-text-typo-primary hover:ds-decoration-ui-stroke-primary ds-block ds-cursor-pointer\">Hamish Bennett</span>, <span class=\"ds-text-tight-m ds-font-medium ds-text-typo ds-underline ds-decoration-ui-stroke hover:ds-text-typo-primary hover:ds-decoration-ui-stroke-primary ds-block ds-cursor-pointer\">Mahela Jayawardene</span>, <span class=\"ds-text-tight-m ds-font-medium ds-text-typo ds-underline ds-decoration-ui-stroke hover:ds-text-typo-primary hover:ds-decoration-ui-stroke-primary ds-block ds-cursor-pointer\">Shane Watson</span>, <span class=\"ds-text-tight-m ds-font-medium ds-text-typo ds-underline ds-decoration-ui-stroke hover:ds-text-typo-primary hover:ds-decoration-ui-stroke-primary ds-block ds-cursor-pointer\">Umar Akmal</span>, <span class=\"ds-text-tight-m ds-font-medium ds-text-typo ds-underline ds-decoration-ui-stroke hover:ds-text-typo-primary hover:ds-decoration-ui-stroke-primary ds-block ds-cursor-pointer\">Mitchell Johnson</span>, <span class=\"ds-text-tight-m ds-font-medium ds-text-typo ds-underline ds-decoration-ui-stroke hover:ds-text-typo-primary hover:ds-decoration-ui-stroke-primary ds-block ds-cursor-pointer\">Shahid Afridi</span>, <span class=\"ds-text-tight-m ds-font-medium ds-text-typo ds-underline ds-decoration-ui-stroke hover:ds-text-typo-primary hover:ds-decoration-ui-stroke-primary ds-block ds-cursor-pointer\">Tatenda Taibu</span>, <span class=\"ds-text-tight-m ds-font-medium ds-text-typo ds-underline ds-decoration-ui-stroke hover:ds-text-typo-primary hover:ds-decoration-ui-stroke-primary ds-block ds-cursor-pointer\">Lasith Malinga</span>, <span class=\"ds-text-tight-m ds-font-medium ds-text-typo ds-underline ds-decoration-ui-stroke hover:ds-text-typo-primary hover:ds-decoration-ui-stroke-primary ds-block ds-cursor-pointer\">Shahid Afridi</span>, <span class=\"ds-text-tight-m ds-font-medium ds-text-typo ds-underline ds-decoration-ui-stroke hover:ds-text-typo-primary hover:ds-decoration-ui-stroke-primary ds-block ds-cursor-pointer\">Martin Guptill</span>, <span class=\"ds-text-tight-m ds-font-medium ds-text-typo ds-underline ds-decoration-ui-stroke hover:ds-text-typo-primary hover:ds-decoration-ui-stroke-primary ds-block ds-cursor-pointer\">Henry Osinde</span>, <span class=\"ds-text-tight-m ds-font-medium ds-text-typo ds-underline ds-decoration-ui-stroke hover:ds-text-typo-primary hover:ds-decoration-ui-stroke-primary ds-block ds-cursor-pointer\">Ross Taylor</span>, <span class=\"ds-text-tight-m ds-font-medium ds-text-typo ds-underline ds-decoration-ui-stroke hover:ds-text-typo-primary hover:ds-decoration-ui-stroke-primary ds-block ds-cursor-pointer\">Tillakaratne Dilshan</span>, <span class=\"ds-text-tight-m ds-font-medium ds-text-typo ds-underline ds-decoration-ui-stroke hover:ds-text-typo-primary hover:ds-decoration-ui-stroke-primary ds-block ds-cursor-pointer\">Brendon McCullum</span>, <span class=\"ds-text-tight-m ds-font-medium ds-text-typo ds-underline ds-decoration-ui-stroke hover:ds-text-typo-primary hover:ds-decoration-ui-stroke-primary ds-block ds-cursor-pointer\">Collins Obuya</span>, <span class=\"ds-text-tight-m ds-font-medium ds-text-typo ds-underline ds-decoration-ui-stroke hover:ds-text-typo-primary hover:ds-decoration-ui-stroke-primary ds-block ds-cursor-pointer\">Umar Gul</span>, <span class=\"ds-text-tight-m ds-font-medium ds-text-typo ds-underline ds-decoration-ui-stroke hover:ds-text-typo-primary hover:ds-decoration-ui-stroke-primary ds-block ds-cursor-pointer\">Shane Watson</span>, <span class=\"ds-text-tight-m ds-font-medium ds-text-typo ds-underline ds-decoration-ui-stroke hover:ds-text-typo-primary hover:ds-decoration-ui-stroke-primary ds-block ds-cursor-pointer\">Kumar Sangakkara</span>, <span class=\"ds-text-tight-m ds-font-medium ds-text-typo ds-underline ds-decoration-ui-stroke hover:ds-text-typo-primary hover:ds-decoration-ui-stroke-primary ds-block ds-cursor-pointer\">Umar Akmal</span>, <span class=\"ds-text-tight-m ds-font-medium ds-text-typo ds-underline ds-decoration-ui-stroke hover:ds-text-typo-primary hover:ds-decoration-ui-stroke-primary ds-block ds-cursor-pointer\">Craig Ervine</span>, <span class=\"ds-text-tight-m ds-font-medium ds-text-typo ds-underline ds-decoration-ui-stroke hover:ds-text-typo-primary hover:ds-decoration-ui-stroke-primary ds-block ds-cursor-pointer\">Virender Sehwag</span>, <span class=\"ds-text-tight-m ds-font-medium ds-text-typo ds-underline ds-decoration-ui-stroke hover:ds-text-typo-primary hover:ds-decoration-ui-stroke-primary ds-block ds-cursor-pointer\">Ryan ten Doeschate</span>, <span class=\"ds-text-tight-m ds-font-medium ds-text-typo ds-underline ds-decoration-ui-stroke hover:ds-text-typo-primary hover:ds-decoration-ui-stroke-primary ds-block ds-cursor-pointer\">AB de Villiers</span>, <span class=\"ds-text-tight-m ds-font-medium ds-text-typo ds-underline ds-decoration-ui-stroke hover:ds-text-typo-primary hover:ds-decoration-ui-stroke-primary ds-block ds-cursor-pointer\">Tamim Iqbal</span>, <span class=\"ds-text-tight-m ds-font-medium ds-text-typo ds-underline ds-decoration-ui-stroke hover:ds-text-typo-primary hover:ds-decoration-ui-stroke-primary ds-block ds-cursor-pointer\">Andrew Strauss</span>, <span class=\"ds-text-tight-m ds-font-medium ds-text-typo ds-underline ds-decoration-ui-stroke hover:ds-text-typo-primary hover:ds-decoration-ui-stroke-primary ds-block ds-cursor-pointer\">Kemar Roach</span>, <span class=\"ds-text-tight-m ds-font-medium ds-text-typo ds-underline ds-decoration-ui-stroke hover:ds-text-typo-primary hover:ds-decoration-ui-stroke-primary ds-block ds-cursor-pointer\">Kevin O'Brien</span>, <span class=\"ds-text-tight-m ds-font-medium ds-text-typo ds-underline ds-decoration-ui-stroke hover:ds-text-typo-primary hover:ds-decoration-ui-stroke-primary ds-block ds-cursor-pointer\">AB de Villiers</span>, <span class=\"ds-text-tight-m ds-font-medium ds-text-typo ds-underline ds-decoration-ui-stroke hover:ds-text-typo-primary hover:ds-decoration-ui-stroke-primary ds-block ds-cursor-pointer\">Kemar Roach</span>, <span class=\"ds-text-tight-m ds-font-medium ds-text-typo ds-underline ds-decoration-ui-stroke hover:ds-text-typo-primary hover:ds-decoration-ui-stroke-primary ds-block ds-cursor-pointer\">Ravi Bopara</span>, <span class=\"ds-text-tight-m ds-font-medium ds-text-typo ds-underline ds-decoration-ui-stroke hover:ds-text-typo-primary hover:ds-decoration-ui-stroke-primary ds-block ds-cursor-pointer\">Yuvraj Singh</span>, <span class=\"ds-text-tight-m ds-font-medium ds-text-typo ds-underline ds-decoration-ui-stroke hover:ds-text-typo-primary hover:ds-decoration-ui-stroke-primary ds-block ds-cursor-pointer\">Yuvraj Singh</span>, <span class=\"ds-text-tight-m ds-font-medium ds-text-typo ds-underline ds-decoration-ui-stroke hover:ds-text-typo-primary hover:ds-decoration-ui-stroke-primary ds-block ds-cursor-pointer\">Kieron Pollard</span>, <span class=\"ds-text-tight-m ds-font-medium ds-text-typo ds-underline ds-decoration-ui-stroke hover:ds-text-typo-primary hover:ds-decoration-ui-stroke-primary ds-block ds-cursor-pointer\">Imrul Kayes</span>, <span class=\"ds-text-tight-m ds-font-medium ds-text-typo ds-underline ds-decoration-ui-stroke hover:ds-text-typo-primary hover:ds-decoration-ui-stroke-primary ds-block ds-cursor-pointer\">Dale Steyn</span>, <span class=\"ds-text-tight-m ds-font-medium ds-text-typo ds-underline ds-decoration-ui-stroke hover:ds-text-typo-primary hover:ds-decoration-ui-stroke-primary ds-block ds-cursor-pointer\">Imrul Kayes</span>, <span class=\"ds-text-tight-m ds-font-medium ds-text-typo ds-underline ds-decoration-ui-stroke hover:ds-text-typo-primary hover:ds-decoration-ui-stroke-primary ds-block ds-cursor-pointer\">Jean-Paul Duminy</span>, <span class=\"ds-text-tight-m ds-font-medium ds-text-typo ds-underline ds-decoration-ui-stroke hover:ds-text-typo-primary hover:ds-decoration-ui-stroke-primary ds-block ds-cursor-pointer\">James Tredwell</span>, <span class=\"ds-text-tight-m ds-font-medium ds-text-typo ds-underline ds-decoration-ui-stroke hover:ds-text-typo-primary hover:ds-decoration-ui-stroke-primary ds-block ds-cursor-pointer\">Paul Stirling</span>, <span class=\"ds-text-tight-m ds-font-medium ds-text-typo ds-underline ds-decoration-ui-stroke hover:ds-text-typo-primary hover:ds-decoration-ui-stroke-primary ds-block ds-cursor-pointer\">Lonwabo Tsotsobe</span>, <span class=\"ds-text-tight-m ds-font-medium ds-text-typo ds-underline ds-decoration-ui-stroke hover:ds-text-typo-primary hover:ds-decoration-ui-stroke-primary ds-block ds-cursor-pointer\">Yuvraj Singh</span>, <span class=\"ds-text-tight-m ds-font-medium ds-text-typo ds-underline ds-decoration-ui-stroke hover:ds-text-typo-primary hover:ds-decoration-ui-stroke-primary ds-block ds-cursor-pointer\">Mohammad Hafeez</span>, <span class=\"ds-text-tight-m ds-font-medium ds-text-typo ds-underline ds-decoration-ui-stroke hover:ds-text-typo-primary hover:ds-decoration-ui-stroke-primary ds-block ds-cursor-pointer\">Yuvraj Singh</span>, <span class=\"ds-text-tight-m ds-font-medium ds-text-typo ds-underline ds-decoration-ui-stroke hover:ds-text-typo-primary hover:ds-decoration-ui-stroke-primary ds-block ds-cursor-pointer\">Jacob Oram</span>, <span class=\"ds-text-tight-m ds-font-medium ds-text-typo ds-underline ds-decoration-ui-stroke hover:ds-text-typo-primary hover:ds-decoration-ui-stroke-primary ds-block ds-cursor-pointer\">Tillakaratne Dilshan</span>, <span class=\"ds-text-tight-m ds-font-medium ds-text-typo ds-underline ds-decoration-ui-stroke hover:ds-text-typo-primary hover:ds-decoration-ui-stroke-primary ds-block ds-cursor-pointer\">Kumar Sangakkara</span>, <span class=\"ds-text-tight-m ds-font-medium ds-text-typo ds-underline ds-decoration-ui-stroke hover:ds-text-typo-primary hover:ds-decoration-ui-stroke-primary ds-block ds-cursor-pointer\">Sachin Tendulkar</span>, <span class=\"ds-text-tight-m ds-font-medium ds-text-typo ds-underline ds-decoration-ui-stroke hover:ds-text-typo-primary hover:ds-decoration-ui-stroke-primary ds-block ds-cursor-pointer\">MS Dhoni</span>, <span class=\"ds-text-tight-m ds-font-medium ds-text-typo ds-underline ds-decoration-ui-stroke hover:ds-text-typo-primary hover:ds-decoration-ui-stroke-primary ds-block ds-cursor-pointer\">Yuvraj Singh</span>]\n"
     ]
    }
   ],
   "source": [
    "mom2=[a for sublist in mom for a in sublist if a]\n",
    "print(mom2)"
   ]
  },
  {
   "cell_type": "code",
   "execution_count": 47,
   "id": "93ed5093",
   "metadata": {
    "scrolled": true
   },
   "outputs": [
    {
     "name": "stdout",
     "output_type": "stream",
     "text": [
      "['Hamish Bennett', 'Mahela Jayawardene', 'Shane Watson', 'Umar Akmal', 'Mitchell Johnson', 'Shahid Afridi', 'Tatenda Taibu', 'Lasith Malinga', 'Shahid Afridi', 'Martin Guptill', 'Henry Osinde', 'Ross Taylor', 'Tillakaratne Dilshan', 'Brendon McCullum', 'Collins Obuya', 'Umar Gul', 'Shane Watson', 'Kumar Sangakkara', 'Umar Akmal', 'Craig Ervine', 'Virender Sehwag', 'Ryan ten Doeschate', 'AB de Villiers', 'Tamim Iqbal', 'Andrew Strauss', 'Kemar Roach', \"Kevin O'Brien\", 'AB de Villiers', 'Kemar Roach', 'Ravi Bopara', 'Yuvraj Singh', 'Yuvraj Singh', 'Kieron Pollard', 'Imrul Kayes', 'Dale Steyn', 'Imrul Kayes', 'Jean-Paul Duminy', 'James Tredwell', 'Paul Stirling', 'Lonwabo Tsotsobe', 'Yuvraj Singh', 'Mohammad Hafeez', 'Yuvraj Singh', 'Jacob Oram', 'Tillakaratne Dilshan', 'Kumar Sangakkara', 'Sachin Tendulkar', 'MS Dhoni', 'Yuvraj Singh']\n"
     ]
    }
   ],
   "source": [
    "mom3=[a.text for a in mom2]\n",
    "print(mom3)"
   ]
  },
  {
   "cell_type": "code",
   "execution_count": 50,
   "id": "9957b9a7",
   "metadata": {},
   "outputs": [
    {
     "data": {
      "text/plain": [
       "['Hamish Bennett',\n",
       " 'Mahela Jayawardene',\n",
       " 'Shane Watson',\n",
       " 'Umar Akmal',\n",
       " 'Mitchell Johnson',\n",
       " 'Shahid Afridi',\n",
       " 'Tatenda Taibu',\n",
       " 'Lasith Malinga',\n",
       " 'Shahid Afridi',\n",
       " 'Martin Guptill',\n",
       " 'No man of the match',\n",
       " 'Henry Osinde',\n",
       " 'Ross Taylor',\n",
       " 'Tillakaratne Dilshan',\n",
       " 'Brendon McCullum',\n",
       " 'Collins Obuya',\n",
       " 'Umar Gul',\n",
       " 'Shane Watson',\n",
       " 'Kumar Sangakkara',\n",
       " 'Umar Akmal',\n",
       " 'Craig Ervine',\n",
       " 'Virender Sehwag',\n",
       " 'Ryan ten Doeschate',\n",
       " 'AB de Villiers',\n",
       " 'Tamim Iqbal',\n",
       " 'Andrew Strauss',\n",
       " 'Kemar Roach',\n",
       " \"Kevin O'Brien\",\n",
       " 'AB de Villiers',\n",
       " 'Kemar Roach',\n",
       " 'Ravi Bopara',\n",
       " 'Yuvraj Singh',\n",
       " 'Yuvraj Singh',\n",
       " 'Kieron Pollard',\n",
       " 'Imrul Kayes',\n",
       " 'Dale Steyn',\n",
       " 'Imrul Kayes',\n",
       " 'Jean-Paul Duminy',\n",
       " 'James Tredwell',\n",
       " 'Paul Stirling',\n",
       " 'Lonwabo Tsotsobe',\n",
       " 'Yuvraj Singh',\n",
       " 'Mohammad Hafeez',\n",
       " 'Yuvraj Singh',\n",
       " 'Jacob Oram',\n",
       " 'Tillakaratne Dilshan',\n",
       " 'Kumar Sangakkara',\n",
       " 'Sachin Tendulkar',\n",
       " 'MS Dhoni',\n",
       " 'Yuvraj Singh']"
      ]
     },
     "execution_count": 50,
     "metadata": {},
     "output_type": "execute_result"
    }
   ],
   "source": [
    "i9=mom3.index('Martin Guptill')\n",
    "mom3.insert(i9+1,'No man of the match')\n",
    "mom3"
   ]
  },
  {
   "cell_type": "code",
   "execution_count": 53,
   "id": "5609a42a",
   "metadata": {},
   "outputs": [
    {
     "data": {
      "text/plain": [
       "['Hamish Bennett',\n",
       " 'Mahela Jayawardene',\n",
       " 'Shane Watson',\n",
       " 'Umar Akmal',\n",
       " 'Mitchell Johnson',\n",
       " 'Shahid Afridi',\n",
       " 'Tatenda Taibu',\n",
       " 'Lasith Malinga',\n",
       " 'Shahid Afridi',\n",
       " 'Martin Guptill',\n",
       " 'No man of the match',\n",
       " 'Henry Osinde',\n",
       " 'Ross Taylor',\n",
       " 'Tillakaratne Dilshan',\n",
       " 'Brendon McCullum',\n",
       " 'Collins Obuya',\n",
       " 'Umar Gul',\n",
       " 'Shane Watson',\n",
       " 'Kumar Sangakkara',\n",
       " 'Umar Akmal',\n",
       " 'Craig Ervine',\n",
       " 'Virender Sehwag',\n",
       " 'Ryan ten Doeschate',\n",
       " 'AB de Villiers',\n",
       " 'Tamim Iqbal',\n",
       " 'Andrew Strauss',\n",
       " 'Kemar Roach',\n",
       " \"Kevin O'Brien\",\n",
       " 'AB de Villiers',\n",
       " 'Kemar Roach',\n",
       " 'Ravi Bopara',\n",
       " 'Yuvraj Singh',\n",
       " 'Yuvraj Singh',\n",
       " 'Kieron Pollard',\n",
       " 'Imrul Kayes',\n",
       " 'Dale Steyn',\n",
       " 'Imrul Kayes',\n",
       " 'Jean-Paul Duminy',\n",
       " 'James Tredwell',\n",
       " 'Paul Stirling',\n",
       " 'Lonwabo Tsotsobe',\n",
       " 'Yuvraj Singh',\n",
       " 'Mohammad Hafeez',\n",
       " 'Yuvraj Singh',\n",
       " 'Jacob Oram',\n",
       " 'Tillakaratne Dilshan',\n",
       " 'Kumar Sangakkara',\n",
       " 'Sachin Tendulkar',\n",
       " 'MS Dhoni']"
      ]
     },
     "execution_count": 53,
     "metadata": {},
     "output_type": "execute_result"
    }
   ],
   "source": [
    "mom3.pop()\n",
    "mom3"
   ]
  },
  {
   "cell_type": "code",
   "execution_count": 52,
   "id": "72e9a899",
   "metadata": {},
   "outputs": [
    {
     "data": {
      "text/plain": [
       "['Yuvraj Singh']"
      ]
     },
     "execution_count": 52,
     "metadata": {},
     "output_type": "execute_result"
    }
   ],
   "source": [
    "mos=mom3[-1]\n",
    "mos=[mos]\n",
    "mos"
   ]
  },
  {
   "cell_type": "code",
   "execution_count": 60,
   "id": "47d55c2d",
   "metadata": {},
   "outputs": [
    {
     "data": {
      "text/plain": [
       "[nan,\n",
       " nan,\n",
       " nan,\n",
       " nan,\n",
       " nan,\n",
       " nan,\n",
       " nan,\n",
       " nan,\n",
       " nan,\n",
       " nan,\n",
       " nan,\n",
       " nan,\n",
       " nan,\n",
       " nan,\n",
       " nan,\n",
       " nan,\n",
       " nan,\n",
       " nan,\n",
       " nan,\n",
       " nan,\n",
       " nan,\n",
       " nan,\n",
       " nan,\n",
       " nan,\n",
       " nan,\n",
       " nan,\n",
       " nan,\n",
       " nan,\n",
       " nan,\n",
       " nan,\n",
       " nan,\n",
       " nan,\n",
       " nan,\n",
       " nan,\n",
       " nan,\n",
       " nan,\n",
       " nan,\n",
       " nan,\n",
       " nan,\n",
       " nan,\n",
       " nan,\n",
       " nan,\n",
       " nan,\n",
       " nan,\n",
       " nan,\n",
       " nan,\n",
       " nan,\n",
       " nan,\n",
       " nan,\n",
       " nan,\n",
       " nan,\n",
       " nan,\n",
       " nan,\n",
       " nan,\n",
       " nan,\n",
       " nan,\n",
       " nan,\n",
       " nan,\n",
       " nan,\n",
       " nan,\n",
       " nan,\n",
       " nan,\n",
       " 'Yuvraj Singh']"
      ]
     },
     "execution_count": 60,
     "metadata": {},
     "output_type": "execute_result"
    }
   ],
   "source": [
    "man_of_series=[math.nan]*62+mos\n",
    "man_of_series"
   ]
  },
  {
   "cell_type": "code",
   "execution_count": 48,
   "id": "57d425b5",
   "metadata": {},
   "outputs": [
    {
     "data": {
      "text/plain": [
       "'MS Dhoni'"
      ]
     },
     "execution_count": 48,
     "metadata": {},
     "output_type": "execute_result"
    }
   ],
   "source": [
    "res1=requests.get(\"https://www.espncricinfo.com/series/icc-cricket-world-cup-2010-11-381449/india-vs-sri-lanka-final-433606/full-scorecard\",headers=headers)\n",
    "soup=BeautifulSoup(res1.text,'lxml')\n",
    "a_tag = soup.find('span',class_=\"ds-text-tight-m ds-font-medium ds-text-typo ds-underline ds-decoration-ui-stroke hover:ds-text-typo-primary hover:ds-decoration-ui-stroke-primary ds-block ds-cursor-pointer\")\n",
    "a_tag.text"
   ]
  },
  {
   "cell_type": "code",
   "execution_count": 54,
   "id": "b517c94d",
   "metadata": {},
   "outputs": [
    {
     "data": {
      "text/plain": [
       "63"
      ]
     },
     "execution_count": 54,
     "metadata": {},
     "output_type": "execute_result"
    }
   ],
   "source": [
    "len(scorebat_second)"
   ]
  },
  {
   "cell_type": "code",
   "execution_count": 55,
   "id": "1aaa5b04",
   "metadata": {},
   "outputs": [
    {
     "data": {
      "text/plain": [
       "49"
      ]
     },
     "execution_count": 55,
     "metadata": {},
     "output_type": "execute_result"
    }
   ],
   "source": [
    "len(mom3)"
   ]
  },
  {
   "cell_type": "code",
   "execution_count": 56,
   "id": "dc0a2af9",
   "metadata": {},
   "outputs": [
    {
     "data": {
      "text/plain": [
       "[nan, nan, nan, nan, 1, 2, 3, 4]"
      ]
     },
     "execution_count": 56,
     "metadata": {},
     "output_type": "execute_result"
    }
   ],
   "source": [
    "import math \n",
    "a1=[1,2,3,4]\n",
    "my_list=[math.nan]*4+a1\n",
    "my_list"
   ]
  },
  {
   "cell_type": "code",
   "execution_count": 57,
   "id": "7085e046",
   "metadata": {},
   "outputs": [
    {
     "data": {
      "text/plain": [
       "[nan,\n",
       " nan,\n",
       " nan,\n",
       " nan,\n",
       " nan,\n",
       " nan,\n",
       " nan,\n",
       " nan,\n",
       " nan,\n",
       " nan,\n",
       " nan,\n",
       " nan,\n",
       " nan,\n",
       " nan,\n",
       " 'Hamish Bennett',\n",
       " 'Mahela Jayawardene',\n",
       " 'Shane Watson',\n",
       " 'Umar Akmal',\n",
       " 'Mitchell Johnson',\n",
       " 'Shahid Afridi',\n",
       " 'Tatenda Taibu',\n",
       " 'Lasith Malinga',\n",
       " 'Shahid Afridi',\n",
       " 'Martin Guptill',\n",
       " 'No man of the match',\n",
       " 'Henry Osinde',\n",
       " 'Ross Taylor',\n",
       " 'Tillakaratne Dilshan',\n",
       " 'Brendon McCullum',\n",
       " 'Collins Obuya',\n",
       " 'Umar Gul',\n",
       " 'Shane Watson',\n",
       " 'Kumar Sangakkara',\n",
       " 'Umar Akmal',\n",
       " 'Craig Ervine',\n",
       " 'Virender Sehwag',\n",
       " 'Ryan ten Doeschate',\n",
       " 'AB de Villiers',\n",
       " 'Tamim Iqbal',\n",
       " 'Andrew Strauss',\n",
       " 'Kemar Roach',\n",
       " \"Kevin O'Brien\",\n",
       " 'AB de Villiers',\n",
       " 'Kemar Roach',\n",
       " 'Ravi Bopara',\n",
       " 'Yuvraj Singh',\n",
       " 'Yuvraj Singh',\n",
       " 'Kieron Pollard',\n",
       " 'Imrul Kayes',\n",
       " 'Dale Steyn',\n",
       " 'Imrul Kayes',\n",
       " 'Jean-Paul Duminy',\n",
       " 'James Tredwell',\n",
       " 'Paul Stirling',\n",
       " 'Lonwabo Tsotsobe',\n",
       " 'Yuvraj Singh',\n",
       " 'Mohammad Hafeez',\n",
       " 'Yuvraj Singh',\n",
       " 'Jacob Oram',\n",
       " 'Tillakaratne Dilshan',\n",
       " 'Kumar Sangakkara',\n",
       " 'Sachin Tendulkar',\n",
       " 'MS Dhoni']"
      ]
     },
     "execution_count": 57,
     "metadata": {},
     "output_type": "execute_result"
    }
   ],
   "source": [
    "import math\n",
    "ae=len(scorebat_second)-len(mom3)\n",
    "man_o_match=[math.nan]*ae+mom3\n",
    "man_o_match"
   ]
  },
  {
   "cell_type": "code",
   "execution_count": 58,
   "id": "1d2aaa3e",
   "metadata": {},
   "outputs": [
    {
     "data": {
      "text/plain": [
       "63"
      ]
     },
     "execution_count": 58,
     "metadata": {},
     "output_type": "execute_result"
    }
   ],
   "source": [
    "len(man_o_match)"
   ]
  },
  {
   "cell_type": "code",
   "execution_count": 62,
   "id": "b30f1309",
   "metadata": {},
   "outputs": [
    {
     "data": {
      "text/html": [
       "<div>\n",
       "<style scoped>\n",
       "    .dataframe tbody tr th:only-of-type {\n",
       "        vertical-align: middle;\n",
       "    }\n",
       "\n",
       "    .dataframe tbody tr th {\n",
       "        vertical-align: top;\n",
       "    }\n",
       "\n",
       "    .dataframe thead th {\n",
       "        text-align: right;\n",
       "    }\n",
       "</style>\n",
       "<table border=\"1\" class=\"dataframe\">\n",
       "  <thead>\n",
       "    <tr style=\"text-align: right;\">\n",
       "      <th></th>\n",
       "      <th>Dates</th>\n",
       "      <th>Ground</th>\n",
       "      <th>Team_That_BattedFirst</th>\n",
       "      <th>Team_That_Batted_Second</th>\n",
       "      <th>Score_Of_First_batting_team</th>\n",
       "      <th>Score_of_Second_batting_team</th>\n",
       "      <th>Man_of_match</th>\n",
       "      <th>Man_of_series</th>\n",
       "      <th>Results</th>\n",
       "    </tr>\n",
       "  </thead>\n",
       "  <tbody>\n",
       "    <tr>\n",
       "      <th>0</th>\n",
       "      <td>12 February 2011</td>\n",
       "      <td>R. Premadasa Stadium, Colombo</td>\n",
       "      <td>West Indies</td>\n",
       "      <td>Kenya</td>\n",
       "      <td>253/8</td>\n",
       "      <td>192</td>\n",
       "      <td>NaN</td>\n",
       "      <td>NaN</td>\n",
       "      <td>West Indies won by 61 runs</td>\n",
       "    </tr>\n",
       "    <tr>\n",
       "      <th>1</th>\n",
       "      <td>12 February 2011</td>\n",
       "      <td>Singhalese Sports Club Cricket Ground, Colombo</td>\n",
       "      <td>Sri Lanka</td>\n",
       "      <td>Netherlands</td>\n",
       "      <td>351/5</td>\n",
       "      <td>195</td>\n",
       "      <td>NaN</td>\n",
       "      <td>NaN</td>\n",
       "      <td>Sri Lanka won by 156 runs</td>\n",
       "    </tr>\n",
       "    <tr>\n",
       "      <th>2</th>\n",
       "      <td>12 February 2011 (D/N)</td>\n",
       "      <td>Zohur Ahmed Chowdhury Stadium, Chittagong</td>\n",
       "      <td>Canada</td>\n",
       "      <td>Bangladesh</td>\n",
       "      <td>112</td>\n",
       "      <td>113/1</td>\n",
       "      <td>NaN</td>\n",
       "      <td>NaN</td>\n",
       "      <td>Bangladesh won by 9 wickets</td>\n",
       "    </tr>\n",
       "    <tr>\n",
       "      <th>3</th>\n",
       "      <td>12 February 2011 (D/N)</td>\n",
       "      <td>Vidarbha Cricket Association Stadium, Nagpur</td>\n",
       "      <td>New Zealand</td>\n",
       "      <td>Ireland</td>\n",
       "      <td>311/6</td>\n",
       "      <td>279</td>\n",
       "      <td>NaN</td>\n",
       "      <td>NaN</td>\n",
       "      <td>New Zealand won by 32 runs</td>\n",
       "    </tr>\n",
       "    <tr>\n",
       "      <th>4</th>\n",
       "      <td>12 February 2011 (D/N)</td>\n",
       "      <td>M. A. Chidambaram Stadium, Chennai</td>\n",
       "      <td>Zimbabwe</td>\n",
       "      <td>South Africa</td>\n",
       "      <td>152</td>\n",
       "      <td>153/2</td>\n",
       "      <td>NaN</td>\n",
       "      <td>NaN</td>\n",
       "      <td>South Africa won by 8 wickets</td>\n",
       "    </tr>\n",
       "    <tr>\n",
       "      <th>...</th>\n",
       "      <td>...</td>\n",
       "      <td>...</td>\n",
       "      <td>...</td>\n",
       "      <td>...</td>\n",
       "      <td>...</td>\n",
       "      <td>...</td>\n",
       "      <td>...</td>\n",
       "      <td>...</td>\n",
       "      <td>...</td>\n",
       "    </tr>\n",
       "    <tr>\n",
       "      <th>58</th>\n",
       "      <td>25 March 2011 (D/N)</td>\n",
       "      <td>Sher-e-Bangla National Cricket Stadium, Dhaka</td>\n",
       "      <td>New Zealand</td>\n",
       "      <td>South Africa</td>\n",
       "      <td>221/8</td>\n",
       "      <td>172</td>\n",
       "      <td>Jacob Oram</td>\n",
       "      <td>NaN</td>\n",
       "      <td>New Zealand won by 49 runs</td>\n",
       "    </tr>\n",
       "    <tr>\n",
       "      <th>59</th>\n",
       "      <td>26 March 2011 (D/N)</td>\n",
       "      <td>R. Premadasa Stadium, Colombo</td>\n",
       "      <td>England</td>\n",
       "      <td>Sri Lanka</td>\n",
       "      <td>229/6</td>\n",
       "      <td>231/0</td>\n",
       "      <td>Tillakaratne Dilshan</td>\n",
       "      <td>NaN</td>\n",
       "      <td>Sri Lanka won by 10 wickets</td>\n",
       "    </tr>\n",
       "    <tr>\n",
       "      <th>60</th>\n",
       "      <td>29 March 2011</td>\n",
       "      <td>R. Premadasa Stadium, Colombo</td>\n",
       "      <td>New Zealand</td>\n",
       "      <td>Sri Lanka</td>\n",
       "      <td>217</td>\n",
       "      <td>220/5</td>\n",
       "      <td>Kumar Sangakkara</td>\n",
       "      <td>NaN</td>\n",
       "      <td>Sri Lanka won by 5 wickets</td>\n",
       "    </tr>\n",
       "    <tr>\n",
       "      <th>61</th>\n",
       "      <td>30 March 2011 (D/N)</td>\n",
       "      <td>Punjab Cricket Association Stadium, Mohali</td>\n",
       "      <td>India</td>\n",
       "      <td>Pakistan</td>\n",
       "      <td>260/9</td>\n",
       "      <td>231</td>\n",
       "      <td>Sachin Tendulkar</td>\n",
       "      <td>NaN</td>\n",
       "      <td>India won by 29 runs</td>\n",
       "    </tr>\n",
       "    <tr>\n",
       "      <th>62</th>\n",
       "      <td>2 April 2011 (D/N)</td>\n",
       "      <td>Wankhede Stadium, Mumbai</td>\n",
       "      <td>Sri Lanka</td>\n",
       "      <td>India</td>\n",
       "      <td>274/6</td>\n",
       "      <td>277/4</td>\n",
       "      <td>MS Dhoni</td>\n",
       "      <td>Yuvraj Singh</td>\n",
       "      <td>India won by 6 wickets</td>\n",
       "    </tr>\n",
       "  </tbody>\n",
       "</table>\n",
       "<p>63 rows × 9 columns</p>\n",
       "</div>"
      ],
      "text/plain": [
       "                     Dates                                          Ground  \\\n",
       "0        12 February 2011                    R. Premadasa Stadium, Colombo   \n",
       "1        12 February 2011   Singhalese Sports Club Cricket Ground, Colombo   \n",
       "2   12 February 2011 (D/N)       Zohur Ahmed Chowdhury Stadium, Chittagong   \n",
       "3   12 February 2011 (D/N)    Vidarbha Cricket Association Stadium, Nagpur   \n",
       "4   12 February 2011 (D/N)              M. A. Chidambaram Stadium, Chennai   \n",
       "..                     ...                                             ...   \n",
       "58     25 March 2011 (D/N)   Sher-e-Bangla National Cricket Stadium, Dhaka   \n",
       "59     26 March 2011 (D/N)                   R. Premadasa Stadium, Colombo   \n",
       "60          29 March 2011                    R. Premadasa Stadium, Colombo   \n",
       "61     30 March 2011 (D/N)      Punjab Cricket Association Stadium, Mohali   \n",
       "62      2 April 2011 (D/N)                        Wankhede Stadium, Mumbai   \n",
       "\n",
       "   Team_That_BattedFirst Team_That_Batted_Second Score_Of_First_batting_team  \\\n",
       "0            West Indies                   Kenya                       253/8   \n",
       "1              Sri Lanka             Netherlands                       351/5   \n",
       "2                 Canada              Bangladesh                         112   \n",
       "3            New Zealand                 Ireland                       311/6   \n",
       "4               Zimbabwe            South Africa                         152   \n",
       "..                   ...                     ...                         ...   \n",
       "58           New Zealand            South Africa                       221/8   \n",
       "59               England               Sri Lanka                       229/6   \n",
       "60           New Zealand               Sri Lanka                         217   \n",
       "61                 India                Pakistan                       260/9   \n",
       "62             Sri Lanka                   India                       274/6   \n",
       "\n",
       "   Score_of_Second_batting_team          Man_of_match Man_of_series  \\\n",
       "0                           192                   NaN           NaN   \n",
       "1                           195                   NaN           NaN   \n",
       "2                         113/1                   NaN           NaN   \n",
       "3                           279                   NaN           NaN   \n",
       "4                         153/2                   NaN           NaN   \n",
       "..                          ...                   ...           ...   \n",
       "58                          172            Jacob Oram           NaN   \n",
       "59                        231/0  Tillakaratne Dilshan           NaN   \n",
       "60                        220/5      Kumar Sangakkara           NaN   \n",
       "61                          231      Sachin Tendulkar           NaN   \n",
       "62                        277/4              MS Dhoni  Yuvraj Singh   \n",
       "\n",
       "                          Results  \n",
       "0      West Indies won by 61 runs  \n",
       "1       Sri Lanka won by 156 runs  \n",
       "2     Bangladesh won by 9 wickets  \n",
       "3      New Zealand won by 32 runs  \n",
       "4   South Africa won by 8 wickets  \n",
       "..                            ...  \n",
       "58     New Zealand won by 49 runs  \n",
       "59    Sri Lanka won by 10 wickets  \n",
       "60     Sri Lanka won by 5 wickets  \n",
       "61           India won by 29 runs  \n",
       "62         India won by 6 wickets  \n",
       "\n",
       "[63 rows x 9 columns]"
      ]
     },
     "execution_count": 62,
     "metadata": {},
     "output_type": "execute_result"
    }
   ],
   "source": [
    "import pandas as pd \n",
    "df1=pd.DataFrame({\n",
    "    'Dates':date_of_match,\n",
    "    'Ground':an2,\n",
    "    'Team_That_BattedFirst':teambat_first,\n",
    "    'Team_That_Batted_Second':teambat_second,\n",
    "    'Score_Of_First_batting_team':scorebat_first,\n",
    "    'Score_of_Second_batting_team':scorebat_second,\n",
    "    'Man_of_match':man_o_match,\n",
    "    'Man_of_series':man_of_series,\n",
    "    'Results':results,\n",
    "})\n",
    "df1"
   ]
  },
  {
   "cell_type": "code",
   "execution_count": 63,
   "id": "f88e9a49",
   "metadata": {},
   "outputs": [],
   "source": [
    "df1.to_csv(\"D:/2011_cricketWorldCup_details.csv\",index=False)"
   ]
  },
  {
   "cell_type": "code",
   "execution_count": null,
   "id": "71465b8b",
   "metadata": {},
   "outputs": [],
   "source": []
  }
 ],
 "metadata": {
  "kernelspec": {
   "display_name": "Python 3 (ipykernel)",
   "language": "python",
   "name": "python3"
  },
  "language_info": {
   "codemirror_mode": {
    "name": "ipython",
    "version": 3
   },
   "file_extension": ".py",
   "mimetype": "text/x-python",
   "name": "python",
   "nbconvert_exporter": "python",
   "pygments_lexer": "ipython3",
   "version": "3.9.13"
  }
 },
 "nbformat": 4,
 "nbformat_minor": 5
}
